{
 "cells": [
  {
   "cell_type": "markdown",
   "metadata": {
    "colab_type": "text",
    "id": "kTV0ZIVetG_f"
   },
   "source": [
    "# Revolut ML Engineer NLP Challenge\n",
    "\n",
    "## Notebook for bulding the predictive model"
   ]
  },
  {
   "cell_type": "code",
   "execution_count": 0,
   "metadata": {
    "colab": {
     "base_uri": "https://localhost:8080/",
     "height": 71
    },
    "colab_type": "code",
    "id": "DixbZIpftE0Y",
    "outputId": "a9f2796a-9d03-4f6a-cc96-fa9db16307bf"
   },
   "outputs": [
    {
     "name": "stderr",
     "output_type": "stream",
     "text": [
      "/usr/local/lib/python3.6/dist-packages/statsmodels/tools/_testing.py:19: FutureWarning: pandas.util.testing is deprecated. Use the functions in the public API at pandas.testing instead.\n",
      "  import pandas.util.testing as tm\n"
     ]
    }
   ],
   "source": [
    "import string\n",
    "import json\n",
    "import re\n",
    "from tqdm import tqdm\n",
    "from nltk.corpus import stopwords\n",
    "\n",
    "import pandas as pd\n",
    "import numpy as np\n",
    "import seaborn as sns\n",
    "import matplotlib.pyplot as plt\n",
    "%matplotlib inline"
   ]
  },
  {
   "cell_type": "code",
   "execution_count": 0,
   "metadata": {
    "colab": {},
    "colab_type": "code",
    "id": "LAZSlGKguQMp"
   },
   "outputs": [],
   "source": [
    "tqdm.pandas()"
   ]
  },
  {
   "cell_type": "code",
   "execution_count": 0,
   "metadata": {
    "colab": {
     "base_uri": "https://localhost:8080/",
     "height": 34
    },
    "colab_type": "code",
    "id": "y39jY2b-tGQL",
    "outputId": "323cff35-0300-42ad-aea5-ba107c2876d8"
   },
   "outputs": [
    {
     "name": "stdout",
     "output_type": "stream",
     "text": [
      "Drive already mounted at /content/gdrive; to attempt to forcibly remount, call drive.mount(\"/content/gdrive\", force_remount=True).\n"
     ]
    }
   ],
   "source": [
    "from google.colab import drive\n",
    "drive.mount('/content/gdrive')"
   ]
  },
  {
   "cell_type": "code",
   "execution_count": 0,
   "metadata": {
    "colab": {
     "base_uri": "https://localhost:8080/",
     "height": 68
    },
    "colab_type": "code",
    "id": "L3Ohw3EvtWg4",
    "outputId": "ebb57817-cbfa-49ed-a912-5af5ccbe1505"
   },
   "outputs": [
    {
     "name": "stdout",
     "output_type": "stream",
     "text": [
      "[nltk_data] Downloading package stopwords to /root/nltk_data...\n",
      "[nltk_data]   Package stopwords is already up-to-date!\n"
     ]
    },
    {
     "data": {
      "text/plain": [
       "True"
      ]
     },
     "execution_count": 4,
     "metadata": {
      "tags": []
     },
     "output_type": "execute_result"
    }
   ],
   "source": [
    "import nltk\n",
    "nltk.download(\"stopwords\")"
   ]
  },
  {
   "cell_type": "code",
   "execution_count": 0,
   "metadata": {
    "colab": {},
    "colab_type": "code",
    "id": "z9xaIvPjteZI"
   },
   "outputs": [],
   "source": [
    "stop_words = set(stopwords.words(\"english\"))"
   ]
  },
  {
   "cell_type": "markdown",
   "metadata": {
    "colab_type": "text",
    "id": "h31IHTdqtv3n"
   },
   "source": [
    "### Reading the datasets in pandas dataframe. We will read only users and products data that we identified in exploratory analysis"
   ]
  },
  {
   "cell_type": "code",
   "execution_count": 0,
   "metadata": {
    "colab": {
     "base_uri": "https://localhost:8080/",
     "height": 71
    },
    "colab_type": "code",
    "id": "Lp9dZHh6tiN5",
    "outputId": "54b20908-cbb0-463d-9f1a-dd34df0c3e95"
   },
   "outputs": [
    {
     "name": "stderr",
     "output_type": "stream",
     "text": [
      "/usr/local/lib/python3.6/dist-packages/IPython/core/interactiveshell.py:2718: DtypeWarning: Columns (2) have mixed types.Specify dtype option on import or set low_memory=False.\n",
      "  interactivity=interactivity, compiler=compiler, result=result)\n"
     ]
    }
   ],
   "source": [
    "users_df = pd.read_csv(\"/content/gdrive/My Drive/Revolut-challenge/data/complaints_users.csv\")\n",
    "products_df = pd.read_csv(\"/content/gdrive/My Drive/Revolut-challenge/data/products.csv\")"
   ]
  },
  {
   "cell_type": "markdown",
   "metadata": {
    "colab_type": "text",
    "id": "FZrjEdCvty_p"
   },
   "source": [
    "Remove the NaN values from Products dataframe"
   ]
  },
  {
   "cell_type": "code",
   "execution_count": 0,
   "metadata": {
    "colab": {},
    "colab_type": "code",
    "id": "YksL4XvXtsyB"
   },
   "outputs": [],
   "source": [
    "products_df.loc[products_df.MAIN_PRODUCT == 'Payday loan', \"SUB_PRODUCT\"] = \"Payday loan NaN\"\n",
    "products_df.loc[products_df.MAIN_PRODUCT == 'Credit reporting', \"SUB_PRODUCT\"] = \"Credit reporting NaN\"\n",
    "products_df.loc[products_df.MAIN_PRODUCT == 'Credit card', \"SUB_PRODUCT\"] = \"Credit card NaN\""
   ]
  },
  {
   "cell_type": "markdown",
   "metadata": {
    "colab_type": "text",
    "id": "EajIKi4it1x6"
   },
   "source": [
    "### Let's join the users dataframe with the products dataframe to get one single dataframe"
   ]
  },
  {
   "cell_type": "code",
   "execution_count": 0,
   "metadata": {
    "colab": {},
    "colab_type": "code",
    "id": "-JTXZA8wt1JW"
   },
   "outputs": [],
   "source": [
    "df = users_df.join(products_df.set_index('PRODUCT_ID'), on='PRODUCT_ID')"
   ]
  },
  {
   "cell_type": "code",
   "execution_count": 0,
   "metadata": {
    "colab": {},
    "colab_type": "code",
    "id": "_aGaZPD1t4aS"
   },
   "outputs": [],
   "source": [
    "# Select required columns only\n",
    "cols = ['COMPLAINT_ID', 'COMPLAINT_TEXT', 'PRODUCT_ID', 'MAIN_PRODUCT', 'SUB_PRODUCT']\n",
    "df = df[cols]"
   ]
  },
  {
   "cell_type": "markdown",
   "metadata": {
    "colab_type": "text",
    "id": "AKwRSHXft8YI"
   },
   "source": [
    "## Handling data imbalance\n",
    "Let's identify the product ids with less than 500 number of records"
   ]
  },
  {
   "cell_type": "code",
   "execution_count": 0,
   "metadata": {
    "colab": {
     "base_uri": "https://localhost:8080/",
     "height": 1000
    },
    "colab_type": "code",
    "id": "L7WmEgYlt5p6",
    "outputId": "b04327b1-a948-429a-eb9b-b2f97721feb7"
   },
   "outputs": [
    {
     "name": "stdout",
     "output_type": "stream",
     "text": [
      "No. of Product Ids with less than 500 records: 39\n"
     ]
    },
    {
     "data": {
      "text/html": [
       "<div>\n",
       "<style scoped>\n",
       "    .dataframe tbody tr th:only-of-type {\n",
       "        vertical-align: middle;\n",
       "    }\n",
       "\n",
       "    .dataframe tbody tr th {\n",
       "        vertical-align: top;\n",
       "    }\n",
       "\n",
       "    .dataframe thead th {\n",
       "        text-align: right;\n",
       "    }\n",
       "</style>\n",
       "<table border=\"1\" class=\"dataframe\">\n",
       "  <thead>\n",
       "    <tr style=\"text-align: right;\">\n",
       "      <th></th>\n",
       "      <th>PRODUCT_ID</th>\n",
       "      <th>MAIN_PRODUCT</th>\n",
       "      <th>SUB_PRODUCT</th>\n",
       "      <th>COUNT</th>\n",
       "    </tr>\n",
       "  </thead>\n",
       "  <tbody>\n",
       "    <tr>\n",
       "      <th>0</th>\n",
       "      <td>0</td>\n",
       "      <td>Bank account or service</td>\n",
       "      <td>(CD) Certificate of deposit</td>\n",
       "      <td>274</td>\n",
       "    </tr>\n",
       "    <tr>\n",
       "      <th>1</th>\n",
       "      <td>1</td>\n",
       "      <td>Bank account or service</td>\n",
       "      <td>Cashing a check without an account</td>\n",
       "      <td>134</td>\n",
       "    </tr>\n",
       "    <tr>\n",
       "      <th>5</th>\n",
       "      <td>5</td>\n",
       "      <td>Checking or savings account</td>\n",
       "      <td>CD (Certificate of Deposit)</td>\n",
       "      <td>229</td>\n",
       "    </tr>\n",
       "    <tr>\n",
       "      <th>8</th>\n",
       "      <td>8</td>\n",
       "      <td>Checking or savings account</td>\n",
       "      <td>Personal line of credit</td>\n",
       "      <td>12</td>\n",
       "    </tr>\n",
       "    <tr>\n",
       "      <th>11</th>\n",
       "      <td>11</td>\n",
       "      <td>Consumer Loan</td>\n",
       "      <td>Pawn loan</td>\n",
       "      <td>34</td>\n",
       "    </tr>\n",
       "    <tr>\n",
       "      <th>12</th>\n",
       "      <td>12</td>\n",
       "      <td>Consumer Loan</td>\n",
       "      <td>Personal line of credit</td>\n",
       "      <td>44</td>\n",
       "    </tr>\n",
       "    <tr>\n",
       "      <th>13</th>\n",
       "      <td>13</td>\n",
       "      <td>Consumer Loan</td>\n",
       "      <td>Title loan</td>\n",
       "      <td>199</td>\n",
       "    </tr>\n",
       "    <tr>\n",
       "      <th>18</th>\n",
       "      <td>18</td>\n",
       "      <td>Credit card or prepaid card</td>\n",
       "      <td>Gift card</td>\n",
       "      <td>103</td>\n",
       "    </tr>\n",
       "    <tr>\n",
       "      <th>19</th>\n",
       "      <td>19</td>\n",
       "      <td>Credit card or prepaid card</td>\n",
       "      <td>Government benefit card</td>\n",
       "      <td>189</td>\n",
       "    </tr>\n",
       "    <tr>\n",
       "      <th>20</th>\n",
       "      <td>20</td>\n",
       "      <td>Credit card or prepaid card</td>\n",
       "      <td>Payroll card</td>\n",
       "      <td>91</td>\n",
       "    </tr>\n",
       "    <tr>\n",
       "      <th>22</th>\n",
       "      <td>22</td>\n",
       "      <td>Credit card or prepaid card</td>\n",
       "      <td>Student prepaid card</td>\n",
       "      <td>2</td>\n",
       "    </tr>\n",
       "    <tr>\n",
       "      <th>24</th>\n",
       "      <td>24</td>\n",
       "      <td>Credit reporting, credit repair services, or o...</td>\n",
       "      <td>Conventional home mortgage</td>\n",
       "      <td>1</td>\n",
       "    </tr>\n",
       "    <tr>\n",
       "      <th>25</th>\n",
       "      <td>25</td>\n",
       "      <td>Credit reporting, credit repair services, or o...</td>\n",
       "      <td>Credit repair services</td>\n",
       "      <td>457</td>\n",
       "    </tr>\n",
       "    <tr>\n",
       "      <th>46</th>\n",
       "      <td>46</td>\n",
       "      <td>Money transfer, virtual currency, or money ser...</td>\n",
       "      <td>Check cashing service</td>\n",
       "      <td>89</td>\n",
       "    </tr>\n",
       "    <tr>\n",
       "      <th>47</th>\n",
       "      <td>47</td>\n",
       "      <td>Money transfer, virtual currency, or money ser...</td>\n",
       "      <td>Debt settlement</td>\n",
       "      <td>56</td>\n",
       "    </tr>\n",
       "    <tr>\n",
       "      <th>49</th>\n",
       "      <td>49</td>\n",
       "      <td>Money transfer, virtual currency, or money ser...</td>\n",
       "      <td>Foreign currency exchange</td>\n",
       "      <td>67</td>\n",
       "    </tr>\n",
       "    <tr>\n",
       "      <th>52</th>\n",
       "      <td>52</td>\n",
       "      <td>Money transfer, virtual currency, or money ser...</td>\n",
       "      <td>Money order</td>\n",
       "      <td>92</td>\n",
       "    </tr>\n",
       "    <tr>\n",
       "      <th>53</th>\n",
       "      <td>53</td>\n",
       "      <td>Money transfer, virtual currency, or money ser...</td>\n",
       "      <td>Refund anticipation check</td>\n",
       "      <td>49</td>\n",
       "    </tr>\n",
       "    <tr>\n",
       "      <th>54</th>\n",
       "      <td>54</td>\n",
       "      <td>Money transfer, virtual currency, or money ser...</td>\n",
       "      <td>Traveler's check or cashier's check</td>\n",
       "      <td>96</td>\n",
       "    </tr>\n",
       "    <tr>\n",
       "      <th>68</th>\n",
       "      <td>68</td>\n",
       "      <td>Other financial service</td>\n",
       "      <td>Check cashing</td>\n",
       "      <td>54</td>\n",
       "    </tr>\n",
       "    <tr>\n",
       "      <th>69</th>\n",
       "      <td>69</td>\n",
       "      <td>Other financial service</td>\n",
       "      <td>Credit repair</td>\n",
       "      <td>39</td>\n",
       "    </tr>\n",
       "    <tr>\n",
       "      <th>70</th>\n",
       "      <td>70</td>\n",
       "      <td>Other financial service</td>\n",
       "      <td>Debt settlement</td>\n",
       "      <td>109</td>\n",
       "    </tr>\n",
       "    <tr>\n",
       "      <th>71</th>\n",
       "      <td>71</td>\n",
       "      <td>Other financial service</td>\n",
       "      <td>Foreign currency exchange</td>\n",
       "      <td>16</td>\n",
       "    </tr>\n",
       "    <tr>\n",
       "      <th>72</th>\n",
       "      <td>72</td>\n",
       "      <td>Other financial service</td>\n",
       "      <td>Money order</td>\n",
       "      <td>35</td>\n",
       "    </tr>\n",
       "    <tr>\n",
       "      <th>73</th>\n",
       "      <td>73</td>\n",
       "      <td>Other financial service</td>\n",
       "      <td>Refund anticipation check</td>\n",
       "      <td>17</td>\n",
       "    </tr>\n",
       "    <tr>\n",
       "      <th>74</th>\n",
       "      <td>74</td>\n",
       "      <td>Other financial service</td>\n",
       "      <td>Traveler’s/Cashier’s checks</td>\n",
       "      <td>22</td>\n",
       "    </tr>\n",
       "    <tr>\n",
       "      <th>76</th>\n",
       "      <td>76</td>\n",
       "      <td>Payday loan, title loan, or personal loan</td>\n",
       "      <td>Pawn loan</td>\n",
       "      <td>13</td>\n",
       "    </tr>\n",
       "    <tr>\n",
       "      <th>79</th>\n",
       "      <td>79</td>\n",
       "      <td>Payday loan, title loan, or personal loan</td>\n",
       "      <td>Title loan</td>\n",
       "      <td>475</td>\n",
       "    </tr>\n",
       "    <tr>\n",
       "      <th>81</th>\n",
       "      <td>81</td>\n",
       "      <td>Prepaid card</td>\n",
       "      <td>Electronic Benefit Transfer / EBT card</td>\n",
       "      <td>3</td>\n",
       "    </tr>\n",
       "    <tr>\n",
       "      <th>83</th>\n",
       "      <td>83</td>\n",
       "      <td>Prepaid card</td>\n",
       "      <td>Gift or merchant card</td>\n",
       "      <td>154</td>\n",
       "    </tr>\n",
       "    <tr>\n",
       "      <th>84</th>\n",
       "      <td>84</td>\n",
       "      <td>Prepaid card</td>\n",
       "      <td>Government benefit payment card</td>\n",
       "      <td>80</td>\n",
       "    </tr>\n",
       "    <tr>\n",
       "      <th>85</th>\n",
       "      <td>85</td>\n",
       "      <td>Prepaid card</td>\n",
       "      <td>ID prepaid card</td>\n",
       "      <td>101</td>\n",
       "    </tr>\n",
       "    <tr>\n",
       "      <th>86</th>\n",
       "      <td>86</td>\n",
       "      <td>Prepaid card</td>\n",
       "      <td>Mobile wallet</td>\n",
       "      <td>85</td>\n",
       "    </tr>\n",
       "    <tr>\n",
       "      <th>87</th>\n",
       "      <td>87</td>\n",
       "      <td>Prepaid card</td>\n",
       "      <td>Other special purpose card</td>\n",
       "      <td>58</td>\n",
       "    </tr>\n",
       "    <tr>\n",
       "      <th>88</th>\n",
       "      <td>88</td>\n",
       "      <td>Prepaid card</td>\n",
       "      <td>Payroll card</td>\n",
       "      <td>220</td>\n",
       "    </tr>\n",
       "    <tr>\n",
       "      <th>89</th>\n",
       "      <td>89</td>\n",
       "      <td>Prepaid card</td>\n",
       "      <td>Transit card</td>\n",
       "      <td>19</td>\n",
       "    </tr>\n",
       "    <tr>\n",
       "      <th>95</th>\n",
       "      <td>95</td>\n",
       "      <td>Vehicle loan or lease</td>\n",
       "      <td>Title loan</td>\n",
       "      <td>4</td>\n",
       "    </tr>\n",
       "    <tr>\n",
       "      <th>96</th>\n",
       "      <td>96</td>\n",
       "      <td>Virtual currency</td>\n",
       "      <td>Domestic (US) money transfer</td>\n",
       "      <td>15</td>\n",
       "    </tr>\n",
       "    <tr>\n",
       "      <th>97</th>\n",
       "      <td>97</td>\n",
       "      <td>Virtual currency</td>\n",
       "      <td>International money transfer</td>\n",
       "      <td>1</td>\n",
       "    </tr>\n",
       "  </tbody>\n",
       "</table>\n",
       "</div>"
      ],
      "text/plain": [
       "    PRODUCT_ID                                       MAIN_PRODUCT  \\\n",
       "0            0                            Bank account or service   \n",
       "1            1                            Bank account or service   \n",
       "5            5                        Checking or savings account   \n",
       "8            8                        Checking or savings account   \n",
       "11          11                                      Consumer Loan   \n",
       "12          12                                      Consumer Loan   \n",
       "13          13                                      Consumer Loan   \n",
       "18          18                        Credit card or prepaid card   \n",
       "19          19                        Credit card or prepaid card   \n",
       "20          20                        Credit card or prepaid card   \n",
       "22          22                        Credit card or prepaid card   \n",
       "24          24  Credit reporting, credit repair services, or o...   \n",
       "25          25  Credit reporting, credit repair services, or o...   \n",
       "46          46  Money transfer, virtual currency, or money ser...   \n",
       "47          47  Money transfer, virtual currency, or money ser...   \n",
       "49          49  Money transfer, virtual currency, or money ser...   \n",
       "52          52  Money transfer, virtual currency, or money ser...   \n",
       "53          53  Money transfer, virtual currency, or money ser...   \n",
       "54          54  Money transfer, virtual currency, or money ser...   \n",
       "68          68                            Other financial service   \n",
       "69          69                            Other financial service   \n",
       "70          70                            Other financial service   \n",
       "71          71                            Other financial service   \n",
       "72          72                            Other financial service   \n",
       "73          73                            Other financial service   \n",
       "74          74                            Other financial service   \n",
       "76          76          Payday loan, title loan, or personal loan   \n",
       "79          79          Payday loan, title loan, or personal loan   \n",
       "81          81                                       Prepaid card   \n",
       "83          83                                       Prepaid card   \n",
       "84          84                                       Prepaid card   \n",
       "85          85                                       Prepaid card   \n",
       "86          86                                       Prepaid card   \n",
       "87          87                                       Prepaid card   \n",
       "88          88                                       Prepaid card   \n",
       "89          89                                       Prepaid card   \n",
       "95          95                              Vehicle loan or lease   \n",
       "96          96                                   Virtual currency   \n",
       "97          97                                   Virtual currency   \n",
       "\n",
       "                               SUB_PRODUCT  COUNT  \n",
       "0              (CD) Certificate of deposit    274  \n",
       "1       Cashing a check without an account    134  \n",
       "5              CD (Certificate of Deposit)    229  \n",
       "8                  Personal line of credit     12  \n",
       "11                               Pawn loan     34  \n",
       "12                 Personal line of credit     44  \n",
       "13                              Title loan    199  \n",
       "18                               Gift card    103  \n",
       "19                 Government benefit card    189  \n",
       "20                            Payroll card     91  \n",
       "22                    Student prepaid card      2  \n",
       "24              Conventional home mortgage      1  \n",
       "25                  Credit repair services    457  \n",
       "46                   Check cashing service     89  \n",
       "47                         Debt settlement     56  \n",
       "49               Foreign currency exchange     67  \n",
       "52                             Money order     92  \n",
       "53               Refund anticipation check     49  \n",
       "54     Traveler's check or cashier's check     96  \n",
       "68                           Check cashing     54  \n",
       "69                           Credit repair     39  \n",
       "70                         Debt settlement    109  \n",
       "71               Foreign currency exchange     16  \n",
       "72                             Money order     35  \n",
       "73               Refund anticipation check     17  \n",
       "74             Traveler’s/Cashier’s checks     22  \n",
       "76                               Pawn loan     13  \n",
       "79                              Title loan    475  \n",
       "81  Electronic Benefit Transfer / EBT card      3  \n",
       "83                   Gift or merchant card    154  \n",
       "84         Government benefit payment card     80  \n",
       "85                         ID prepaid card    101  \n",
       "86                           Mobile wallet     85  \n",
       "87              Other special purpose card     58  \n",
       "88                            Payroll card    220  \n",
       "89                            Transit card     19  \n",
       "95                              Title loan      4  \n",
       "96            Domestic (US) money transfer     15  \n",
       "97            International money transfer      1  "
      ]
     },
     "execution_count": 10,
     "metadata": {
      "tags": []
     },
     "output_type": "execute_result"
    }
   ],
   "source": [
    "# Creating a dataframe with record counts for each product-id\n",
    "count_df = pd.DataFrame({'COUNT': df.groupby(['PRODUCT_ID', 'MAIN_PRODUCT', 'SUB_PRODUCT']).size()}).reset_index()\n",
    "\n",
    "pd.set_option('display.max_rows', 500)\n",
    "pd.set_option('display.max_columns', 500)\n",
    "\n",
    "print(f'No. of Product Ids with less than 500 records: {count_df[count_df.COUNT < 500].shape[0]}')\n",
    "count_df[count_df.COUNT < 500].head(100)"
   ]
  },
  {
   "cell_type": "code",
   "execution_count": 0,
   "metadata": {
    "colab": {},
    "colab_type": "code",
    "id": "jPBjDMT2t7bD"
   },
   "outputs": [],
   "source": [
    "prd_ids = list(count_df[count_df.COUNT < 500].PRODUCT_ID.values)\n",
    "df = df[~df.PRODUCT_ID.isin(prd_ids)]"
   ]
  },
  {
   "cell_type": "code",
   "execution_count": 0,
   "metadata": {
    "colab": {
     "base_uri": "https://localhost:8080/",
     "height": 1000
    },
    "colab_type": "code",
    "id": "ZSo9H-WWuFm4",
    "outputId": "8a29c522-2b36-4237-e18f-2a95ef7629d9"
   },
   "outputs": [
    {
     "data": {
      "image/png": "[encoded data removed]",
      "text/plain": [
       "<Figure size 1440x1440 with 1 Axes>"
      ]
     },
     "metadata": {
      "needs_background": "light",
      "tags": []
     },
     "output_type": "display_data"
    }
   ],
   "source": [
    "plt.figure(figsize=(20,20))\n",
    "sns.set(style=\"darkgrid\")\n",
    "ax = sns.countplot(x=\"PRODUCT_ID\", data=df)"
   ]
  },
  {
   "cell_type": "code",
   "execution_count": 0,
   "metadata": {
    "colab": {
     "base_uri": "https://localhost:8080/",
     "height": 204
    },
    "colab_type": "code",
    "id": "V4mE2DuzuGtK",
    "outputId": "7e14b718-29a5-4344-a5e1-6b6fc0bf08ea"
   },
   "outputs": [
    {
     "data": {
      "text/html": [
       "<div>\n",
       "<style scoped>\n",
       "    .dataframe tbody tr th:only-of-type {\n",
       "        vertical-align: middle;\n",
       "    }\n",
       "\n",
       "    .dataframe tbody tr th {\n",
       "        vertical-align: top;\n",
       "    }\n",
       "\n",
       "    .dataframe thead th {\n",
       "        text-align: right;\n",
       "    }\n",
       "</style>\n",
       "<table border=\"1\" class=\"dataframe\">\n",
       "  <thead>\n",
       "    <tr style=\"text-align: right;\">\n",
       "      <th></th>\n",
       "      <th>COMPLAINT_ID</th>\n",
       "      <th>COMPLAINT_TEXT</th>\n",
       "      <th>PRODUCT_ID</th>\n",
       "      <th>MAIN_PRODUCT</th>\n",
       "      <th>SUB_PRODUCT</th>\n",
       "    </tr>\n",
       "  </thead>\n",
       "  <tbody>\n",
       "    <tr>\n",
       "      <th>0</th>\n",
       "      <td>3184195</td>\n",
       "      <td>XXXX  and Transunion are reporting incorrectly...</td>\n",
       "      <td>26</td>\n",
       "      <td>Credit reporting, credit repair services, or o...</td>\n",
       "      <td>Credit reporting</td>\n",
       "    </tr>\n",
       "    <tr>\n",
       "      <th>1</th>\n",
       "      <td>3184692</td>\n",
       "      <td>XXXX and Transunion are reporting incorrectly ...</td>\n",
       "      <td>26</td>\n",
       "      <td>Credit reporting, credit repair services, or o...</td>\n",
       "      <td>Credit reporting</td>\n",
       "    </tr>\n",
       "    <tr>\n",
       "      <th>2</th>\n",
       "      <td>3183613</td>\n",
       "      <td>XXXX, XXXX, and Experian need to remove the co...</td>\n",
       "      <td>26</td>\n",
       "      <td>Credit reporting, credit repair services, or o...</td>\n",
       "      <td>Credit reporting</td>\n",
       "    </tr>\n",
       "    <tr>\n",
       "      <th>3</th>\n",
       "      <td>3182430</td>\n",
       "      <td>3 company with inconsistencies, violations and...</td>\n",
       "      <td>26</td>\n",
       "      <td>Credit reporting, credit repair services, or o...</td>\n",
       "      <td>Credit reporting</td>\n",
       "    </tr>\n",
       "    <tr>\n",
       "      <th>4</th>\n",
       "      <td>3182218</td>\n",
       "      <td>I have a personal loan from Patriot finance. T...</td>\n",
       "      <td>26</td>\n",
       "      <td>Credit reporting, credit repair services, or o...</td>\n",
       "      <td>Credit reporting</td>\n",
       "    </tr>\n",
       "  </tbody>\n",
       "</table>\n",
       "</div>"
      ],
      "text/plain": [
       "   COMPLAINT_ID                                     COMPLAINT_TEXT  \\\n",
       "0       3184195  XXXX  and Transunion are reporting incorrectly...   \n",
       "1       3184692  XXXX and Transunion are reporting incorrectly ...   \n",
       "2       3183613  XXXX, XXXX, and Experian need to remove the co...   \n",
       "3       3182430  3 company with inconsistencies, violations and...   \n",
       "4       3182218  I have a personal loan from Patriot finance. T...   \n",
       "\n",
       "   PRODUCT_ID                                       MAIN_PRODUCT  \\\n",
       "0          26  Credit reporting, credit repair services, or o...   \n",
       "1          26  Credit reporting, credit repair services, or o...   \n",
       "2          26  Credit reporting, credit repair services, or o...   \n",
       "3          26  Credit reporting, credit repair services, or o...   \n",
       "4          26  Credit reporting, credit repair services, or o...   \n",
       "\n",
       "        SUB_PRODUCT  \n",
       "0  Credit reporting  \n",
       "1  Credit reporting  \n",
       "2  Credit reporting  \n",
       "3  Credit reporting  \n",
       "4  Credit reporting  "
      ]
     },
     "execution_count": 13,
     "metadata": {
      "tags": []
     },
     "output_type": "execute_result"
    }
   ],
   "source": [
    "df.head()"
   ]
  },
  {
   "cell_type": "code",
   "execution_count": 0,
   "metadata": {
    "colab": {
     "base_uri": "https://localhost:8080/",
     "height": 34
    },
    "colab_type": "code",
    "id": "F3ViPIpEuKGA",
    "outputId": "d037cf12-2874-40c0-d957-009b3bfd8dc8"
   },
   "outputs": [
    {
     "name": "stderr",
     "output_type": "stream",
     "text": [
      "100%|██████████| 379328/379328 [03:33<00:00, 1774.45it/s]\n"
     ]
    }
   ],
   "source": [
    "# Converting the text into lower case\n",
    "def clean_text(text):\n",
    "    text = text.lower()\n",
    "    text = re.sub(\"(@[A-Za-z0-9]+)|([^0-9A-Za-z \\t])|(\\w+:\\/\\/\\S+)|(\\d+)\",\" \",text)\n",
    "    text = re.sub(\"xxxx+\", \"\", text)\n",
    "    for word in stop_words:\n",
    "        token = \" \" + word + \" \"\n",
    "        text = text.replace(token, \" \")\n",
    "    text = re.compile(\" +\").sub(\" \", text)\n",
    "    return text\n",
    "    \n",
    "df.COMPLAINT_TEXT = df.COMPLAINT_TEXT.progress_map(clean_text)"
   ]
  },
  {
   "cell_type": "code",
   "execution_count": 0,
   "metadata": {
    "colab": {
     "base_uri": "https://localhost:8080/",
     "height": 204
    },
    "colab_type": "code",
    "id": "lZNrou_YuSjK",
    "outputId": "f98efbe3-98a5-4367-d560-f795ae9a09ee"
   },
   "outputs": [
    {
     "data": {
      "text/html": [
       "<div>\n",
       "<style scoped>\n",
       "    .dataframe tbody tr th:only-of-type {\n",
       "        vertical-align: middle;\n",
       "    }\n",
       "\n",
       "    .dataframe tbody tr th {\n",
       "        vertical-align: top;\n",
       "    }\n",
       "\n",
       "    .dataframe thead th {\n",
       "        text-align: right;\n",
       "    }\n",
       "</style>\n",
       "<table border=\"1\" class=\"dataframe\">\n",
       "  <thead>\n",
       "    <tr style=\"text-align: right;\">\n",
       "      <th></th>\n",
       "      <th>COMPLAINT_ID</th>\n",
       "      <th>COMPLAINT_TEXT</th>\n",
       "      <th>PRODUCT_ID</th>\n",
       "      <th>MAIN_PRODUCT</th>\n",
       "      <th>SUB_PRODUCT</th>\n",
       "    </tr>\n",
       "  </thead>\n",
       "  <tbody>\n",
       "    <tr>\n",
       "      <th>0</th>\n",
       "      <td>3184195</td>\n",
       "      <td>transunion reporting incorrectly days past du...</td>\n",
       "      <td>26</td>\n",
       "      <td>Credit reporting, credit repair services, or o...</td>\n",
       "      <td>Credit reporting</td>\n",
       "    </tr>\n",
       "    <tr>\n",
       "      <th>1</th>\n",
       "      <td>3184692</td>\n",
       "      <td>transunion reporting incorrectly days past du...</td>\n",
       "      <td>26</td>\n",
       "      <td>Credit reporting, credit repair services, or o...</td>\n",
       "      <td>Credit reporting</td>\n",
       "    </tr>\n",
       "    <tr>\n",
       "      <th>2</th>\n",
       "      <td>3183613</td>\n",
       "      <td>experian need remove collection account submi...</td>\n",
       "      <td>26</td>\n",
       "      <td>Credit reporting, credit repair services, or o...</td>\n",
       "      <td>Credit reporting</td>\n",
       "    </tr>\n",
       "    <tr>\n",
       "      <th>3</th>\n",
       "      <td>3182430</td>\n",
       "      <td>company inconsistencies violations double jeo...</td>\n",
       "      <td>26</td>\n",
       "      <td>Credit reporting, credit repair services, or o...</td>\n",
       "      <td>Credit reporting</td>\n",
       "    </tr>\n",
       "    <tr>\n",
       "      <th>4</th>\n",
       "      <td>3182218</td>\n",
       "      <td>i personal loan patriot finance incorrectly re...</td>\n",
       "      <td>26</td>\n",
       "      <td>Credit reporting, credit repair services, or o...</td>\n",
       "      <td>Credit reporting</td>\n",
       "    </tr>\n",
       "  </tbody>\n",
       "</table>\n",
       "</div>"
      ],
      "text/plain": [
       "   COMPLAINT_ID                                     COMPLAINT_TEXT  \\\n",
       "0       3184195   transunion reporting incorrectly days past du...   \n",
       "1       3184692   transunion reporting incorrectly days past du...   \n",
       "2       3183613   experian need remove collection account submi...   \n",
       "3       3182430   company inconsistencies violations double jeo...   \n",
       "4       3182218  i personal loan patriot finance incorrectly re...   \n",
       "\n",
       "   PRODUCT_ID                                       MAIN_PRODUCT  \\\n",
       "0          26  Credit reporting, credit repair services, or o...   \n",
       "1          26  Credit reporting, credit repair services, or o...   \n",
       "2          26  Credit reporting, credit repair services, or o...   \n",
       "3          26  Credit reporting, credit repair services, or o...   \n",
       "4          26  Credit reporting, credit repair services, or o...   \n",
       "\n",
       "        SUB_PRODUCT  \n",
       "0  Credit reporting  \n",
       "1  Credit reporting  \n",
       "2  Credit reporting  \n",
       "3  Credit reporting  \n",
       "4  Credit reporting  "
      ]
     },
     "execution_count": 15,
     "metadata": {
      "tags": []
     },
     "output_type": "execute_result"
    }
   ],
   "source": [
    "df.head()"
   ]
  },
  {
   "cell_type": "code",
   "execution_count": 0,
   "metadata": {
    "colab": {},
    "colab_type": "code",
    "id": "f_IUHIeLuVhD"
   },
   "outputs": [],
   "source": [
    "df['PRODUCT_ID'] = df.PRODUCT_ID.astype('str')\n",
    "df.set_index('COMPLAINT_ID', inplace=True)"
   ]
  },
  {
   "cell_type": "code",
   "execution_count": 0,
   "metadata": {
    "colab": {},
    "colab_type": "code",
    "id": "UM0q1KorvNKu"
   },
   "outputs": [],
   "source": [
    "prd_id_dict = {}\n",
    "for idx, label in enumerate(df.PRODUCT_ID.unique()):\n",
    "    prd_id_dict[label] = idx\n",
    "labels = df.PRODUCT_ID.values"
   ]
  },
  {
   "cell_type": "code",
   "execution_count": 0,
   "metadata": {
    "colab": {
     "base_uri": "https://localhost:8080/",
     "height": 235
    },
    "colab_type": "code",
    "id": "TlgzKKuEvYqD",
    "outputId": "0c57d7b0-e5fc-4fd9-f5a9-95c38c917205"
   },
   "outputs": [
    {
     "data": {
      "text/html": [
       "<div>\n",
       "<style scoped>\n",
       "    .dataframe tbody tr th:only-of-type {\n",
       "        vertical-align: middle;\n",
       "    }\n",
       "\n",
       "    .dataframe tbody tr th {\n",
       "        vertical-align: top;\n",
       "    }\n",
       "\n",
       "    .dataframe thead th {\n",
       "        text-align: right;\n",
       "    }\n",
       "</style>\n",
       "<table border=\"1\" class=\"dataframe\">\n",
       "  <thead>\n",
       "    <tr style=\"text-align: right;\">\n",
       "      <th></th>\n",
       "      <th>COMPLAINT_TEXT</th>\n",
       "      <th>PRODUCT_ID</th>\n",
       "      <th>MAIN_PRODUCT</th>\n",
       "      <th>SUB_PRODUCT</th>\n",
       "      <th>label</th>\n",
       "    </tr>\n",
       "    <tr>\n",
       "      <th>COMPLAINT_ID</th>\n",
       "      <th></th>\n",
       "      <th></th>\n",
       "      <th></th>\n",
       "      <th></th>\n",
       "      <th></th>\n",
       "    </tr>\n",
       "  </thead>\n",
       "  <tbody>\n",
       "    <tr>\n",
       "      <th>3184195</th>\n",
       "      <td>transunion reporting incorrectly days past du...</td>\n",
       "      <td>26</td>\n",
       "      <td>Credit reporting, credit repair services, or o...</td>\n",
       "      <td>Credit reporting</td>\n",
       "      <td>0</td>\n",
       "    </tr>\n",
       "    <tr>\n",
       "      <th>3184692</th>\n",
       "      <td>transunion reporting incorrectly days past du...</td>\n",
       "      <td>26</td>\n",
       "      <td>Credit reporting, credit repair services, or o...</td>\n",
       "      <td>Credit reporting</td>\n",
       "      <td>0</td>\n",
       "    </tr>\n",
       "    <tr>\n",
       "      <th>3183613</th>\n",
       "      <td>experian need remove collection account submi...</td>\n",
       "      <td>26</td>\n",
       "      <td>Credit reporting, credit repair services, or o...</td>\n",
       "      <td>Credit reporting</td>\n",
       "      <td>0</td>\n",
       "    </tr>\n",
       "    <tr>\n",
       "      <th>3182430</th>\n",
       "      <td>company inconsistencies violations double jeo...</td>\n",
       "      <td>26</td>\n",
       "      <td>Credit reporting, credit repair services, or o...</td>\n",
       "      <td>Credit reporting</td>\n",
       "      <td>0</td>\n",
       "    </tr>\n",
       "    <tr>\n",
       "      <th>3182218</th>\n",
       "      <td>i personal loan patriot finance incorrectly re...</td>\n",
       "      <td>26</td>\n",
       "      <td>Credit reporting, credit repair services, or o...</td>\n",
       "      <td>Credit reporting</td>\n",
       "      <td>0</td>\n",
       "    </tr>\n",
       "  </tbody>\n",
       "</table>\n",
       "</div>"
      ],
      "text/plain": [
       "                                                 COMPLAINT_TEXT PRODUCT_ID  \\\n",
       "COMPLAINT_ID                                                                 \n",
       "3184195        transunion reporting incorrectly days past du...         26   \n",
       "3184692        transunion reporting incorrectly days past du...         26   \n",
       "3183613        experian need remove collection account submi...         26   \n",
       "3182430        company inconsistencies violations double jeo...         26   \n",
       "3182218       i personal loan patriot finance incorrectly re...         26   \n",
       "\n",
       "                                                   MAIN_PRODUCT  \\\n",
       "COMPLAINT_ID                                                      \n",
       "3184195       Credit reporting, credit repair services, or o...   \n",
       "3184692       Credit reporting, credit repair services, or o...   \n",
       "3183613       Credit reporting, credit repair services, or o...   \n",
       "3182430       Credit reporting, credit repair services, or o...   \n",
       "3182218       Credit reporting, credit repair services, or o...   \n",
       "\n",
       "                   SUB_PRODUCT  label  \n",
       "COMPLAINT_ID                           \n",
       "3184195       Credit reporting      0  \n",
       "3184692       Credit reporting      0  \n",
       "3183613       Credit reporting      0  \n",
       "3182430       Credit reporting      0  \n",
       "3182218       Credit reporting      0  "
      ]
     },
     "execution_count": 18,
     "metadata": {
      "tags": []
     },
     "output_type": "execute_result"
    }
   ],
   "source": [
    "df['label'] = df.PRODUCT_ID.replace(prd_id_dict)\n",
    "df.head()"
   ]
  },
  {
   "cell_type": "code",
   "execution_count": 0,
   "metadata": {
    "colab": {},
    "colab_type": "code",
    "id": "M8E3i3v2vZ42"
   },
   "outputs": [],
   "source": [
    "from sklearn.model_selection import train_test_split\n",
    "X_train, X_val_test, y_train, y_val_test = train_test_split(\n",
    "    df.index.values,\n",
    "    df.label.values,\n",
    "    test_size=0.2,\n",
    "    random_state=17,\n",
    "    stratify=df.label.values\n",
    ")"
   ]
  },
  {
   "cell_type": "code",
   "execution_count": 0,
   "metadata": {
    "colab": {},
    "colab_type": "code",
    "id": "665mj2nDvbhG"
   },
   "outputs": [],
   "source": [
    "df_val_test = df.loc[X_val_test]"
   ]
  },
  {
   "cell_type": "code",
   "execution_count": 0,
   "metadata": {
    "colab": {
     "base_uri": "https://localhost:8080/",
     "height": 252
    },
    "colab_type": "code",
    "id": "W7rHqNKYvcsG",
    "outputId": "6eb4054a-08c3-4219-afc3-d1637fba3b4b"
   },
   "outputs": [
    {
     "name": "stdout",
     "output_type": "stream",
     "text": [
      "(75866, 5)\n"
     ]
    },
    {
     "data": {
      "text/html": [
       "<div>\n",
       "<style scoped>\n",
       "    .dataframe tbody tr th:only-of-type {\n",
       "        vertical-align: middle;\n",
       "    }\n",
       "\n",
       "    .dataframe tbody tr th {\n",
       "        vertical-align: top;\n",
       "    }\n",
       "\n",
       "    .dataframe thead th {\n",
       "        text-align: right;\n",
       "    }\n",
       "</style>\n",
       "<table border=\"1\" class=\"dataframe\">\n",
       "  <thead>\n",
       "    <tr style=\"text-align: right;\">\n",
       "      <th></th>\n",
       "      <th>COMPLAINT_TEXT</th>\n",
       "      <th>PRODUCT_ID</th>\n",
       "      <th>MAIN_PRODUCT</th>\n",
       "      <th>SUB_PRODUCT</th>\n",
       "      <th>label</th>\n",
       "    </tr>\n",
       "    <tr>\n",
       "      <th>COMPLAINT_ID</th>\n",
       "      <th></th>\n",
       "      <th></th>\n",
       "      <th></th>\n",
       "      <th></th>\n",
       "      <th></th>\n",
       "    </tr>\n",
       "  </thead>\n",
       "  <tbody>\n",
       "    <tr>\n",
       "      <th>2709323</th>\n",
       "      <td>beginning public record date collected credit ...</td>\n",
       "      <td>26</td>\n",
       "      <td>Credit reporting, credit repair services, or o...</td>\n",
       "      <td>Credit reporting</td>\n",
       "      <td>0</td>\n",
       "    </tr>\n",
       "    <tr>\n",
       "      <th>2441593</th>\n",
       "      <td>i withdrew cash local us b ank branch take ano...</td>\n",
       "      <td>2</td>\n",
       "      <td>Bank account or service</td>\n",
       "      <td>Checking account</td>\n",
       "      <td>40</td>\n",
       "    </tr>\n",
       "    <tr>\n",
       "      <th>1829090</th>\n",
       "      <td>my mortgage servicer ocwen flagged account nex...</td>\n",
       "      <td>59</td>\n",
       "      <td>Mortgage</td>\n",
       "      <td>Conventional fixed mortgage</td>\n",
       "      <td>45</td>\n",
       "    </tr>\n",
       "    <tr>\n",
       "      <th>1914797</th>\n",
       "      <td>transunion fails remove account transunion rep...</td>\n",
       "      <td>28</td>\n",
       "      <td>Credit reporting</td>\n",
       "      <td>Credit reporting NaN</td>\n",
       "      <td>35</td>\n",
       "    </tr>\n",
       "    <tr>\n",
       "      <th>2866898</th>\n",
       "      <td>i received statement debt provided contact sho...</td>\n",
       "      <td>32</td>\n",
       "      <td>Debt collection</td>\n",
       "      <td>Credit card debt</td>\n",
       "      <td>8</td>\n",
       "    </tr>\n",
       "  </tbody>\n",
       "</table>\n",
       "</div>"
      ],
      "text/plain": [
       "                                                 COMPLAINT_TEXT PRODUCT_ID  \\\n",
       "COMPLAINT_ID                                                                 \n",
       "2709323       beginning public record date collected credit ...         26   \n",
       "2441593       i withdrew cash local us b ank branch take ano...          2   \n",
       "1829090       my mortgage servicer ocwen flagged account nex...         59   \n",
       "1914797       transunion fails remove account transunion rep...         28   \n",
       "2866898       i received statement debt provided contact sho...         32   \n",
       "\n",
       "                                                   MAIN_PRODUCT  \\\n",
       "COMPLAINT_ID                                                      \n",
       "2709323       Credit reporting, credit repair services, or o...   \n",
       "2441593                                 Bank account or service   \n",
       "1829090                                                Mortgage   \n",
       "1914797                                        Credit reporting   \n",
       "2866898                                         Debt collection   \n",
       "\n",
       "                              SUB_PRODUCT  label  \n",
       "COMPLAINT_ID                                      \n",
       "2709323                  Credit reporting      0  \n",
       "2441593                  Checking account     40  \n",
       "1829090       Conventional fixed mortgage     45  \n",
       "1914797              Credit reporting NaN     35  \n",
       "2866898                  Credit card debt      8  "
      ]
     },
     "execution_count": 21,
     "metadata": {
      "tags": []
     },
     "output_type": "execute_result"
    }
   ],
   "source": [
    "print(df_val_test.shape)\n",
    "df_val_test.head()"
   ]
  },
  {
   "cell_type": "code",
   "execution_count": 0,
   "metadata": {
    "colab": {},
    "colab_type": "code",
    "id": "zWDrmxoyvd-8"
   },
   "outputs": [],
   "source": [
    "X_val, X_test, y_val, y_test = train_test_split(\n",
    "    df_val_test.index.values,\n",
    "    df_val_test.label.values,\n",
    "    test_size=0.5,\n",
    "    random_state=17,\n",
    "    stratify=df_val_test.label.values\n",
    ")"
   ]
  },
  {
   "cell_type": "code",
   "execution_count": 0,
   "metadata": {
    "colab": {},
    "colab_type": "code",
    "id": "yt5gn9g6vfwa"
   },
   "outputs": [],
   "source": [
    "df['data_type'] = ['not_set'] * df.shape[0]\n",
    "df.loc[X_train, 'data_type'] = 'train'\n",
    "df.loc[X_val, 'data_type'] = 'val'\n",
    "df.loc[X_test, 'data_type'] = 'test'"
   ]
  },
  {
   "cell_type": "code",
   "execution_count": 0,
   "metadata": {
    "colab": {
     "base_uri": "https://localhost:8080/",
     "height": 1000
    },
    "colab_type": "code",
    "id": "2nvVC1rtvgzb",
    "outputId": "5fd4a019-b583-4028-aee6-243779c43109"
   },
   "outputs": [
    {
     "data": {
      "text/html": [
       "<div>\n",
       "<style scoped>\n",
       "    .dataframe tbody tr th:only-of-type {\n",
       "        vertical-align: middle;\n",
       "    }\n",
       "\n",
       "    .dataframe tbody tr th {\n",
       "        vertical-align: top;\n",
       "    }\n",
       "\n",
       "    .dataframe thead th {\n",
       "        text-align: right;\n",
       "    }\n",
       "</style>\n",
       "<table border=\"1\" class=\"dataframe\">\n",
       "  <thead>\n",
       "    <tr style=\"text-align: right;\">\n",
       "      <th></th>\n",
       "      <th></th>\n",
       "      <th>COMPLAINT_TEXT</th>\n",
       "      <th>label</th>\n",
       "    </tr>\n",
       "    <tr>\n",
       "      <th>PRODUCT_ID</th>\n",
       "      <th>data_type</th>\n",
       "      <th></th>\n",
       "      <th></th>\n",
       "    </tr>\n",
       "  </thead>\n",
       "  <tbody>\n",
       "    <tr>\n",
       "      <th rowspan=\"3\" valign=\"top\">10</th>\n",
       "      <th>test</th>\n",
       "      <td>310</td>\n",
       "      <td>310</td>\n",
       "    </tr>\n",
       "    <tr>\n",
       "      <th>train</th>\n",
       "      <td>2475</td>\n",
       "      <td>2475</td>\n",
       "    </tr>\n",
       "    <tr>\n",
       "      <th>val</th>\n",
       "      <td>309</td>\n",
       "      <td>309</td>\n",
       "    </tr>\n",
       "    <tr>\n",
       "      <th rowspan=\"3\" valign=\"top\">14</th>\n",
       "      <th>test</th>\n",
       "      <td>96</td>\n",
       "      <td>96</td>\n",
       "    </tr>\n",
       "    <tr>\n",
       "      <th>train</th>\n",
       "      <td>770</td>\n",
       "      <td>770</td>\n",
       "    </tr>\n",
       "    <tr>\n",
       "      <th>val</th>\n",
       "      <td>96</td>\n",
       "      <td>96</td>\n",
       "    </tr>\n",
       "    <tr>\n",
       "      <th rowspan=\"3\" valign=\"top\">15</th>\n",
       "      <th>test</th>\n",
       "      <td>514</td>\n",
       "      <td>514</td>\n",
       "    </tr>\n",
       "    <tr>\n",
       "      <th>train</th>\n",
       "      <td>4113</td>\n",
       "      <td>4113</td>\n",
       "    </tr>\n",
       "    <tr>\n",
       "      <th>val</th>\n",
       "      <td>514</td>\n",
       "      <td>514</td>\n",
       "    </tr>\n",
       "    <tr>\n",
       "      <th rowspan=\"3\" valign=\"top\">16</th>\n",
       "      <th>test</th>\n",
       "      <td>1625</td>\n",
       "      <td>1625</td>\n",
       "    </tr>\n",
       "    <tr>\n",
       "      <th>train</th>\n",
       "      <td>12994</td>\n",
       "      <td>12994</td>\n",
       "    </tr>\n",
       "    <tr>\n",
       "      <th>val</th>\n",
       "      <td>1624</td>\n",
       "      <td>1624</td>\n",
       "    </tr>\n",
       "    <tr>\n",
       "      <th rowspan=\"3\" valign=\"top\">17</th>\n",
       "      <th>test</th>\n",
       "      <td>88</td>\n",
       "      <td>88</td>\n",
       "    </tr>\n",
       "    <tr>\n",
       "      <th>train</th>\n",
       "      <td>702</td>\n",
       "      <td>702</td>\n",
       "    </tr>\n",
       "    <tr>\n",
       "      <th>val</th>\n",
       "      <td>87</td>\n",
       "      <td>87</td>\n",
       "    </tr>\n",
       "    <tr>\n",
       "      <th rowspan=\"3\" valign=\"top\">2</th>\n",
       "      <th>test</th>\n",
       "      <td>1012</td>\n",
       "      <td>1012</td>\n",
       "    </tr>\n",
       "    <tr>\n",
       "      <th>train</th>\n",
       "      <td>8090</td>\n",
       "      <td>8090</td>\n",
       "    </tr>\n",
       "    <tr>\n",
       "      <th>val</th>\n",
       "      <td>1011</td>\n",
       "      <td>1011</td>\n",
       "    </tr>\n",
       "    <tr>\n",
       "      <th rowspan=\"3\" valign=\"top\">21</th>\n",
       "      <th>test</th>\n",
       "      <td>384</td>\n",
       "      <td>384</td>\n",
       "    </tr>\n",
       "    <tr>\n",
       "      <th>train</th>\n",
       "      <td>3070</td>\n",
       "      <td>3070</td>\n",
       "    </tr>\n",
       "    <tr>\n",
       "      <th>val</th>\n",
       "      <td>384</td>\n",
       "      <td>384</td>\n",
       "    </tr>\n",
       "    <tr>\n",
       "      <th rowspan=\"3\" valign=\"top\">23</th>\n",
       "      <th>test</th>\n",
       "      <td>1884</td>\n",
       "      <td>1884</td>\n",
       "    </tr>\n",
       "    <tr>\n",
       "      <th>train</th>\n",
       "      <td>15070</td>\n",
       "      <td>15070</td>\n",
       "    </tr>\n",
       "    <tr>\n",
       "      <th>val</th>\n",
       "      <td>1884</td>\n",
       "      <td>1884</td>\n",
       "    </tr>\n",
       "    <tr>\n",
       "      <th rowspan=\"3\" valign=\"top\">26</th>\n",
       "      <th>test</th>\n",
       "      <td>8999</td>\n",
       "      <td>8999</td>\n",
       "    </tr>\n",
       "    <tr>\n",
       "      <th>train</th>\n",
       "      <td>71995</td>\n",
       "      <td>71995</td>\n",
       "    </tr>\n",
       "    <tr>\n",
       "      <th>val</th>\n",
       "      <td>9000</td>\n",
       "      <td>9000</td>\n",
       "    </tr>\n",
       "    <tr>\n",
       "      <th rowspan=\"3\" valign=\"top\">27</th>\n",
       "      <th>test</th>\n",
       "      <td>176</td>\n",
       "      <td>176</td>\n",
       "    </tr>\n",
       "    <tr>\n",
       "      <th>train</th>\n",
       "      <td>1410</td>\n",
       "      <td>1410</td>\n",
       "    </tr>\n",
       "    <tr>\n",
       "      <th>val</th>\n",
       "      <td>177</td>\n",
       "      <td>177</td>\n",
       "    </tr>\n",
       "    <tr>\n",
       "      <th rowspan=\"3\" valign=\"top\">28</th>\n",
       "      <th>test</th>\n",
       "      <td>3159</td>\n",
       "      <td>3159</td>\n",
       "    </tr>\n",
       "    <tr>\n",
       "      <th>train</th>\n",
       "      <td>25270</td>\n",
       "      <td>25270</td>\n",
       "    </tr>\n",
       "    <tr>\n",
       "      <th>val</th>\n",
       "      <td>3159</td>\n",
       "      <td>3159</td>\n",
       "    </tr>\n",
       "    <tr>\n",
       "      <th rowspan=\"3\" valign=\"top\">29</th>\n",
       "      <th>test</th>\n",
       "      <td>107</td>\n",
       "      <td>107</td>\n",
       "    </tr>\n",
       "    <tr>\n",
       "      <th>train</th>\n",
       "      <td>851</td>\n",
       "      <td>851</td>\n",
       "    </tr>\n",
       "    <tr>\n",
       "      <th>val</th>\n",
       "      <td>106</td>\n",
       "      <td>106</td>\n",
       "    </tr>\n",
       "    <tr>\n",
       "      <th rowspan=\"3\" valign=\"top\">3</th>\n",
       "      <th>test</th>\n",
       "      <td>347</td>\n",
       "      <td>347</td>\n",
       "    </tr>\n",
       "    <tr>\n",
       "      <th>train</th>\n",
       "      <td>2782</td>\n",
       "      <td>2782</td>\n",
       "    </tr>\n",
       "    <tr>\n",
       "      <th>val</th>\n",
       "      <td>348</td>\n",
       "      <td>348</td>\n",
       "    </tr>\n",
       "    <tr>\n",
       "      <th rowspan=\"3\" valign=\"top\">30</th>\n",
       "      <th>test</th>\n",
       "      <td>166</td>\n",
       "      <td>166</td>\n",
       "    </tr>\n",
       "    <tr>\n",
       "      <th>train</th>\n",
       "      <td>1328</td>\n",
       "      <td>1328</td>\n",
       "    </tr>\n",
       "    <tr>\n",
       "      <th>val</th>\n",
       "      <td>166</td>\n",
       "      <td>166</td>\n",
       "    </tr>\n",
       "    <tr>\n",
       "      <th rowspan=\"3\" valign=\"top\">31</th>\n",
       "      <th>test</th>\n",
       "      <td>752</td>\n",
       "      <td>752</td>\n",
       "    </tr>\n",
       "    <tr>\n",
       "      <th>train</th>\n",
       "      <td>6016</td>\n",
       "      <td>6016</td>\n",
       "    </tr>\n",
       "    <tr>\n",
       "      <th>val</th>\n",
       "      <td>752</td>\n",
       "      <td>752</td>\n",
       "    </tr>\n",
       "    <tr>\n",
       "      <th rowspan=\"3\" valign=\"top\">32</th>\n",
       "      <th>test</th>\n",
       "      <td>1002</td>\n",
       "      <td>1002</td>\n",
       "    </tr>\n",
       "    <tr>\n",
       "      <th>train</th>\n",
       "      <td>8017</td>\n",
       "      <td>8017</td>\n",
       "    </tr>\n",
       "    <tr>\n",
       "      <th>val</th>\n",
       "      <td>1002</td>\n",
       "      <td>1002</td>\n",
       "    </tr>\n",
       "    <tr>\n",
       "      <th rowspan=\"3\" valign=\"top\">33</th>\n",
       "      <th>test</th>\n",
       "      <td>55</td>\n",
       "      <td>55</td>\n",
       "    </tr>\n",
       "    <tr>\n",
       "      <th>train</th>\n",
       "      <td>439</td>\n",
       "      <td>439</td>\n",
       "    </tr>\n",
       "    <tr>\n",
       "      <th>val</th>\n",
       "      <td>55</td>\n",
       "      <td>55</td>\n",
       "    </tr>\n",
       "    <tr>\n",
       "      <th rowspan=\"3\" valign=\"top\">34</th>\n",
       "      <th>test</th>\n",
       "      <td>80</td>\n",
       "      <td>80</td>\n",
       "    </tr>\n",
       "    <tr>\n",
       "      <th>train</th>\n",
       "      <td>636</td>\n",
       "      <td>636</td>\n",
       "    </tr>\n",
       "    <tr>\n",
       "      <th>val</th>\n",
       "      <td>79</td>\n",
       "      <td>79</td>\n",
       "    </tr>\n",
       "    <tr>\n",
       "      <th rowspan=\"3\" valign=\"top\">35</th>\n",
       "      <th>test</th>\n",
       "      <td>1688</td>\n",
       "      <td>1688</td>\n",
       "    </tr>\n",
       "    <tr>\n",
       "      <th>train</th>\n",
       "      <td>13510</td>\n",
       "      <td>13510</td>\n",
       "    </tr>\n",
       "    <tr>\n",
       "      <th>val</th>\n",
       "      <td>1689</td>\n",
       "      <td>1689</td>\n",
       "    </tr>\n",
       "    <tr>\n",
       "      <th rowspan=\"3\" valign=\"top\">36</th>\n",
       "      <th>test</th>\n",
       "      <td>699</td>\n",
       "      <td>699</td>\n",
       "    </tr>\n",
       "    <tr>\n",
       "      <th>train</th>\n",
       "      <td>5592</td>\n",
       "      <td>5592</td>\n",
       "    </tr>\n",
       "    <tr>\n",
       "      <th>val</th>\n",
       "      <td>699</td>\n",
       "      <td>699</td>\n",
       "    </tr>\n",
       "    <tr>\n",
       "      <th rowspan=\"3\" valign=\"top\">37</th>\n",
       "      <th>test</th>\n",
       "      <td>790</td>\n",
       "      <td>790</td>\n",
       "    </tr>\n",
       "    <tr>\n",
       "      <th>train</th>\n",
       "      <td>6314</td>\n",
       "      <td>6314</td>\n",
       "    </tr>\n",
       "    <tr>\n",
       "      <th>val</th>\n",
       "      <td>789</td>\n",
       "      <td>789</td>\n",
       "    </tr>\n",
       "    <tr>\n",
       "      <th rowspan=\"3\" valign=\"top\">38</th>\n",
       "      <th>test</th>\n",
       "      <td>91</td>\n",
       "      <td>91</td>\n",
       "    </tr>\n",
       "    <tr>\n",
       "      <th>train</th>\n",
       "      <td>726</td>\n",
       "      <td>726</td>\n",
       "    </tr>\n",
       "    <tr>\n",
       "      <th>val</th>\n",
       "      <td>90</td>\n",
       "      <td>90</td>\n",
       "    </tr>\n",
       "    <tr>\n",
       "      <th rowspan=\"3\" valign=\"top\">39</th>\n",
       "      <th>test</th>\n",
       "      <td>111</td>\n",
       "      <td>111</td>\n",
       "    </tr>\n",
       "    <tr>\n",
       "      <th>train</th>\n",
       "      <td>890</td>\n",
       "      <td>890</td>\n",
       "    </tr>\n",
       "    <tr>\n",
       "      <th>val</th>\n",
       "      <td>111</td>\n",
       "      <td>111</td>\n",
       "    </tr>\n",
       "    <tr>\n",
       "      <th rowspan=\"3\" valign=\"top\">4</th>\n",
       "      <th>test</th>\n",
       "      <td>88</td>\n",
       "      <td>88</td>\n",
       "    </tr>\n",
       "    <tr>\n",
       "      <th>train</th>\n",
       "      <td>710</td>\n",
       "      <td>710</td>\n",
       "    </tr>\n",
       "    <tr>\n",
       "      <th>val</th>\n",
       "      <td>89</td>\n",
       "      <td>89</td>\n",
       "    </tr>\n",
       "    <tr>\n",
       "      <th rowspan=\"3\" valign=\"top\">40</th>\n",
       "      <th>test</th>\n",
       "      <td>69</td>\n",
       "      <td>69</td>\n",
       "    </tr>\n",
       "    <tr>\n",
       "      <th>train</th>\n",
       "      <td>547</td>\n",
       "      <td>547</td>\n",
       "    </tr>\n",
       "    <tr>\n",
       "      <th>val</th>\n",
       "      <td>68</td>\n",
       "      <td>68</td>\n",
       "    </tr>\n",
       "    <tr>\n",
       "      <th rowspan=\"3\" valign=\"top\">41</th>\n",
       "      <th>test</th>\n",
       "      <td>1240</td>\n",
       "      <td>1240</td>\n",
       "    </tr>\n",
       "    <tr>\n",
       "      <th>train</th>\n",
       "      <td>9914</td>\n",
       "      <td>9914</td>\n",
       "    </tr>\n",
       "    <tr>\n",
       "      <th>val</th>\n",
       "      <td>1239</td>\n",
       "      <td>1239</td>\n",
       "    </tr>\n",
       "    <tr>\n",
       "      <th rowspan=\"3\" valign=\"top\">42</th>\n",
       "      <th>test</th>\n",
       "      <td>1338</td>\n",
       "      <td>1338</td>\n",
       "    </tr>\n",
       "    <tr>\n",
       "      <th>train</th>\n",
       "      <td>10708</td>\n",
       "      <td>10708</td>\n",
       "    </tr>\n",
       "    <tr>\n",
       "      <th>val</th>\n",
       "      <td>1339</td>\n",
       "      <td>1339</td>\n",
       "    </tr>\n",
       "    <tr>\n",
       "      <th rowspan=\"3\" valign=\"top\">43</th>\n",
       "      <th>test</th>\n",
       "      <td>206</td>\n",
       "      <td>206</td>\n",
       "    </tr>\n",
       "    <tr>\n",
       "      <th>train</th>\n",
       "      <td>1651</td>\n",
       "      <td>1651</td>\n",
       "    </tr>\n",
       "    <tr>\n",
       "      <th>val</th>\n",
       "      <td>207</td>\n",
       "      <td>207</td>\n",
       "    </tr>\n",
       "    <tr>\n",
       "      <th rowspan=\"3\" valign=\"top\">44</th>\n",
       "      <th>test</th>\n",
       "      <td>183</td>\n",
       "      <td>183</td>\n",
       "    </tr>\n",
       "    <tr>\n",
       "      <th>train</th>\n",
       "      <td>1459</td>\n",
       "      <td>1459</td>\n",
       "    </tr>\n",
       "    <tr>\n",
       "      <th>val</th>\n",
       "      <td>182</td>\n",
       "      <td>182</td>\n",
       "    </tr>\n",
       "    <tr>\n",
       "      <th rowspan=\"3\" valign=\"top\">45</th>\n",
       "      <th>test</th>\n",
       "      <td>80</td>\n",
       "      <td>80</td>\n",
       "    </tr>\n",
       "    <tr>\n",
       "      <th>train</th>\n",
       "      <td>642</td>\n",
       "      <td>642</td>\n",
       "    </tr>\n",
       "    <tr>\n",
       "      <th>val</th>\n",
       "      <td>80</td>\n",
       "      <td>80</td>\n",
       "    </tr>\n",
       "    <tr>\n",
       "      <th rowspan=\"3\" valign=\"top\">48</th>\n",
       "      <th>test</th>\n",
       "      <td>163</td>\n",
       "      <td>163</td>\n",
       "    </tr>\n",
       "    <tr>\n",
       "      <th>train</th>\n",
       "      <td>1309</td>\n",
       "      <td>1309</td>\n",
       "    </tr>\n",
       "    <tr>\n",
       "      <th>val</th>\n",
       "      <td>164</td>\n",
       "      <td>164</td>\n",
       "    </tr>\n",
       "    <tr>\n",
       "      <th rowspan=\"3\" valign=\"top\">50</th>\n",
       "      <th>test</th>\n",
       "      <td>79</td>\n",
       "      <td>79</td>\n",
       "    </tr>\n",
       "    <tr>\n",
       "      <th>train</th>\n",
       "      <td>633</td>\n",
       "      <td>633</td>\n",
       "    </tr>\n",
       "    <tr>\n",
       "      <th>val</th>\n",
       "      <td>79</td>\n",
       "      <td>79</td>\n",
       "    </tr>\n",
       "    <tr>\n",
       "      <th rowspan=\"3\" valign=\"top\">51</th>\n",
       "      <th>test</th>\n",
       "      <td>120</td>\n",
       "      <td>120</td>\n",
       "    </tr>\n",
       "    <tr>\n",
       "      <th>train</th>\n",
       "      <td>959</td>\n",
       "      <td>959</td>\n",
       "    </tr>\n",
       "    <tr>\n",
       "      <th>val</th>\n",
       "      <td>120</td>\n",
       "      <td>120</td>\n",
       "    </tr>\n",
       "    <tr>\n",
       "      <th rowspan=\"3\" valign=\"top\">55</th>\n",
       "      <th>test</th>\n",
       "      <td>139</td>\n",
       "      <td>139</td>\n",
       "    </tr>\n",
       "    <tr>\n",
       "      <th>train</th>\n",
       "      <td>1110</td>\n",
       "      <td>1110</td>\n",
       "    </tr>\n",
       "    <tr>\n",
       "      <th>val</th>\n",
       "      <td>139</td>\n",
       "      <td>139</td>\n",
       "    </tr>\n",
       "    <tr>\n",
       "      <th rowspan=\"3\" valign=\"top\">56</th>\n",
       "      <th>test</th>\n",
       "      <td>86</td>\n",
       "      <td>86</td>\n",
       "    </tr>\n",
       "    <tr>\n",
       "      <th>train</th>\n",
       "      <td>689</td>\n",
       "      <td>689</td>\n",
       "    </tr>\n",
       "    <tr>\n",
       "      <th>val</th>\n",
       "      <td>86</td>\n",
       "      <td>86</td>\n",
       "    </tr>\n",
       "    <tr>\n",
       "      <th rowspan=\"3\" valign=\"top\">57</th>\n",
       "      <th>test</th>\n",
       "      <td>63</td>\n",
       "      <td>63</td>\n",
       "    </tr>\n",
       "    <tr>\n",
       "      <th>train</th>\n",
       "      <td>509</td>\n",
       "      <td>509</td>\n",
       "    </tr>\n",
       "    <tr>\n",
       "      <th>val</th>\n",
       "      <td>64</td>\n",
       "      <td>64</td>\n",
       "    </tr>\n",
       "    <tr>\n",
       "      <th rowspan=\"3\" valign=\"top\">58</th>\n",
       "      <th>test</th>\n",
       "      <td>497</td>\n",
       "      <td>497</td>\n",
       "    </tr>\n",
       "    <tr>\n",
       "      <th>train</th>\n",
       "      <td>3980</td>\n",
       "      <td>3980</td>\n",
       "    </tr>\n",
       "    <tr>\n",
       "      <th>val</th>\n",
       "      <td>498</td>\n",
       "      <td>498</td>\n",
       "    </tr>\n",
       "    <tr>\n",
       "      <th rowspan=\"3\" valign=\"top\">59</th>\n",
       "      <th>test</th>\n",
       "      <td>1456</td>\n",
       "      <td>1456</td>\n",
       "    </tr>\n",
       "    <tr>\n",
       "      <th>train</th>\n",
       "      <td>11650</td>\n",
       "      <td>11650</td>\n",
       "    </tr>\n",
       "    <tr>\n",
       "      <th>val</th>\n",
       "      <td>1456</td>\n",
       "      <td>1456</td>\n",
       "    </tr>\n",
       "    <tr>\n",
       "      <th rowspan=\"3\" valign=\"top\">6</th>\n",
       "      <th>test</th>\n",
       "      <td>1071</td>\n",
       "      <td>1071</td>\n",
       "    </tr>\n",
       "    <tr>\n",
       "      <th>train</th>\n",
       "      <td>8567</td>\n",
       "      <td>8567</td>\n",
       "    </tr>\n",
       "    <tr>\n",
       "      <th>val</th>\n",
       "      <td>1071</td>\n",
       "      <td>1071</td>\n",
       "    </tr>\n",
       "    <tr>\n",
       "      <th rowspan=\"3\" valign=\"top\">60</th>\n",
       "      <th>test</th>\n",
       "      <td>1210</td>\n",
       "      <td>1210</td>\n",
       "    </tr>\n",
       "    <tr>\n",
       "      <th>train</th>\n",
       "      <td>9678</td>\n",
       "      <td>9678</td>\n",
       "    </tr>\n",
       "    <tr>\n",
       "      <th>val</th>\n",
       "      <td>1210</td>\n",
       "      <td>1210</td>\n",
       "    </tr>\n",
       "    <tr>\n",
       "      <th rowspan=\"3\" valign=\"top\">61</th>\n",
       "      <th>test</th>\n",
       "      <td>979</td>\n",
       "      <td>979</td>\n",
       "    </tr>\n",
       "    <tr>\n",
       "      <th>train</th>\n",
       "      <td>7830</td>\n",
       "      <td>7830</td>\n",
       "    </tr>\n",
       "    <tr>\n",
       "      <th>val</th>\n",
       "      <td>979</td>\n",
       "      <td>979</td>\n",
       "    </tr>\n",
       "    <tr>\n",
       "      <th rowspan=\"3\" valign=\"top\">62</th>\n",
       "      <th>test</th>\n",
       "      <td>210</td>\n",
       "      <td>210</td>\n",
       "    </tr>\n",
       "    <tr>\n",
       "      <th>train</th>\n",
       "      <td>1682</td>\n",
       "      <td>1682</td>\n",
       "    </tr>\n",
       "    <tr>\n",
       "      <th>val</th>\n",
       "      <td>211</td>\n",
       "      <td>211</td>\n",
       "    </tr>\n",
       "    <tr>\n",
       "      <th rowspan=\"3\" valign=\"top\">63</th>\n",
       "      <th>test</th>\n",
       "      <td>122</td>\n",
       "      <td>122</td>\n",
       "    </tr>\n",
       "    <tr>\n",
       "      <th>train</th>\n",
       "      <td>983</td>\n",
       "      <td>983</td>\n",
       "    </tr>\n",
       "    <tr>\n",
       "      <th>val</th>\n",
       "      <td>123</td>\n",
       "      <td>123</td>\n",
       "    </tr>\n",
       "    <tr>\n",
       "      <th rowspan=\"3\" valign=\"top\">64</th>\n",
       "      <th>test</th>\n",
       "      <td>324</td>\n",
       "      <td>324</td>\n",
       "    </tr>\n",
       "    <tr>\n",
       "      <th>train</th>\n",
       "      <td>2589</td>\n",
       "      <td>2589</td>\n",
       "    </tr>\n",
       "    <tr>\n",
       "      <th>val</th>\n",
       "      <td>323</td>\n",
       "      <td>323</td>\n",
       "    </tr>\n",
       "    <tr>\n",
       "      <th rowspan=\"3\" valign=\"top\">65</th>\n",
       "      <th>test</th>\n",
       "      <td>151</td>\n",
       "      <td>151</td>\n",
       "    </tr>\n",
       "    <tr>\n",
       "      <th>train</th>\n",
       "      <td>1210</td>\n",
       "      <td>1210</td>\n",
       "    </tr>\n",
       "    <tr>\n",
       "      <th>val</th>\n",
       "      <td>151</td>\n",
       "      <td>151</td>\n",
       "    </tr>\n",
       "    <tr>\n",
       "      <th rowspan=\"3\" valign=\"top\">66</th>\n",
       "      <th>test</th>\n",
       "      <td>60</td>\n",
       "      <td>60</td>\n",
       "    </tr>\n",
       "    <tr>\n",
       "      <th>train</th>\n",
       "      <td>479</td>\n",
       "      <td>479</td>\n",
       "    </tr>\n",
       "    <tr>\n",
       "      <th>val</th>\n",
       "      <td>60</td>\n",
       "      <td>60</td>\n",
       "    </tr>\n",
       "    <tr>\n",
       "      <th rowspan=\"3\" valign=\"top\">67</th>\n",
       "      <th>test</th>\n",
       "      <td>284</td>\n",
       "      <td>284</td>\n",
       "    </tr>\n",
       "    <tr>\n",
       "      <th>train</th>\n",
       "      <td>2267</td>\n",
       "      <td>2267</td>\n",
       "    </tr>\n",
       "    <tr>\n",
       "      <th>val</th>\n",
       "      <td>283</td>\n",
       "      <td>283</td>\n",
       "    </tr>\n",
       "    <tr>\n",
       "      <th rowspan=\"3\" valign=\"top\">7</th>\n",
       "      <th>test</th>\n",
       "      <td>104</td>\n",
       "      <td>104</td>\n",
       "    </tr>\n",
       "    <tr>\n",
       "      <th>train</th>\n",
       "      <td>833</td>\n",
       "      <td>833</td>\n",
       "    </tr>\n",
       "    <tr>\n",
       "      <th>val</th>\n",
       "      <td>104</td>\n",
       "      <td>104</td>\n",
       "    </tr>\n",
       "    <tr>\n",
       "      <th rowspan=\"3\" valign=\"top\">75</th>\n",
       "      <th>test</th>\n",
       "      <td>174</td>\n",
       "      <td>174</td>\n",
       "    </tr>\n",
       "    <tr>\n",
       "      <th>train</th>\n",
       "      <td>1391</td>\n",
       "      <td>1391</td>\n",
       "    </tr>\n",
       "    <tr>\n",
       "      <th>val</th>\n",
       "      <td>174</td>\n",
       "      <td>174</td>\n",
       "    </tr>\n",
       "    <tr>\n",
       "      <th rowspan=\"3\" valign=\"top\">77</th>\n",
       "      <th>test</th>\n",
       "      <td>142</td>\n",
       "      <td>142</td>\n",
       "    </tr>\n",
       "    <tr>\n",
       "      <th>train</th>\n",
       "      <td>1142</td>\n",
       "      <td>1142</td>\n",
       "    </tr>\n",
       "    <tr>\n",
       "      <th>val</th>\n",
       "      <td>143</td>\n",
       "      <td>143</td>\n",
       "    </tr>\n",
       "    <tr>\n",
       "      <th rowspan=\"3\" valign=\"top\">78</th>\n",
       "      <th>test</th>\n",
       "      <td>75</td>\n",
       "      <td>75</td>\n",
       "    </tr>\n",
       "    <tr>\n",
       "      <th>train</th>\n",
       "      <td>602</td>\n",
       "      <td>602</td>\n",
       "    </tr>\n",
       "    <tr>\n",
       "      <th>val</th>\n",
       "      <td>75</td>\n",
       "      <td>75</td>\n",
       "    </tr>\n",
       "    <tr>\n",
       "      <th rowspan=\"3\" valign=\"top\">80</th>\n",
       "      <th>test</th>\n",
       "      <td>175</td>\n",
       "      <td>175</td>\n",
       "    </tr>\n",
       "    <tr>\n",
       "      <th>train</th>\n",
       "      <td>1398</td>\n",
       "      <td>1398</td>\n",
       "    </tr>\n",
       "    <tr>\n",
       "      <th>val</th>\n",
       "      <td>174</td>\n",
       "      <td>174</td>\n",
       "    </tr>\n",
       "    <tr>\n",
       "      <th rowspan=\"3\" valign=\"top\">82</th>\n",
       "      <th>test</th>\n",
       "      <td>73</td>\n",
       "      <td>73</td>\n",
       "    </tr>\n",
       "    <tr>\n",
       "      <th>train</th>\n",
       "      <td>584</td>\n",
       "      <td>584</td>\n",
       "    </tr>\n",
       "    <tr>\n",
       "      <th>val</th>\n",
       "      <td>73</td>\n",
       "      <td>73</td>\n",
       "    </tr>\n",
       "    <tr>\n",
       "      <th rowspan=\"3\" valign=\"top\">9</th>\n",
       "      <th>test</th>\n",
       "      <td>86</td>\n",
       "      <td>86</td>\n",
       "    </tr>\n",
       "    <tr>\n",
       "      <th>train</th>\n",
       "      <td>694</td>\n",
       "      <td>694</td>\n",
       "    </tr>\n",
       "    <tr>\n",
       "      <th>val</th>\n",
       "      <td>87</td>\n",
       "      <td>87</td>\n",
       "    </tr>\n",
       "    <tr>\n",
       "      <th rowspan=\"3\" valign=\"top\">90</th>\n",
       "      <th>test</th>\n",
       "      <td>1214</td>\n",
       "      <td>1214</td>\n",
       "    </tr>\n",
       "    <tr>\n",
       "      <th>train</th>\n",
       "      <td>9710</td>\n",
       "      <td>9710</td>\n",
       "    </tr>\n",
       "    <tr>\n",
       "      <th>val</th>\n",
       "      <td>1214</td>\n",
       "      <td>1214</td>\n",
       "    </tr>\n",
       "    <tr>\n",
       "      <th rowspan=\"3\" valign=\"top\">91</th>\n",
       "      <th>test</th>\n",
       "      <td>575</td>\n",
       "      <td>575</td>\n",
       "    </tr>\n",
       "    <tr>\n",
       "      <th>train</th>\n",
       "      <td>4602</td>\n",
       "      <td>4602</td>\n",
       "    </tr>\n",
       "    <tr>\n",
       "      <th>val</th>\n",
       "      <td>576</td>\n",
       "      <td>576</td>\n",
       "    </tr>\n",
       "    <tr>\n",
       "      <th rowspan=\"3\" valign=\"top\">92</th>\n",
       "      <th>test</th>\n",
       "      <td>389</td>\n",
       "      <td>389</td>\n",
       "    </tr>\n",
       "    <tr>\n",
       "      <th>train</th>\n",
       "      <td>3110</td>\n",
       "      <td>3110</td>\n",
       "    </tr>\n",
       "    <tr>\n",
       "      <th>val</th>\n",
       "      <td>389</td>\n",
       "      <td>389</td>\n",
       "    </tr>\n",
       "    <tr>\n",
       "      <th rowspan=\"3\" valign=\"top\">93</th>\n",
       "      <th>test</th>\n",
       "      <td>101</td>\n",
       "      <td>101</td>\n",
       "    </tr>\n",
       "    <tr>\n",
       "      <th>train</th>\n",
       "      <td>806</td>\n",
       "      <td>806</td>\n",
       "    </tr>\n",
       "    <tr>\n",
       "      <th>val</th>\n",
       "      <td>100</td>\n",
       "      <td>100</td>\n",
       "    </tr>\n",
       "    <tr>\n",
       "      <th rowspan=\"3\" valign=\"top\">94</th>\n",
       "      <th>test</th>\n",
       "      <td>472</td>\n",
       "      <td>472</td>\n",
       "    </tr>\n",
       "    <tr>\n",
       "      <th>train</th>\n",
       "      <td>3775</td>\n",
       "      <td>3775</td>\n",
       "    </tr>\n",
       "    <tr>\n",
       "      <th>val</th>\n",
       "      <td>472</td>\n",
       "      <td>472</td>\n",
       "    </tr>\n",
       "  </tbody>\n",
       "</table>\n",
       "</div>"
      ],
      "text/plain": [
       "                      COMPLAINT_TEXT  label\n",
       "PRODUCT_ID data_type                       \n",
       "10         test                  310    310\n",
       "           train                2475   2475\n",
       "           val                   309    309\n",
       "14         test                   96     96\n",
       "           train                 770    770\n",
       "           val                    96     96\n",
       "15         test                  514    514\n",
       "           train                4113   4113\n",
       "           val                   514    514\n",
       "16         test                 1625   1625\n",
       "           train               12994  12994\n",
       "           val                  1624   1624\n",
       "17         test                   88     88\n",
       "           train                 702    702\n",
       "           val                    87     87\n",
       "2          test                 1012   1012\n",
       "           train                8090   8090\n",
       "           val                  1011   1011\n",
       "21         test                  384    384\n",
       "           train                3070   3070\n",
       "           val                   384    384\n",
       "23         test                 1884   1884\n",
       "           train               15070  15070\n",
       "           val                  1884   1884\n",
       "26         test                 8999   8999\n",
       "           train               71995  71995\n",
       "           val                  9000   9000\n",
       "27         test                  176    176\n",
       "           train                1410   1410\n",
       "           val                   177    177\n",
       "28         test                 3159   3159\n",
       "           train               25270  25270\n",
       "           val                  3159   3159\n",
       "29         test                  107    107\n",
       "           train                 851    851\n",
       "           val                   106    106\n",
       "3          test                  347    347\n",
       "           train                2782   2782\n",
       "           val                   348    348\n",
       "30         test                  166    166\n",
       "           train                1328   1328\n",
       "           val                   166    166\n",
       "31         test                  752    752\n",
       "           train                6016   6016\n",
       "           val                   752    752\n",
       "32         test                 1002   1002\n",
       "           train                8017   8017\n",
       "           val                  1002   1002\n",
       "33         test                   55     55\n",
       "           train                 439    439\n",
       "           val                    55     55\n",
       "34         test                   80     80\n",
       "           train                 636    636\n",
       "           val                    79     79\n",
       "35         test                 1688   1688\n",
       "           train               13510  13510\n",
       "           val                  1689   1689\n",
       "36         test                  699    699\n",
       "           train                5592   5592\n",
       "           val                   699    699\n",
       "37         test                  790    790\n",
       "           train                6314   6314\n",
       "           val                   789    789\n",
       "38         test                   91     91\n",
       "           train                 726    726\n",
       "           val                    90     90\n",
       "39         test                  111    111\n",
       "           train                 890    890\n",
       "           val                   111    111\n",
       "4          test                   88     88\n",
       "           train                 710    710\n",
       "           val                    89     89\n",
       "40         test                   69     69\n",
       "           train                 547    547\n",
       "           val                    68     68\n",
       "41         test                 1240   1240\n",
       "           train                9914   9914\n",
       "           val                  1239   1239\n",
       "42         test                 1338   1338\n",
       "           train               10708  10708\n",
       "           val                  1339   1339\n",
       "43         test                  206    206\n",
       "           train                1651   1651\n",
       "           val                   207    207\n",
       "44         test                  183    183\n",
       "           train                1459   1459\n",
       "           val                   182    182\n",
       "45         test                   80     80\n",
       "           train                 642    642\n",
       "           val                    80     80\n",
       "48         test                  163    163\n",
       "           train                1309   1309\n",
       "           val                   164    164\n",
       "50         test                   79     79\n",
       "           train                 633    633\n",
       "           val                    79     79\n",
       "51         test                  120    120\n",
       "           train                 959    959\n",
       "           val                   120    120\n",
       "55         test                  139    139\n",
       "           train                1110   1110\n",
       "           val                   139    139\n",
       "56         test                   86     86\n",
       "           train                 689    689\n",
       "           val                    86     86\n",
       "57         test                   63     63\n",
       "           train                 509    509\n",
       "           val                    64     64\n",
       "58         test                  497    497\n",
       "           train                3980   3980\n",
       "           val                   498    498\n",
       "59         test                 1456   1456\n",
       "           train               11650  11650\n",
       "           val                  1456   1456\n",
       "6          test                 1071   1071\n",
       "           train                8567   8567\n",
       "           val                  1071   1071\n",
       "60         test                 1210   1210\n",
       "           train                9678   9678\n",
       "           val                  1210   1210\n",
       "61         test                  979    979\n",
       "           train                7830   7830\n",
       "           val                   979    979\n",
       "62         test                  210    210\n",
       "           train                1682   1682\n",
       "           val                   211    211\n",
       "63         test                  122    122\n",
       "           train                 983    983\n",
       "           val                   123    123\n",
       "64         test                  324    324\n",
       "           train                2589   2589\n",
       "           val                   323    323\n",
       "65         test                  151    151\n",
       "           train                1210   1210\n",
       "           val                   151    151\n",
       "66         test                   60     60\n",
       "           train                 479    479\n",
       "           val                    60     60\n",
       "67         test                  284    284\n",
       "           train                2267   2267\n",
       "           val                   283    283\n",
       "7          test                  104    104\n",
       "           train                 833    833\n",
       "           val                   104    104\n",
       "75         test                  174    174\n",
       "           train                1391   1391\n",
       "           val                   174    174\n",
       "77         test                  142    142\n",
       "           train                1142   1142\n",
       "           val                   143    143\n",
       "78         test                   75     75\n",
       "           train                 602    602\n",
       "           val                    75     75\n",
       "80         test                  175    175\n",
       "           train                1398   1398\n",
       "           val                   174    174\n",
       "82         test                   73     73\n",
       "           train                 584    584\n",
       "           val                    73     73\n",
       "9          test                   86     86\n",
       "           train                 694    694\n",
       "           val                    87     87\n",
       "90         test                 1214   1214\n",
       "           train                9710   9710\n",
       "           val                  1214   1214\n",
       "91         test                  575    575\n",
       "           train                4602   4602\n",
       "           val                   576    576\n",
       "92         test                  389    389\n",
       "           train                3110   3110\n",
       "           val                   389    389\n",
       "93         test                  101    101\n",
       "           train                 806    806\n",
       "           val                   100    100\n",
       "94         test                  472    472\n",
       "           train                3775   3775\n",
       "           val                   472    472"
      ]
     },
     "execution_count": 24,
     "metadata": {
      "tags": []
     },
     "output_type": "execute_result"
    }
   ],
   "source": [
    "df[['PRODUCT_ID', 'COMPLAINT_TEXT', 'label', 'data_type']].groupby(['PRODUCT_ID', 'data_type']).count()"
   ]
  },
  {
   "cell_type": "markdown",
   "metadata": {
    "colab_type": "text",
    "id": "BObPBaipvmHj"
   },
   "source": [
    "## Data is splitted correctly"
   ]
  },
  {
   "cell_type": "code",
   "execution_count": 0,
   "metadata": {
    "colab": {
     "base_uri": "https://localhost:8080/",
     "height": 71
    },
    "colab_type": "code",
    "id": "rZMmKAhvvig0",
    "outputId": "cbdb92b4-54c0-4098-82a1-6f8a7a1d9acc"
   },
   "outputs": [
    {
     "name": "stdout",
     "output_type": "stream",
     "text": [
      "303462\n",
      " transunion reporting incorrectly days past due loans partial account numbers accounts reflect balance past due contacted two bureaus requested coding errors corrected incorrect reporting harming credit score impossible past due accounts balance past due \n"
     ]
    }
   ],
   "source": [
    "train_sentences = df[df.data_type == 'train'].COMPLAINT_TEXT.values\n",
    "print(len(train_sentences))\n",
    "print(train_sentences[0])"
   ]
  },
  {
   "cell_type": "code",
   "execution_count": 0,
   "metadata": {
    "colab": {
     "base_uri": "https://localhost:8080/",
     "height": 51
    },
    "colab_type": "code",
    "id": "9CIdLRdAvqv3",
    "outputId": "6107e42c-7d7a-4095-be5d-e3c05c57c1ad"
   },
   "outputs": [
    {
     "name": "stdout",
     "output_type": "stream",
     "text": [
      "37933\n",
      "i personal loan patriot finance incorrectly reporting loan derogatory status showing many days late payment agreement paying agreed account reflect \n"
     ]
    }
   ],
   "source": [
    "validation_sentences = list(df[df.data_type == 'val'].COMPLAINT_TEXT.values)\n",
    "print(len(validation_sentences))\n",
    "print(validation_sentences[0])"
   ]
  },
  {
   "cell_type": "code",
   "execution_count": 0,
   "metadata": {
    "colab": {
     "base_uri": "https://localhost:8080/",
     "height": 71
    },
    "colab_type": "code",
    "id": "m7ALMh5Tvrx0",
    "outputId": "62ed5bb5-d257-4348-c83d-73596cb9e345"
   },
   "outputs": [
    {
     "name": "stdout",
     "output_type": "stream",
     "text": [
      "37933\n",
      "experian failure remove report request validation investigation account acvd u c b received automated come remove account like credit reporting companies please so note account modified deleted carbon copy sent cra please remove account\n"
     ]
    }
   ],
   "source": [
    "test_sentences = list(df[df.data_type == 'test'].COMPLAINT_TEXT.values)\n",
    "print(len(test_sentences))\n",
    "print(test_sentences[0])"
   ]
  },
  {
   "cell_type": "code",
   "execution_count": 0,
   "metadata": {
    "colab": {},
    "colab_type": "code",
    "id": "7p_4GukPvs2h"
   },
   "outputs": [],
   "source": [
    "train_labels = df[df.data_type == 'train'].label.values\n",
    "validation_labels = df[df.data_type == 'val'].label.values\n",
    "test_labels = df[df.data_type == 'test'].label.values"
   ]
  },
  {
   "cell_type": "code",
   "execution_count": 0,
   "metadata": {
    "colab": {
     "base_uri": "https://localhost:8080/",
     "height": 68
    },
    "colab_type": "code",
    "id": "i0ciAzqWvuMo",
    "outputId": "4eee4fb4-8768-4450-ff8c-68b4f2820c8a"
   },
   "outputs": [
    {
     "name": "stdout",
     "output_type": "stream",
     "text": [
      "59\n",
      "59\n",
      "59\n"
     ]
    }
   ],
   "source": [
    "print(len(np.unique(train_labels)))\n",
    "print(len(np.unique(validation_labels)))\n",
    "print(len(np.unique(test_labels)))"
   ]
  },
  {
   "cell_type": "code",
   "execution_count": 0,
   "metadata": {
    "colab": {},
    "colab_type": "code",
    "id": "--7H2y5wvvTJ"
   },
   "outputs": [],
   "source": [
    "from tensorflow.keras.utils import to_categorical\n",
    "def encode(data):\n",
    "    print('Shape of data (BEFORE encode): %s' % str(data.shape))\n",
    "    encoded = to_categorical(data)\n",
    "    print('Shape of data (AFTER  encode): %s\\n' % str(encoded.shape))\n",
    "    return encoded"
   ]
  },
  {
   "cell_type": "code",
   "execution_count": 0,
   "metadata": {
    "colab": {
     "base_uri": "https://localhost:8080/",
     "height": 170
    },
    "colab_type": "code",
    "id": "qqE-1dZ8vwXK",
    "outputId": "34b6b8b7-5f0c-47ad-d1ac-a0c23cb06466"
   },
   "outputs": [
    {
     "name": "stdout",
     "output_type": "stream",
     "text": [
      "Shape of data (BEFORE encode): (303462,)\n",
      "Shape of data (AFTER  encode): (303462, 59)\n",
      "\n",
      "Shape of data (BEFORE encode): (37933,)\n",
      "Shape of data (AFTER  encode): (37933, 59)\n",
      "\n",
      "Shape of data (BEFORE encode): (37933,)\n",
      "Shape of data (AFTER  encode): (37933, 59)\n",
      "\n"
     ]
    }
   ],
   "source": [
    "train_labels = encode(train_labels)\n",
    "validation_labels = encode(validation_labels)\n",
    "test_labels = encode(test_labels)"
   ]
  },
  {
   "cell_type": "code",
   "execution_count": 0,
   "metadata": {
    "colab": {},
    "colab_type": "code",
    "id": "eq-i2TLhvxWM"
   },
   "outputs": [],
   "source": [
    "max_nb_words = 100000\n",
    "embedding_dim = 100\n",
    "max_length = 200\n",
    "trunc_type = 'post'\n",
    "padding_type = 'post'\n",
    "oov_tok = '<OOV>'\n",
    "training_portion = .8\n",
    "glove_dir = \"/content/gdrive/My Drive/glove/glove.6B.\"+str(embedding_dim)+\"d.txt\""
   ]
  },
  {
   "cell_type": "code",
   "execution_count": 0,
   "metadata": {
    "colab": {},
    "colab_type": "code",
    "id": "7KfNCiQ5v27D"
   },
   "outputs": [],
   "source": [
    "import tensorflow as tf\n",
    "\n",
    "from tensorflow.keras.preprocessing.text import Tokenizer\n",
    "from tensorflow.keras.preprocessing.sequence import pad_sequences"
   ]
  },
  {
   "cell_type": "code",
   "execution_count": 0,
   "metadata": {
    "colab": {
     "base_uri": "https://localhost:8080/",
     "height": 119
    },
    "colab_type": "code",
    "id": "ANL_tz5Xv4k3",
    "outputId": "b8686173-3178-45a8-a96f-cadf502d3d6a"
   },
   "outputs": [
    {
     "name": "stdout",
     "output_type": "stream",
     "text": [
      "34\n",
      "200\n",
      "34\n",
      "200\n",
      "7\n",
      "200\n"
     ]
    }
   ],
   "source": [
    "tokenizer = Tokenizer(num_words = max_nb_words, oov_token=oov_tok)\n",
    "tokenizer.fit_on_texts(train_sentences)\n",
    "word_index = tokenizer.word_index\n",
    "vocab_size = len(word_index)\n",
    "\n",
    "train_sequences = tokenizer.texts_to_sequences(train_sentences)\n",
    "train_padded = pad_sequences(train_sequences, padding=padding_type, truncating=trunc_type,maxlen=max_length)\n",
    "\n",
    "print(len(train_sequences[0]))\n",
    "print(len(train_padded[0]))\n",
    "\n",
    "print(len(train_sequences[1]))\n",
    "print(len(train_padded[1]))\n",
    "\n",
    "print(len(train_sequences[10]))\n",
    "print(len(train_padded[10]))"
   ]
  },
  {
   "cell_type": "code",
   "execution_count": 0,
   "metadata": {
    "colab": {},
    "colab_type": "code",
    "id": "zaBOZzWmyy-i"
   },
   "outputs": [],
   "source": [
    "import pickle\n",
    "tokenizer_path = \"/content/gdrive/My Drive/Revolut-challenge/model/tokenizer.pickle\"\n",
    "with open(tokenizer_path, 'wb') as handle:\n",
    "    pickle.dump(tokenizer, handle, protocol=pickle.HIGHEST_PROTOCOL)"
   ]
  },
  {
   "cell_type": "code",
   "execution_count": 0,
   "metadata": {
    "colab": {},
    "colab_type": "code",
    "id": "-xkPca96v5qA"
   },
   "outputs": [],
   "source": [
    "val_sequences = tokenizer.texts_to_sequences(validation_sentences)\n",
    "val_padded = pad_sequences(val_sequences,padding=padding_type, truncating=trunc_type,maxlen=max_length)"
   ]
  },
  {
   "cell_type": "code",
   "execution_count": 0,
   "metadata": {
    "colab": {},
    "colab_type": "code",
    "id": "IjhPiXUFv6wW"
   },
   "outputs": [],
   "source": [
    "test_sequences = tokenizer.texts_to_sequences(test_sentences)\n",
    "test_padded = pad_sequences(test_sequences,padding=padding_type, truncating=trunc_type,maxlen=max_length)"
   ]
  },
  {
   "cell_type": "code",
   "execution_count": 0,
   "metadata": {
    "colab": {
     "base_uri": "https://localhost:8080/",
     "height": 51
    },
    "colab_type": "code",
    "id": "NMGpgdJWv8Hq",
    "outputId": "5f428d4f-9081-4032-d8bd-c4f27009be04"
   },
   "outputs": [
    {
     "name": "stdout",
     "output_type": "stream",
     "text": [
      "Loading GloVe from: /content/gdrive/My Drive//glove/glove.6B.100d.txt ...Done.\n",
      " Proceeding with Embedding Matrix... Completed!\n"
     ]
    }
   ],
   "source": [
    "embeddings_index = {}\n",
    "f = open(glove_dir)\n",
    "print('Loading GloVe from:', glove_dir,'...', end='')\n",
    "for line in f:\n",
    "    values = line.split()\n",
    "    word = values[0]\n",
    "    embeddings_index[word] = np.asarray(values[1:], dtype='float32')\n",
    "f.close()\n",
    "print(\"Done.\\n Proceeding with Embedding Matrix...\", end=\"\")\n",
    "\n",
    "embedding_matrix = np.random.random((len(word_index) + 1, embedding_dim))\n",
    "for word, i in word_index.items():\n",
    "    embedding_vector = embeddings_index.get(word)\n",
    "    if embedding_vector is not None:\n",
    "        embedding_matrix[i] = embedding_vector\n",
    "print(\" Completed!\")"
   ]
  },
  {
   "cell_type": "code",
   "execution_count": 0,
   "metadata": {
    "colab": {
     "base_uri": "https://localhost:8080/",
     "height": 34
    },
    "colab_type": "code",
    "id": "37qKnnPRyM_-",
    "outputId": "1d4eacf1-eb8e-41a6-cfe1-eff79dae7683"
   },
   "outputs": [
    {
     "data": {
      "text/plain": [
       "(94012, 100)"
      ]
     },
     "execution_count": 49,
     "metadata": {
      "tags": []
     },
     "output_type": "execute_result"
    }
   ],
   "source": [
    "embedding_matrix.shape"
   ]
  },
  {
   "cell_type": "code",
   "execution_count": 0,
   "metadata": {
    "colab": {},
    "colab_type": "code",
    "id": "SPr6tBQ_e5At"
   },
   "outputs": [],
   "source": [
    "def plot_graphs(history, string):\n",
    "  plt.plot(history.history[string])\n",
    "  plt.plot(history.history['val_'+string])\n",
    "  plt.xlabel(\"Epochs\")\n",
    "  plt.ylabel(string)\n",
    "  plt.legend([string, 'val_'+string])\n",
    "  plt.show()"
   ]
  },
  {
   "cell_type": "code",
   "execution_count": 0,
   "metadata": {
    "colab": {},
    "colab_type": "code",
    "id": "AOWNx_n5e-p-"
   },
   "outputs": [],
   "source": [
    "from sklearn.metrics import f1_score\n",
    "\n",
    "def f1_score_func(preds, labels):\n",
    "    preds_flat = np.argmax(preds, axis=1).flatten()\n",
    "    labels_flat = labels.flatten()\n",
    "    # return f1_score(labels_flat, preds_flat, average=None)\n",
    "    return f1_score(labels_flat, preds_flat, average='weighted')\n",
    "\n",
    "def accuracy_per_class(preds, labels):\n",
    "    label_dict_inverse = {v: k for k, v in prd_id_dict.items()}\n",
    "    preds_flat = np.argmax(preds, axis=1).flatten()\n",
    "    labels_flat = labels.flatten()\n",
    "    \n",
    "    for label in np.unique(labels_flat):\n",
    "        y_preds = preds_flat[labels_flat == label]\n",
    "        y_true = labels_flat[labels_flat == label]\n",
    "        print(f'Class: {label_dict_inverse[label]}')\n",
    "        print(f'Accuracy: {len(y_preds[y_preds==label])}/{len(y_true)}\\n')"
   ]
  },
  {
   "cell_type": "code",
   "execution_count": 0,
   "metadata": {
    "colab": {},
    "colab_type": "code",
    "id": "sOOP3sk4f-Ew"
   },
   "outputs": [],
   "source": [
    "early_stopping = tf.keras.callbacks.EarlyStopping(monitor='val_loss', mode='min', patience=10)"
   ]
  },
  {
   "cell_type": "markdown",
   "metadata": {
    "colab_type": "text",
    "id": "1y8JTHhuZqkW"
   },
   "source": [
    "# Model 1"
   ]
  },
  {
   "cell_type": "code",
   "execution_count": 0,
   "metadata": {
    "colab": {
     "base_uri": "https://localhost:8080/",
     "height": 357
    },
    "colab_type": "code",
    "id": "_VERBXZDwIBR",
    "outputId": "80f4556e-eeb9-48ce-8d1a-f343bfb12942"
   },
   "outputs": [
    {
     "name": "stdout",
     "output_type": "stream",
     "text": [
      "Model: \"sequential\"\n",
      "_________________________________________________________________\n",
      "Layer (type)                 Output Shape              Param #   \n",
      "=================================================================\n",
      "embedding (Embedding)        (None, 200, 100)          9384600   \n",
      "_________________________________________________________________\n",
      "dropout (Dropout)            (None, 200, 100)          0         \n",
      "_________________________________________________________________\n",
      "conv1d (Conv1D)              (None, 196, 64)           32064     \n",
      "_________________________________________________________________\n",
      "max_pooling1d (MaxPooling1D) (None, 49, 64)            0         \n",
      "_________________________________________________________________\n",
      "bidirectional (Bidirectional (None, 128)               66048     \n",
      "_________________________________________________________________\n",
      "dense (Dense)                (None, 59)                7611      \n",
      "=================================================================\n",
      "Total params: 9,490,323\n",
      "Trainable params: 9,490,323\n",
      "Non-trainable params: 0\n",
      "_________________________________________________________________\n"
     ]
    }
   ],
   "source": [
    "model_1 = tf.keras.Sequential([\n",
    "    tf.keras.layers.Embedding(vocab_size+1, embedding_dim, input_length=max_length, weights=[embedding_matrix], trainable=True),\n",
    "    tf.keras.layers.Dropout(0.2),\n",
    "    tf.keras.layers.Conv1D(64, 5, activation='relu'),\n",
    "    tf.keras.layers.MaxPooling1D(pool_size=4),\n",
    "    tf.keras.layers.Bidirectional(tf.keras.layers.LSTM(64)),\n",
    "    tf.keras.layers.Dense(59, activation='softmax')\n",
    "])\n",
    "adam = tf.keras.optimizers.Adam(lr=0.02)\n",
    "model_1.compile(loss='categorical_crossentropy',optimizer=adam,metrics=['accuracy'])\n",
    "model_1.summary()"
   ]
  },
  {
   "cell_type": "code",
   "execution_count": 0,
   "metadata": {
    "colab": {
     "base_uri": "https://localhost:8080/",
     "height": 833
    },
    "colab_type": "code",
    "id": "8wQskggPwSKF",
    "outputId": "029f2f06-3855-444e-9c63-c7e7f690266e"
   },
   "outputs": [
    {
     "name": "stdout",
     "output_type": "stream",
     "text": [
      "Epoch 1/100\n",
      "149/149 [==============================] - 38s 253ms/step - loss: 0.0639 - accuracy: 0.2571 - val_loss: 0.0540 - val_accuracy: 0.3445\n",
      "Epoch 2/100\n",
      "149/149 [==============================] - 37s 246ms/step - loss: 0.0487 - accuracy: 0.3827 - val_loss: 0.0446 - val_accuracy: 0.4341\n",
      "Epoch 3/100\n",
      "149/149 [==============================] - 37s 246ms/step - loss: 0.0430 - accuracy: 0.4565 - val_loss: 0.0422 - val_accuracy: 0.4692\n",
      "Epoch 4/100\n",
      "149/149 [==============================] - 37s 246ms/step - loss: 0.0403 - accuracy: 0.4906 - val_loss: 0.0404 - val_accuracy: 0.4892\n",
      "Epoch 5/100\n",
      "149/149 [==============================] - 37s 246ms/step - loss: 0.0385 - accuracy: 0.5133 - val_loss: 0.0395 - val_accuracy: 0.5052\n",
      "Epoch 6/100\n",
      "149/149 [==============================] - 37s 246ms/step - loss: 0.0375 - accuracy: 0.5273 - val_loss: 0.0396 - val_accuracy: 0.5005\n",
      "Epoch 7/100\n",
      "149/149 [==============================] - 36s 244ms/step - loss: 0.0369 - accuracy: 0.5375 - val_loss: 0.0393 - val_accuracy: 0.5101\n",
      "Epoch 8/100\n",
      "149/149 [==============================] - 36s 245ms/step - loss: 0.0360 - accuracy: 0.5498 - val_loss: 0.0387 - val_accuracy: 0.5162\n",
      "Epoch 9/100\n",
      "149/149 [==============================] - 36s 244ms/step - loss: 0.0353 - accuracy: 0.5593 - val_loss: 0.0388 - val_accuracy: 0.5152\n",
      "Epoch 10/100\n",
      "149/149 [==============================] - 37s 245ms/step - loss: 0.0347 - accuracy: 0.5667 - val_loss: 0.0386 - val_accuracy: 0.5195\n",
      "Epoch 11/100\n",
      "149/149 [==============================] - 36s 244ms/step - loss: 0.0342 - accuracy: 0.5756 - val_loss: 0.0386 - val_accuracy: 0.5204\n",
      "Epoch 12/100\n",
      "149/149 [==============================] - 37s 246ms/step - loss: 0.0340 - accuracy: 0.5789 - val_loss: 0.0387 - val_accuracy: 0.5218\n",
      "Epoch 13/100\n",
      "149/149 [==============================] - 37s 246ms/step - loss: 0.0341 - accuracy: 0.5777 - val_loss: 0.0391 - val_accuracy: 0.5167\n",
      "Epoch 14/100\n",
      "149/149 [==============================] - 37s 246ms/step - loss: 0.0336 - accuracy: 0.5848 - val_loss: 0.0386 - val_accuracy: 0.5239\n",
      "Epoch 15/100\n",
      "149/149 [==============================] - 36s 245ms/step - loss: 0.0332 - accuracy: 0.5906 - val_loss: 0.0388 - val_accuracy: 0.5213\n",
      "Epoch 16/100\n",
      "149/149 [==============================] - 36s 245ms/step - loss: 0.0330 - accuracy: 0.5929 - val_loss: 0.0389 - val_accuracy: 0.5156\n",
      "Epoch 17/100\n",
      "149/149 [==============================] - 37s 246ms/step - loss: 0.0328 - accuracy: 0.5956 - val_loss: 0.0389 - val_accuracy: 0.5210\n",
      "Epoch 18/100\n",
      "149/149 [==============================] - 37s 245ms/step - loss: 0.0326 - accuracy: 0.5987 - val_loss: 0.0388 - val_accuracy: 0.5219\n",
      "Epoch 19/100\n",
      "149/149 [==============================] - 37s 245ms/step - loss: 0.0324 - accuracy: 0.6014 - val_loss: 0.0389 - val_accuracy: 0.5210\n",
      "Epoch 20/100\n",
      "149/149 [==============================] - 37s 247ms/step - loss: 0.0334 - accuracy: 0.5901 - val_loss: 0.0393 - val_accuracy: 0.5151\n",
      "Epoch 21/100\n",
      "149/149 [==============================] - 36s 245ms/step - loss: 0.0329 - accuracy: 0.5953 - val_loss: 0.0391 - val_accuracy: 0.5213\n",
      "Epoch 22/100\n",
      "149/149 [==============================] - 36s 243ms/step - loss: 0.0326 - accuracy: 0.5997 - val_loss: 0.0391 - val_accuracy: 0.5212\n",
      "Epoch 23/100\n",
      "149/149 [==============================] - 36s 244ms/step - loss: 0.0324 - accuracy: 0.6026 - val_loss: 0.0392 - val_accuracy: 0.5183\n",
      "Epoch 24/100\n",
      "149/149 [==============================] - 36s 244ms/step - loss: 0.0323 - accuracy: 0.6043 - val_loss: 0.0392 - val_accuracy: 0.5196\n"
     ]
    }
   ],
   "source": [
    "num_epochs = 100\n",
    "history_1 = model_1.fit(train_padded, \n",
    "                        train_labels, \n",
    "                        epochs=num_epochs,\n",
    "                        batch_size=2048,\n",
    "                        validation_data=(val_padded, validation_labels),\n",
    "                        callbacks = [early_stopping])"
   ]
  },
  {
   "cell_type": "code",
   "execution_count": 0,
   "metadata": {
    "colab": {
     "base_uri": "https://localhost:8080/",
     "height": 285
    },
    "colab_type": "code",
    "id": "YtHrfVuB02WQ",
    "outputId": "23f93df4-f7f7-47e2-f199-ce981d3b5870"
   },
   "outputs": [
    {
     "data": {
      "image/png": "[encoded data removed]",
      "text/plain": [
       "<Figure size 432x288 with 1 Axes>"
      ]
     },
     "metadata": {
      "tags": []
     },
     "output_type": "display_data"
    }
   ],
   "source": [
    "plot_graphs(history_1, 'accuracy')"
   ]
  },
  {
   "cell_type": "code",
   "execution_count": 0,
   "metadata": {
    "colab": {
     "base_uri": "https://localhost:8080/",
     "height": 286
    },
    "colab_type": "code",
    "id": "IQUyHJaW02ZV",
    "outputId": "99b190a9-45b9-4ff1-c143-2c43711cb4d4"
   },
   "outputs": [
    {
     "data": {
      "image/png": "[encoded data removed]",
      "text/plain": [
       "<Figure size 432x288 with 1 Axes>"
      ]
     },
     "metadata": {
      "tags": []
     },
     "output_type": "display_data"
    }
   ],
   "source": [
    "plot_graphs(history_1, 'loss')"
   ]
  },
  {
   "cell_type": "code",
   "execution_count": 0,
   "metadata": {
    "colab": {},
    "colab_type": "code",
    "id": "-5GMQcou3WGU"
   },
   "outputs": [],
   "source": [
    "predictions = model_1.predict(test_padded)"
   ]
  },
  {
   "cell_type": "code",
   "execution_count": 0,
   "metadata": {
    "colab": {
     "base_uri": "https://localhost:8080/",
     "height": 1000
    },
    "colab_type": "code",
    "id": "9wQVXygU3WLc",
    "outputId": "b9285587-bce5-4d63-8817-aebcdd7177e3"
   },
   "outputs": [
    {
     "name": "stdout",
     "output_type": "stream",
     "text": [
      "Class: 26\n",
      "Accuracy: 6927/8999\n",
      "\n",
      "Class: 37\n",
      "Accuracy: 310/790\n",
      "\n",
      "Class: 39\n",
      "Accuracy: 5/111\n",
      "\n",
      "Class: 90\n",
      "Accuracy: 945/1214\n",
      "\n",
      "Class: 42\n",
      "Accuracy: 572/1338\n",
      "\n",
      "Class: 21\n",
      "Accuracy: 71/384\n",
      "\n",
      "Class: 60\n",
      "Accuracy: 558/1210\n",
      "\n",
      "Class: 35\n",
      "Accuracy: 768/1688\n",
      "\n",
      "Class: 32\n",
      "Accuracy: 378/1002\n",
      "\n",
      "Class: 45\n",
      "Accuracy: 1/80\n",
      "\n",
      "Class: 7\n",
      "Accuracy: 3/104\n",
      "\n",
      "Class: 6\n",
      "Accuracy: 544/1071\n",
      "\n",
      "Class: 44\n",
      "Accuracy: 32/183\n",
      "\n",
      "Class: 92\n",
      "Accuracy: 79/389\n",
      "\n",
      "Class: 48\n",
      "Accuracy: 45/163\n",
      "\n",
      "Class: 61\n",
      "Accuracy: 290/979\n",
      "\n",
      "Class: 34\n",
      "Accuracy: 1/80\n",
      "\n",
      "Class: 16\n",
      "Accuracy: 703/1625\n",
      "\n",
      "Class: 63\n",
      "Accuracy: 22/122\n",
      "\n",
      "Class: 27\n",
      "Accuracy: 20/176\n",
      "\n",
      "Class: 65\n",
      "Accuracy: 0/151\n",
      "\n",
      "Class: 9\n",
      "Accuracy: 11/86\n",
      "\n",
      "Class: 77\n",
      "Accuracy: 26/142\n",
      "\n",
      "Class: 94\n",
      "Accuracy: 255/472\n",
      "\n",
      "Class: 78\n",
      "Accuracy: 3/75\n",
      "\n",
      "Class: 17\n",
      "Accuracy: 26/88\n",
      "\n",
      "Class: 67\n",
      "Accuracy: 94/284\n",
      "\n",
      "Class: 93\n",
      "Accuracy: 32/101\n",
      "\n",
      "Class: 75\n",
      "Accuracy: 16/174\n",
      "\n",
      "Class: 66\n",
      "Accuracy: 34/60\n",
      "\n",
      "Class: 51\n",
      "Accuracy: 16/120\n",
      "\n",
      "Class: 55\n",
      "Accuracy: 98/139\n",
      "\n",
      "Class: 50\n",
      "Accuracy: 17/79\n",
      "\n",
      "Class: 30\n",
      "Accuracy: 21/166\n",
      "\n",
      "Class: 23\n",
      "Accuracy: 1322/1884\n",
      "\n",
      "Class: 28\n",
      "Accuracy: 1833/3159\n",
      "\n",
      "Class: 36\n",
      "Accuracy: 264/699\n",
      "\n",
      "Class: 15\n",
      "Accuracy: 198/514\n",
      "\n",
      "Class: 41\n",
      "Accuracy: 459/1240\n",
      "\n",
      "Class: 82\n",
      "Accuracy: 38/73\n",
      "\n",
      "Class: 2\n",
      "Accuracy: 646/1012\n",
      "\n",
      "Class: 64\n",
      "Accuracy: 1/324\n",
      "\n",
      "Class: 91\n",
      "Accuracy: 330/575\n",
      "\n",
      "Class: 56\n",
      "Accuracy: 25/86\n",
      "\n",
      "Class: 62\n",
      "Accuracy: 50/210\n",
      "\n",
      "Class: 59\n",
      "Accuracy: 999/1456\n",
      "\n",
      "Class: 10\n",
      "Accuracy: 72/310\n",
      "\n",
      "Class: 58\n",
      "Accuracy: 30/497\n",
      "\n",
      "Class: 29\n",
      "Accuracy: 8/107\n",
      "\n",
      "Class: 31\n",
      "Accuracy: 203/752\n",
      "\n",
      "Class: 43\n",
      "Accuracy: 51/206\n",
      "\n",
      "Class: 3\n",
      "Accuracy: 31/347\n",
      "\n",
      "Class: 80\n",
      "Accuracy: 94/175\n",
      "\n",
      "Class: 57\n",
      "Accuracy: 23/63\n",
      "\n",
      "Class: 33\n",
      "Accuracy: 2/55\n",
      "\n",
      "Class: 4\n",
      "Accuracy: 23/88\n",
      "\n",
      "Class: 14\n",
      "Accuracy: 48/96\n",
      "\n",
      "Class: 38\n",
      "Accuracy: 2/91\n",
      "\n",
      "Class: 40\n",
      "Accuracy: 2/69\n",
      "\n",
      "None\n"
     ]
    }
   ],
   "source": [
    "print(accuracy_per_class(predictions, np.array(df[df.data_type == 'test'].label)))"
   ]
  },
  {
   "cell_type": "code",
   "execution_count": 0,
   "metadata": {
    "colab": {
     "base_uri": "https://localhost:8080/",
     "height": 34
    },
    "colab_type": "code",
    "id": "MOlEccXH3pPm",
    "outputId": "2f7a4d4f-dd0f-498f-9b17-2ab2b77bbd0d"
   },
   "outputs": [
    {
     "name": "stdout",
     "output_type": "stream",
     "text": [
      "0.4996650806552406\n"
     ]
    }
   ],
   "source": [
    "print(f1_score_func(predictions, np.array(df[df.data_type == 'test'].label)))"
   ]
  },
  {
   "cell_type": "markdown",
   "metadata": {
    "colab_type": "text",
    "id": "ciCZ71EtZm7b"
   },
   "source": [
    "# Model 2"
   ]
  },
  {
   "cell_type": "code",
   "execution_count": 0,
   "metadata": {
    "colab": {
     "base_uri": "https://localhost:8080/",
     "height": 323
    },
    "colab_type": "code",
    "id": "5vLSErl1wUiF",
    "outputId": "dd84d16e-4263-4c99-e4f2-09705c92b3ad"
   },
   "outputs": [
    {
     "name": "stdout",
     "output_type": "stream",
     "text": [
      "Model: \"sequential_1\"\n",
      "_________________________________________________________________\n",
      "Layer (type)                 Output Shape              Param #   \n",
      "=================================================================\n",
      "embedding_1 (Embedding)      (None, 200, 100)          9384600   \n",
      "_________________________________________________________________\n",
      "bidirectional_1 (Bidirection (None, 200, 128)          84480     \n",
      "_________________________________________________________________\n",
      "bidirectional_2 (Bidirection (None, 64)                41216     \n",
      "_________________________________________________________________\n",
      "dense_1 (Dense)              (None, 64)                4160      \n",
      "_________________________________________________________________\n",
      "dense_2 (Dense)              (None, 59)                3835      \n",
      "=================================================================\n",
      "Total params: 9,518,291\n",
      "Trainable params: 9,518,291\n",
      "Non-trainable params: 0\n",
      "_________________________________________________________________\n"
     ]
    }
   ],
   "source": [
    "model_2 = tf.keras.Sequential([\n",
    "    tf.keras.layers.Embedding(vocab_size+1, embedding_dim, input_length=max_length, weights=[embedding_matrix], trainable=True),\n",
    "    tf.keras.layers.Bidirectional(tf.keras.layers.LSTM(64, return_sequences=True)),\n",
    "    tf.keras.layers.Bidirectional(tf.keras.layers.LSTM(32)),\n",
    "    tf.keras.layers.Dense(64, activation='relu'),\n",
    "    tf.keras.layers.Dense(59, activation='softmax')\n",
    "])\n",
    "\n",
    "adam = tf.keras.optimizers.Adam(lr=0.02)\n",
    "model_2.compile(loss='categorical_crossentropy',optimizer=adam,metrics=['accuracy'])\n",
    "model_2.summary()"
   ]
  },
  {
   "cell_type": "code",
   "execution_count": 0,
   "metadata": {
    "colab": {
     "base_uri": "https://localhost:8080/",
     "height": 493
    },
    "colab_type": "code",
    "id": "BlR2Zhvy17dc",
    "outputId": "cb12e094-8101-4bb5-8eee-d33531ce9c8b"
   },
   "outputs": [
    {
     "name": "stdout",
     "output_type": "stream",
     "text": [
      "Epoch 1/100\n",
      "149/149 [==============================] - 58s 391ms/step - loss: 0.0523 - accuracy: 0.3639 - val_loss: 0.0418 - val_accuracy: 0.4713\n",
      "Epoch 2/100\n",
      "149/149 [==============================] - 57s 382ms/step - loss: 0.0385 - accuracy: 0.5129 - val_loss: 0.0374 - val_accuracy: 0.5273\n",
      "Epoch 3/100\n",
      "149/149 [==============================] - 57s 382ms/step - loss: 0.0349 - accuracy: 0.5613 - val_loss: 0.0363 - val_accuracy: 0.5419\n",
      "Epoch 4/100\n",
      "149/149 [==============================] - 57s 381ms/step - loss: 0.0322 - accuracy: 0.5980 - val_loss: 0.0363 - val_accuracy: 0.5477\n",
      "Epoch 5/100\n",
      "149/149 [==============================] - 57s 380ms/step - loss: 0.0300 - accuracy: 0.6329 - val_loss: 0.0373 - val_accuracy: 0.5439\n",
      "Epoch 6/100\n",
      "149/149 [==============================] - 57s 381ms/step - loss: 0.0281 - accuracy: 0.6584 - val_loss: 0.0386 - val_accuracy: 0.5382\n",
      "Epoch 7/100\n",
      "149/149 [==============================] - 57s 380ms/step - loss: 0.0266 - accuracy: 0.6785 - val_loss: 0.0397 - val_accuracy: 0.5426\n",
      "Epoch 8/100\n",
      "149/149 [==============================] - 57s 382ms/step - loss: 0.0253 - accuracy: 0.6954 - val_loss: 0.0410 - val_accuracy: 0.5370\n",
      "Epoch 9/100\n",
      "149/149 [==============================] - 57s 380ms/step - loss: 0.0242 - accuracy: 0.7088 - val_loss: 0.0423 - val_accuracy: 0.5339\n",
      "Epoch 10/100\n",
      "149/149 [==============================] - 56s 379ms/step - loss: 0.0236 - accuracy: 0.7168 - val_loss: 0.0433 - val_accuracy: 0.5314\n",
      "Epoch 11/100\n",
      "149/149 [==============================] - 57s 380ms/step - loss: 0.0228 - accuracy: 0.7272 - val_loss: 0.0450 - val_accuracy: 0.5331\n",
      "Epoch 12/100\n",
      "149/149 [==============================] - 57s 382ms/step - loss: 0.0223 - accuracy: 0.7348 - val_loss: 0.0457 - val_accuracy: 0.5287\n",
      "Epoch 13/100\n",
      "149/149 [==============================] - 56s 379ms/step - loss: 0.0218 - accuracy: 0.7404 - val_loss: 0.0469 - val_accuracy: 0.5262\n",
      "Epoch 14/100\n",
      "149/149 [==============================] - 56s 379ms/step - loss: 0.0213 - accuracy: 0.7480 - val_loss: 0.0484 - val_accuracy: 0.5261\n"
     ]
    }
   ],
   "source": [
    "num_epochs = 100\n",
    "history_2 = model_2.fit(train_padded, \n",
    "                        train_labels, \n",
    "                        epochs=num_epochs,\n",
    "                        batch_size=2048,\n",
    "                        validation_data=(val_padded, validation_labels),\n",
    "                        callbacks = [early_stopping])"
   ]
  },
  {
   "cell_type": "code",
   "execution_count": 0,
   "metadata": {
    "colab": {
     "base_uri": "https://localhost:8080/",
     "height": 285
    },
    "colab_type": "code",
    "id": "vyVH-o0T2AgO",
    "outputId": "cc1209a2-971e-4359-df61-74cb31f47ef4"
   },
   "outputs": [
    {
     "data": {
      "image/png": "[encoded data removed]",
      "text/plain": [
       "<Figure size 432x288 with 1 Axes>"
      ]
     },
     "metadata": {
      "tags": []
     },
     "output_type": "display_data"
    }
   ],
   "source": [
    "plot_graphs(history_2, 'accuracy')"
   ]
  },
  {
   "cell_type": "code",
   "execution_count": 0,
   "metadata": {
    "colab": {
     "base_uri": "https://localhost:8080/",
     "height": 285
    },
    "colab_type": "code",
    "id": "W83rvxSa2GDE",
    "outputId": "a8f8b131-5ccc-4216-b2b2-6db9fea9343d"
   },
   "outputs": [
    {
     "data": {
      "image/png": "[encoded data removed]",
      "text/plain": [
       "<Figure size 432x288 with 1 Axes>"
      ]
     },
     "metadata": {
      "tags": []
     },
     "output_type": "display_data"
    }
   ],
   "source": [
    "plot_graphs(history_2, 'loss')"
   ]
  },
  {
   "cell_type": "code",
   "execution_count": 0,
   "metadata": {
    "colab": {},
    "colab_type": "code",
    "id": "h3543m6uaKBH"
   },
   "outputs": [],
   "source": [
    "predictions = model_2.predict(test_padded)"
   ]
  },
  {
   "cell_type": "code",
   "execution_count": 0,
   "metadata": {
    "colab": {
     "base_uri": "https://localhost:8080/",
     "height": 1000
    },
    "colab_type": "code",
    "id": "3wwjaHrraLfd",
    "outputId": "e0b8bc37-f210-463c-8ed9-d01ca3657ff8"
   },
   "outputs": [
    {
     "name": "stdout",
     "output_type": "stream",
     "text": [
      "Class: 26\n",
      "Accuracy: 7035/8999\n",
      "\n",
      "Class: 37\n",
      "Accuracy: 299/790\n",
      "\n",
      "Class: 39\n",
      "Accuracy: 23/111\n",
      "\n",
      "Class: 90\n",
      "Accuracy: 855/1214\n",
      "\n",
      "Class: 42\n",
      "Accuracy: 600/1338\n",
      "\n",
      "Class: 21\n",
      "Accuracy: 99/384\n",
      "\n",
      "Class: 60\n",
      "Accuracy: 630/1210\n",
      "\n",
      "Class: 35\n",
      "Accuracy: 737/1688\n",
      "\n",
      "Class: 32\n",
      "Accuracy: 384/1002\n",
      "\n",
      "Class: 45\n",
      "Accuracy: 7/80\n",
      "\n",
      "Class: 7\n",
      "Accuracy: 4/104\n",
      "\n",
      "Class: 6\n",
      "Accuracy: 635/1071\n",
      "\n",
      "Class: 44\n",
      "Accuracy: 42/183\n",
      "\n",
      "Class: 92\n",
      "Accuracy: 121/389\n",
      "\n",
      "Class: 48\n",
      "Accuracy: 46/163\n",
      "\n",
      "Class: 61\n",
      "Accuracy: 239/979\n",
      "\n",
      "Class: 34\n",
      "Accuracy: 7/80\n",
      "\n",
      "Class: 16\n",
      "Accuracy: 904/1625\n",
      "\n",
      "Class: 63\n",
      "Accuracy: 34/122\n",
      "\n",
      "Class: 27\n",
      "Accuracy: 25/176\n",
      "\n",
      "Class: 65\n",
      "Accuracy: 5/151\n",
      "\n",
      "Class: 9\n",
      "Accuracy: 25/86\n",
      "\n",
      "Class: 77\n",
      "Accuracy: 43/142\n",
      "\n",
      "Class: 94\n",
      "Accuracy: 212/472\n",
      "\n",
      "Class: 78\n",
      "Accuracy: 6/75\n",
      "\n",
      "Class: 17\n",
      "Accuracy: 39/88\n",
      "\n",
      "Class: 67\n",
      "Accuracy: 87/284\n",
      "\n",
      "Class: 93\n",
      "Accuracy: 39/101\n",
      "\n",
      "Class: 75\n",
      "Accuracy: 33/174\n",
      "\n",
      "Class: 66\n",
      "Accuracy: 39/60\n",
      "\n",
      "Class: 51\n",
      "Accuracy: 42/120\n",
      "\n",
      "Class: 55\n",
      "Accuracy: 71/139\n",
      "\n",
      "Class: 50\n",
      "Accuracy: 23/79\n",
      "\n",
      "Class: 30\n",
      "Accuracy: 28/166\n",
      "\n",
      "Class: 23\n",
      "Accuracy: 1142/1884\n",
      "\n",
      "Class: 28\n",
      "Accuracy: 1747/3159\n",
      "\n",
      "Class: 36\n",
      "Accuracy: 343/699\n",
      "\n",
      "Class: 15\n",
      "Accuracy: 226/514\n",
      "\n",
      "Class: 41\n",
      "Accuracy: 452/1240\n",
      "\n",
      "Class: 82\n",
      "Accuracy: 39/73\n",
      "\n",
      "Class: 2\n",
      "Accuracy: 546/1012\n",
      "\n",
      "Class: 64\n",
      "Accuracy: 21/324\n",
      "\n",
      "Class: 91\n",
      "Accuracy: 320/575\n",
      "\n",
      "Class: 56\n",
      "Accuracy: 21/86\n",
      "\n",
      "Class: 62\n",
      "Accuracy: 68/210\n",
      "\n",
      "Class: 59\n",
      "Accuracy: 870/1456\n",
      "\n",
      "Class: 10\n",
      "Accuracy: 46/310\n",
      "\n",
      "Class: 58\n",
      "Accuracy: 78/497\n",
      "\n",
      "Class: 29\n",
      "Accuracy: 7/107\n",
      "\n",
      "Class: 31\n",
      "Accuracy: 263/752\n",
      "\n",
      "Class: 43\n",
      "Accuracy: 48/206\n",
      "\n",
      "Class: 3\n",
      "Accuracy: 34/347\n",
      "\n",
      "Class: 80\n",
      "Accuracy: 61/175\n",
      "\n",
      "Class: 57\n",
      "Accuracy: 27/63\n",
      "\n",
      "Class: 33\n",
      "Accuracy: 6/55\n",
      "\n",
      "Class: 4\n",
      "Accuracy: 21/88\n",
      "\n",
      "Class: 14\n",
      "Accuracy: 37/96\n",
      "\n",
      "Class: 38\n",
      "Accuracy: 16/91\n",
      "\n",
      "Class: 40\n",
      "Accuracy: 9/69\n",
      "\n",
      "None\n"
     ]
    }
   ],
   "source": [
    "print(accuracy_per_class(predictions, np.array(df[df.data_type == 'test'].label)))"
   ]
  },
  {
   "cell_type": "code",
   "execution_count": 0,
   "metadata": {
    "colab": {
     "base_uri": "https://localhost:8080/",
     "height": 34
    },
    "colab_type": "code",
    "id": "loUEHDsxaMm7",
    "outputId": "634a31a3-64b8-461a-ef51-4aa3898e08e7"
   },
   "outputs": [
    {
     "name": "stdout",
     "output_type": "stream",
     "text": [
      "0.5148230858183126\n"
     ]
    }
   ],
   "source": [
    "print(f1_score_func(predictions, np.array(df[df.data_type == 'test'].label)))"
   ]
  },
  {
   "cell_type": "markdown",
   "metadata": {
    "colab_type": "text",
    "id": "F9xatwhJaOQB"
   },
   "source": [
    "# Model 3"
   ]
  },
  {
   "cell_type": "code",
   "execution_count": 0,
   "metadata": {
    "colab": {
     "base_uri": "https://localhost:8080/",
     "height": 493
    },
    "colab_type": "code",
    "id": "SbzV-SFnaNnj",
    "outputId": "e92335c3-cf15-4650-e66c-4c9a8b01eb73"
   },
   "outputs": [
    {
     "name": "stdout",
     "output_type": "stream",
     "text": [
      "Model: \"sequential_2\"\n",
      "_________________________________________________________________\n",
      "Layer (type)                 Output Shape              Param #   \n",
      "=================================================================\n",
      "embedding_2 (Embedding)      (None, 200, 100)          9384600   \n",
      "_________________________________________________________________\n",
      "dropout_1 (Dropout)          (None, 200, 100)          0         \n",
      "_________________________________________________________________\n",
      "conv1d_1 (Conv1D)            (None, 196, 64)           32064     \n",
      "_________________________________________________________________\n",
      "max_pooling1d_1 (MaxPooling1 (None, 49, 64)            0         \n",
      "_________________________________________________________________\n",
      "dropout_2 (Dropout)          (None, 49, 64)            0         \n",
      "_________________________________________________________________\n",
      "bidirectional_3 (Bidirection (None, 128)               66048     \n",
      "_________________________________________________________________\n",
      "dropout_3 (Dropout)          (None, 128)               0         \n",
      "_________________________________________________________________\n",
      "dense_3 (Dense)              (None, 64)                8256      \n",
      "_________________________________________________________________\n",
      "dropout_4 (Dropout)          (None, 64)                0         \n",
      "_________________________________________________________________\n",
      "dense_4 (Dense)              (None, 59)                3835      \n",
      "=================================================================\n",
      "Total params: 9,494,803\n",
      "Trainable params: 110,203\n",
      "Non-trainable params: 9,384,600\n",
      "_________________________________________________________________\n"
     ]
    }
   ],
   "source": [
    "model_3 = tf.keras.Sequential([\n",
    "        tf.keras.layers.Embedding(vocab_size+1, embedding_dim, input_length=max_length, weights=[embedding_matrix], trainable=False),\n",
    "        tf.keras.layers.Dropout(0.2),\n",
    "        tf.keras.layers.Conv1D(64, 5, activation='relu'),\n",
    "        tf.keras.layers.MaxPooling1D(pool_size=4),\n",
    "        tf.keras.layers.Dropout(0.2),\n",
    "        tf.keras.layers.Bidirectional(tf.keras.layers.LSTM(64)),\n",
    "        tf.keras.layers.Dropout(0.2),\n",
    "        # tf.keras.layers.LSTM(60),\n",
    "        tf.keras.layers.Dense(64, activation='relu'),\n",
    "        tf.keras.layers.Dropout(0.2),\n",
    "        tf.keras.layers.Dense(59, activation='softmax')\n",
    "])\n",
    "\n",
    "adam = tf.keras.optimizers.Adam(lr=0.02)\n",
    "model_3.compile(loss='categorical_crossentropy',optimizer=adam,metrics=['accuracy'])\n",
    "model_3.summary()"
   ]
  },
  {
   "cell_type": "code",
   "execution_count": 0,
   "metadata": {
    "colab": {
     "base_uri": "https://localhost:8080/",
     "height": 629
    },
    "colab_type": "code",
    "id": "4D01e4mFaRGm",
    "outputId": "95b2f63d-9964-477d-b2c6-05b22fe8ae94"
   },
   "outputs": [
    {
     "name": "stdout",
     "output_type": "stream",
     "text": [
      "Epoch 1/100\n",
      "1186/1186 [==============================] - 23s 19ms/step - loss: 2.3648 - accuracy: 0.3244 - val_loss: 2.0363 - val_accuracy: 0.3661\n",
      "Epoch 2/100\n",
      "1186/1186 [==============================] - 22s 18ms/step - loss: 2.1779 - accuracy: 0.3465 - val_loss: 2.0366 - val_accuracy: 0.3660\n",
      "Epoch 3/100\n",
      "1186/1186 [==============================] - 22s 19ms/step - loss: 2.1623 - accuracy: 0.3490 - val_loss: 2.0092 - val_accuracy: 0.3688\n",
      "Epoch 4/100\n",
      "1186/1186 [==============================] - 22s 19ms/step - loss: 2.1629 - accuracy: 0.3507 - val_loss: 2.0047 - val_accuracy: 0.3689\n",
      "Epoch 5/100\n",
      "1186/1186 [==============================] - 22s 19ms/step - loss: 2.1732 - accuracy: 0.3497 - val_loss: 2.0172 - val_accuracy: 0.3615\n",
      "Epoch 6/100\n",
      "1186/1186 [==============================] - 22s 19ms/step - loss: 2.1618 - accuracy: 0.3507 - val_loss: 2.0014 - val_accuracy: 0.3648\n",
      "Epoch 7/100\n",
      "1186/1186 [==============================] - 22s 19ms/step - loss: 2.1713 - accuracy: 0.3487 - val_loss: 1.9947 - val_accuracy: 0.3735\n",
      "Epoch 8/100\n",
      "1186/1186 [==============================] - 22s 19ms/step - loss: 2.1506 - accuracy: 0.3519 - val_loss: 1.9842 - val_accuracy: 0.3732\n",
      "Epoch 9/100\n",
      "1186/1186 [==============================] - 22s 19ms/step - loss: 2.1729 - accuracy: 0.3488 - val_loss: 2.0225 - val_accuracy: 0.3654\n",
      "Epoch 10/100\n",
      "1186/1186 [==============================] - 22s 19ms/step - loss: 2.1730 - accuracy: 0.3488 - val_loss: 2.0156 - val_accuracy: 0.3707\n",
      "Epoch 11/100\n",
      "1186/1186 [==============================] - 22s 19ms/step - loss: 2.1707 - accuracy: 0.3502 - val_loss: 2.0038 - val_accuracy: 0.3684\n",
      "Epoch 12/100\n",
      "1186/1186 [==============================] - 22s 19ms/step - loss: 2.1814 - accuracy: 0.3484 - val_loss: 2.0067 - val_accuracy: 0.3693\n",
      "Epoch 13/100\n",
      "1186/1186 [==============================] - 22s 18ms/step - loss: 2.1853 - accuracy: 0.3489 - val_loss: 2.0275 - val_accuracy: 0.3681\n",
      "Epoch 14/100\n",
      "1186/1186 [==============================] - 22s 19ms/step - loss: 2.1744 - accuracy: 0.3504 - val_loss: 2.0073 - val_accuracy: 0.3707\n",
      "Epoch 15/100\n",
      "1186/1186 [==============================] - 22s 19ms/step - loss: 2.1896 - accuracy: 0.3474 - val_loss: 2.1644 - val_accuracy: 0.3500\n",
      "Epoch 16/100\n",
      "1186/1186 [==============================] - 22s 19ms/step - loss: 2.3240 - accuracy: 0.3271 - val_loss: 2.0940 - val_accuracy: 0.3537\n",
      "Epoch 17/100\n",
      "1186/1186 [==============================] - 22s 19ms/step - loss: 2.2694 - accuracy: 0.3354 - val_loss: 2.0969 - val_accuracy: 0.3553\n",
      "Epoch 18/100\n",
      "1186/1186 [==============================] - 22s 19ms/step - loss: 2.2587 - accuracy: 0.3362 - val_loss: 2.0660 - val_accuracy: 0.3615\n"
     ]
    }
   ],
   "source": [
    "num_epochs = 100\n",
    "history_3 = model_3.fit(train_padded, \n",
    "                        train_labels, \n",
    "                        epochs=num_epochs,\n",
    "                        batch_size=256,\n",
    "                        validation_data=(val_padded, validation_labels),\n",
    "                        callbacks = [early_stopping])"
   ]
  },
  {
   "cell_type": "code",
   "execution_count": 0,
   "metadata": {
    "colab": {
     "base_uri": "https://localhost:8080/",
     "height": 285
    },
    "colab_type": "code",
    "id": "SqhzY3oUaSfB",
    "outputId": "87697c9d-68fb-4820-a2fe-2b03e71db661"
   },
   "outputs": [
    {
     "data": {
      "image/png": "[encoded data removed]",
      "text/plain": [
       "<Figure size 432x288 with 1 Axes>"
      ]
     },
     "metadata": {
      "tags": []
     },
     "output_type": "display_data"
    }
   ],
   "source": [
    "plot_graphs(history_3, 'accuracy')"
   ]
  },
  {
   "cell_type": "code",
   "execution_count": 0,
   "metadata": {
    "colab": {
     "base_uri": "https://localhost:8080/",
     "height": 285
    },
    "colab_type": "code",
    "id": "05aSYYFFaTr2",
    "outputId": "78e9eb68-4939-408a-c135-93bc6c726e1b"
   },
   "outputs": [
    {
     "data": {
      "image/png": "[encoded data removed]",
      "text/plain": [
       "<Figure size 432x288 with 1 Axes>"
      ]
     },
     "metadata": {
      "tags": []
     },
     "output_type": "display_data"
    }
   ],
   "source": [
    "plot_graphs(history_3, 'loss')"
   ]
  },
  {
   "cell_type": "code",
   "execution_count": 0,
   "metadata": {
    "colab": {},
    "colab_type": "code",
    "id": "EZMO5DFsaU-h"
   },
   "outputs": [],
   "source": [
    "predictions = model_3.predict(test_padded)"
   ]
  },
  {
   "cell_type": "code",
   "execution_count": 0,
   "metadata": {
    "colab": {
     "base_uri": "https://localhost:8080/",
     "height": 1000
    },
    "colab_type": "code",
    "id": "azfzmVK5aWIp",
    "outputId": "217eed60-c570-4e44-e4e0-1df5fe6940df"
   },
   "outputs": [
    {
     "name": "stdout",
     "output_type": "stream",
     "text": [
      "Class: 26\n",
      "Accuracy: 7596/8999\n",
      "\n",
      "Class: 37\n",
      "Accuracy: 296/790\n",
      "\n",
      "Class: 39\n",
      "Accuracy: 0/111\n",
      "\n",
      "Class: 90\n",
      "Accuracy: 996/1214\n",
      "\n",
      "Class: 42\n",
      "Accuracy: 0/1338\n",
      "\n",
      "Class: 21\n",
      "Accuracy: 0/384\n",
      "\n",
      "Class: 60\n",
      "Accuracy: 0/1210\n",
      "\n",
      "Class: 35\n",
      "Accuracy: 465/1688\n",
      "\n",
      "Class: 32\n",
      "Accuracy: 7/1002\n",
      "\n",
      "Class: 45\n",
      "Accuracy: 0/80\n",
      "\n",
      "Class: 7\n",
      "Accuracy: 0/104\n",
      "\n",
      "Class: 6\n",
      "Accuracy: 44/1071\n",
      "\n",
      "Class: 44\n",
      "Accuracy: 0/183\n",
      "\n",
      "Class: 92\n",
      "Accuracy: 0/389\n",
      "\n",
      "Class: 48\n",
      "Accuracy: 0/163\n",
      "\n",
      "Class: 61\n",
      "Accuracy: 0/979\n",
      "\n",
      "Class: 34\n",
      "Accuracy: 0/80\n",
      "\n",
      "Class: 16\n",
      "Accuracy: 60/1625\n",
      "\n",
      "Class: 63\n",
      "Accuracy: 0/122\n",
      "\n",
      "Class: 27\n",
      "Accuracy: 0/176\n",
      "\n",
      "Class: 65\n",
      "Accuracy: 0/151\n",
      "\n",
      "Class: 9\n",
      "Accuracy: 0/86\n",
      "\n",
      "Class: 77\n",
      "Accuracy: 0/142\n",
      "\n",
      "Class: 94\n",
      "Accuracy: 179/472\n",
      "\n",
      "Class: 78\n",
      "Accuracy: 0/75\n",
      "\n",
      "Class: 17\n",
      "Accuracy: 0/88\n",
      "\n",
      "Class: 67\n",
      "Accuracy: 0/284\n",
      "\n",
      "Class: 93\n",
      "Accuracy: 0/101\n",
      "\n",
      "Class: 75\n",
      "Accuracy: 0/174\n",
      "\n",
      "Class: 66\n",
      "Accuracy: 0/60\n",
      "\n",
      "Class: 51\n",
      "Accuracy: 0/120\n",
      "\n",
      "Class: 55\n",
      "Accuracy: 0/139\n",
      "\n",
      "Class: 50\n",
      "Accuracy: 0/79\n",
      "\n",
      "Class: 30\n",
      "Accuracy: 0/166\n",
      "\n",
      "Class: 23\n",
      "Accuracy: 1267/1884\n",
      "\n",
      "Class: 28\n",
      "Accuracy: 1/3159\n",
      "\n",
      "Class: 36\n",
      "Accuracy: 0/699\n",
      "\n",
      "Class: 15\n",
      "Accuracy: 85/514\n",
      "\n",
      "Class: 41\n",
      "Accuracy: 600/1240\n",
      "\n",
      "Class: 82\n",
      "Accuracy: 0/73\n",
      "\n",
      "Class: 2\n",
      "Accuracy: 805/1012\n",
      "\n",
      "Class: 64\n",
      "Accuracy: 0/324\n",
      "\n",
      "Class: 91\n",
      "Accuracy: 0/575\n",
      "\n",
      "Class: 56\n",
      "Accuracy: 0/86\n",
      "\n",
      "Class: 62\n",
      "Accuracy: 0/210\n",
      "\n",
      "Class: 59\n",
      "Accuracy: 1294/1456\n",
      "\n",
      "Class: 10\n",
      "Accuracy: 0/310\n",
      "\n",
      "Class: 58\n",
      "Accuracy: 0/497\n",
      "\n",
      "Class: 29\n",
      "Accuracy: 0/107\n",
      "\n",
      "Class: 31\n",
      "Accuracy: 0/752\n",
      "\n",
      "Class: 43\n",
      "Accuracy: 1/206\n",
      "\n",
      "Class: 3\n",
      "Accuracy: 0/347\n",
      "\n",
      "Class: 80\n",
      "Accuracy: 5/175\n",
      "\n",
      "Class: 57\n",
      "Accuracy: 0/63\n",
      "\n",
      "Class: 33\n",
      "Accuracy: 0/55\n",
      "\n",
      "Class: 4\n",
      "Accuracy: 0/88\n",
      "\n",
      "Class: 14\n",
      "Accuracy: 0/96\n",
      "\n",
      "Class: 38\n",
      "Accuracy: 0/91\n",
      "\n",
      "Class: 40\n",
      "Accuracy: 0/69\n",
      "\n",
      "None\n"
     ]
    }
   ],
   "source": [
    "print(accuracy_per_class(predictions, np.array(df[df.data_type == 'test'].label)))"
   ]
  },
  {
   "cell_type": "code",
   "execution_count": 0,
   "metadata": {
    "colab": {
     "base_uri": "https://localhost:8080/",
     "height": 34
    },
    "colab_type": "code",
    "id": "-1hOTyjPaXD4",
    "outputId": "4049ca4b-99fe-4895-f349-6d68497f1db2"
   },
   "outputs": [
    {
     "name": "stdout",
     "output_type": "stream",
     "text": [
      "0.2536202412022736\n"
     ]
    }
   ],
   "source": [
    "print(f1_score_func(predictions, np.array(df[df.data_type == 'test'].label)))"
   ]
  },
  {
   "cell_type": "markdown",
   "metadata": {
    "colab_type": "text",
    "id": "3LDB4Ow3aYo0"
   },
   "source": [
    "# Model 4"
   ]
  },
  {
   "cell_type": "code",
   "execution_count": 0,
   "metadata": {
    "colab": {
     "base_uri": "https://localhost:8080/",
     "height": 391
    },
    "colab_type": "code",
    "id": "kPnAgTcwaX-j",
    "outputId": "971b56b6-41df-4f8e-ef19-be4a07a211a6"
   },
   "outputs": [
    {
     "name": "stdout",
     "output_type": "stream",
     "text": [
      "Model: \"sequential_3\"\n",
      "_________________________________________________________________\n",
      "Layer (type)                 Output Shape              Param #   \n",
      "=================================================================\n",
      "embedding_3 (Embedding)      (None, 200, 100)          9384600   \n",
      "_________________________________________________________________\n",
      "lstm_4 (LSTM)                (None, 200, 60)           38640     \n",
      "_________________________________________________________________\n",
      "global_max_pooling1d (Global (None, 60)                0         \n",
      "_________________________________________________________________\n",
      "dropout_5 (Dropout)          (None, 60)                0         \n",
      "_________________________________________________________________\n",
      "dense_5 (Dense)              (None, 50)                3050      \n",
      "_________________________________________________________________\n",
      "dropout_6 (Dropout)          (None, 50)                0         \n",
      "_________________________________________________________________\n",
      "dense_6 (Dense)              (None, 59)                3009      \n",
      "=================================================================\n",
      "Total params: 9,429,299\n",
      "Trainable params: 44,699\n",
      "Non-trainable params: 9,384,600\n",
      "_________________________________________________________________\n"
     ]
    }
   ],
   "source": [
    "model_4 = tf.keras.Sequential([\n",
    "        tf.keras.layers.Embedding(vocab_size+1, embedding_dim, input_length=max_length, weights=[embedding_matrix], trainable=False),\n",
    "        tf.keras.layers.LSTM(60, return_sequences=True),\n",
    "        tf.keras.layers.GlobalMaxPool1D(),\n",
    "        tf.keras.layers.Dropout(0.1),\n",
    "        tf.keras.layers.Dense(50, activation=\"relu\"),\n",
    "        tf.keras.layers.Dropout(0.1),\n",
    "        tf.keras.layers.Dense(59, activation='softmax')\n",
    "])\n",
    "\n",
    "adam = tf.keras.optimizers.Adam(lr=0.02)\n",
    "model_4.compile(loss='categorical_crossentropy',optimizer=adam,metrics=['accuracy'])\n",
    "model_4.summary()"
   ]
  },
  {
   "cell_type": "code",
   "execution_count": 0,
   "metadata": {
    "colab": {
     "base_uri": "https://localhost:8080/",
     "height": 1000
    },
    "colab_type": "code",
    "id": "zTbxl4XEaaxe",
    "outputId": "a8d8f6e2-0638-435a-a945-1a44d8a9b52e"
   },
   "outputs": [
    {
     "name": "stdout",
     "output_type": "stream",
     "text": [
      "Epoch 1/100\n",
      "1186/1186 [==============================] - 27s 23ms/step - loss: 1.9628 - accuracy: 0.4026 - val_loss: 1.7270 - val_accuracy: 0.4547\n",
      "Epoch 2/100\n",
      "1186/1186 [==============================] - 27s 23ms/step - loss: 1.7911 - accuracy: 0.4366 - val_loss: 1.6774 - val_accuracy: 0.4597\n",
      "Epoch 3/100\n",
      "1186/1186 [==============================] - 27s 23ms/step - loss: 1.7589 - accuracy: 0.4468 - val_loss: 1.6615 - val_accuracy: 0.4713\n",
      "Epoch 4/100\n",
      "1186/1186 [==============================] - 27s 23ms/step - loss: 1.7371 - accuracy: 0.4498 - val_loss: 1.6686 - val_accuracy: 0.4709\n",
      "Epoch 5/100\n",
      "1186/1186 [==============================] - 27s 23ms/step - loss: 1.7292 - accuracy: 0.4521 - val_loss: 1.6567 - val_accuracy: 0.4642\n",
      "Epoch 6/100\n",
      "1186/1186 [==============================] - 27s 23ms/step - loss: 1.7259 - accuracy: 0.4530 - val_loss: 1.6465 - val_accuracy: 0.4759\n",
      "Epoch 7/100\n",
      "1186/1186 [==============================] - 27s 23ms/step - loss: 1.7188 - accuracy: 0.4556 - val_loss: 1.6361 - val_accuracy: 0.4727\n",
      "Epoch 8/100\n",
      "1186/1186 [==============================] - 27s 23ms/step - loss: 1.7174 - accuracy: 0.4574 - val_loss: 1.6412 - val_accuracy: 0.4711\n",
      "Epoch 9/100\n",
      "1186/1186 [==============================] - 27s 23ms/step - loss: 1.7199 - accuracy: 0.4547 - val_loss: 1.6528 - val_accuracy: 0.4668\n",
      "Epoch 10/100\n",
      "1186/1186 [==============================] - 27s 23ms/step - loss: 1.7129 - accuracy: 0.4583 - val_loss: 1.6341 - val_accuracy: 0.4774\n",
      "Epoch 11/100\n",
      "1186/1186 [==============================] - 27s 23ms/step - loss: 1.7081 - accuracy: 0.4598 - val_loss: 1.6323 - val_accuracy: 0.4804\n",
      "Epoch 12/100\n",
      "1186/1186 [==============================] - 27s 23ms/step - loss: 1.7052 - accuracy: 0.4582 - val_loss: 1.6312 - val_accuracy: 0.4742\n",
      "Epoch 13/100\n",
      "1186/1186 [==============================] - 27s 22ms/step - loss: 1.7051 - accuracy: 0.4593 - val_loss: 1.6587 - val_accuracy: 0.4712\n",
      "Epoch 14/100\n",
      "1186/1186 [==============================] - 27s 23ms/step - loss: 1.7068 - accuracy: 0.4595 - val_loss: 1.6280 - val_accuracy: 0.4775\n",
      "Epoch 15/100\n",
      "1186/1186 [==============================] - 27s 23ms/step - loss: 1.6973 - accuracy: 0.4600 - val_loss: 1.6265 - val_accuracy: 0.4798\n",
      "Epoch 16/100\n",
      "1186/1186 [==============================] - 27s 23ms/step - loss: 1.6974 - accuracy: 0.4606 - val_loss: 1.6217 - val_accuracy: 0.4797\n",
      "Epoch 17/100\n",
      "1186/1186 [==============================] - 27s 23ms/step - loss: 1.6988 - accuracy: 0.4611 - val_loss: 1.6476 - val_accuracy: 0.4676\n",
      "Epoch 18/100\n",
      "1186/1186 [==============================] - 27s 23ms/step - loss: 1.6943 - accuracy: 0.4611 - val_loss: 1.6203 - val_accuracy: 0.4800\n",
      "Epoch 19/100\n",
      "1186/1186 [==============================] - 27s 23ms/step - loss: 1.6918 - accuracy: 0.4623 - val_loss: 1.6212 - val_accuracy: 0.4810\n",
      "Epoch 20/100\n",
      "1186/1186 [==============================] - 27s 23ms/step - loss: 1.6900 - accuracy: 0.4622 - val_loss: 1.6309 - val_accuracy: 0.4769\n",
      "Epoch 21/100\n",
      "1186/1186 [==============================] - 27s 22ms/step - loss: 1.6924 - accuracy: 0.4602 - val_loss: 1.6294 - val_accuracy: 0.4785\n",
      "Epoch 22/100\n",
      "1186/1186 [==============================] - 27s 23ms/step - loss: 1.6906 - accuracy: 0.4628 - val_loss: 1.6260 - val_accuracy: 0.4798\n",
      "Epoch 23/100\n",
      "1186/1186 [==============================] - 27s 23ms/step - loss: 1.6893 - accuracy: 0.4623 - val_loss: 1.6145 - val_accuracy: 0.4868\n",
      "Epoch 24/100\n",
      "1186/1186 [==============================] - 27s 23ms/step - loss: 1.6941 - accuracy: 0.4624 - val_loss: 1.6170 - val_accuracy: 0.4836\n",
      "Epoch 25/100\n",
      "1186/1186 [==============================] - 27s 22ms/step - loss: 1.6897 - accuracy: 0.4629 - val_loss: 1.6248 - val_accuracy: 0.4770\n",
      "Epoch 26/100\n",
      "1186/1186 [==============================] - 27s 23ms/step - loss: 1.6890 - accuracy: 0.4626 - val_loss: 1.6362 - val_accuracy: 0.4812\n",
      "Epoch 27/100\n",
      "1186/1186 [==============================] - 27s 23ms/step - loss: 1.6937 - accuracy: 0.4615 - val_loss: 1.6217 - val_accuracy: 0.4777\n",
      "Epoch 28/100\n",
      "1186/1186 [==============================] - 27s 23ms/step - loss: 1.6969 - accuracy: 0.4612 - val_loss: 1.6256 - val_accuracy: 0.4728\n",
      "Epoch 29/100\n",
      "1186/1186 [==============================] - 27s 23ms/step - loss: 1.6880 - accuracy: 0.4638 - val_loss: 1.6150 - val_accuracy: 0.4815\n",
      "Epoch 30/100\n",
      "1186/1186 [==============================] - 27s 23ms/step - loss: 1.6840 - accuracy: 0.4640 - val_loss: 1.6275 - val_accuracy: 0.4811\n",
      "Epoch 31/100\n",
      "1186/1186 [==============================] - 27s 23ms/step - loss: 1.6890 - accuracy: 0.4641 - val_loss: 1.6342 - val_accuracy: 0.4761\n",
      "Epoch 32/100\n",
      "1186/1186 [==============================] - 27s 23ms/step - loss: 1.6863 - accuracy: 0.4652 - val_loss: 1.6206 - val_accuracy: 0.4829\n",
      "Epoch 33/100\n",
      "1186/1186 [==============================] - 27s 23ms/step - loss: 1.7624 - accuracy: 0.4475 - val_loss: 1.6775 - val_accuracy: 0.4668\n"
     ]
    }
   ],
   "source": [
    "num_epochs = 100\n",
    "history_4 = model_4.fit(train_padded, \n",
    "                        train_labels, \n",
    "                        epochs=num_epochs,\n",
    "                        batch_size=256,\n",
    "                        validation_data=(val_padded, validation_labels),\n",
    "                        callbacks = [early_stopping])"
   ]
  },
  {
   "cell_type": "code",
   "execution_count": 0,
   "metadata": {
    "colab": {
     "base_uri": "https://localhost:8080/",
     "height": 285
    },
    "colab_type": "code",
    "id": "dRysJ_uvabsv",
    "outputId": "8288b841-bf40-4ee6-b943-96fb7910ef71"
   },
   "outputs": [
    {
     "data": {
      "image/png": "[encoded data removed]",
      "text/plain": [
       "<Figure size 432x288 with 1 Axes>"
      ]
     },
     "metadata": {
      "tags": []
     },
     "output_type": "display_data"
    }
   ],
   "source": [
    "plot_graphs(history_4, 'accuracy')"
   ]
  },
  {
   "cell_type": "code",
   "execution_count": 0,
   "metadata": {
    "colab": {
     "base_uri": "https://localhost:8080/",
     "height": 285
    },
    "colab_type": "code",
    "id": "Jwsah5BUaczD",
    "outputId": "fad00f41-2450-495f-a9b3-02c97ec9fc9e"
   },
   "outputs": [
    {
     "data": {
      "image/png": "[encoded data removed]",
      "text/plain": [
       "<Figure size 432x288 with 1 Axes>"
      ]
     },
     "metadata": {
      "tags": []
     },
     "output_type": "display_data"
    }
   ],
   "source": [
    "plot_graphs(history_4, 'loss')"
   ]
  },
  {
   "cell_type": "code",
   "execution_count": 0,
   "metadata": {
    "colab": {},
    "colab_type": "code",
    "id": "cXhalBNjadyg"
   },
   "outputs": [],
   "source": [
    "predictions = model_4.predict(test_padded)"
   ]
  },
  {
   "cell_type": "code",
   "execution_count": 0,
   "metadata": {
    "colab": {
     "base_uri": "https://localhost:8080/",
     "height": 1000
    },
    "colab_type": "code",
    "id": "k61CZZ58ae2h",
    "outputId": "369f2b96-3fb3-49d2-90ab-7ed5c9e29211"
   },
   "outputs": [
    {
     "name": "stdout",
     "output_type": "stream",
     "text": [
      "Class: 26\n",
      "Accuracy: 7921/8999\n",
      "\n",
      "Class: 37\n",
      "Accuracy: 134/790\n",
      "\n",
      "Class: 39\n",
      "Accuracy: 2/111\n",
      "\n",
      "Class: 90\n",
      "Accuracy: 666/1214\n",
      "\n",
      "Class: 42\n",
      "Accuracy: 443/1338\n",
      "\n",
      "Class: 21\n",
      "Accuracy: 86/384\n",
      "\n",
      "Class: 60\n",
      "Accuracy: 649/1210\n",
      "\n",
      "Class: 35\n",
      "Accuracy: 764/1688\n",
      "\n",
      "Class: 32\n",
      "Accuracy: 248/1002\n",
      "\n",
      "Class: 45\n",
      "Accuracy: 0/80\n",
      "\n",
      "Class: 7\n",
      "Accuracy: 0/104\n",
      "\n",
      "Class: 6\n",
      "Accuracy: 690/1071\n",
      "\n",
      "Class: 44\n",
      "Accuracy: 33/183\n",
      "\n",
      "Class: 92\n",
      "Accuracy: 44/389\n",
      "\n",
      "Class: 48\n",
      "Accuracy: 8/163\n",
      "\n",
      "Class: 61\n",
      "Accuracy: 190/979\n",
      "\n",
      "Class: 34\n",
      "Accuracy: 0/80\n",
      "\n",
      "Class: 16\n",
      "Accuracy: 804/1625\n",
      "\n",
      "Class: 63\n",
      "Accuracy: 14/122\n",
      "\n",
      "Class: 27\n",
      "Accuracy: 5/176\n",
      "\n",
      "Class: 65\n",
      "Accuracy: 0/151\n",
      "\n",
      "Class: 9\n",
      "Accuracy: 4/86\n",
      "\n",
      "Class: 77\n",
      "Accuracy: 7/142\n",
      "\n",
      "Class: 94\n",
      "Accuracy: 114/472\n",
      "\n",
      "Class: 78\n",
      "Accuracy: 0/75\n",
      "\n",
      "Class: 17\n",
      "Accuracy: 38/88\n",
      "\n",
      "Class: 67\n",
      "Accuracy: 35/284\n",
      "\n",
      "Class: 93\n",
      "Accuracy: 31/101\n",
      "\n",
      "Class: 75\n",
      "Accuracy: 23/174\n",
      "\n",
      "Class: 66\n",
      "Accuracy: 14/60\n",
      "\n",
      "Class: 51\n",
      "Accuracy: 13/120\n",
      "\n",
      "Class: 55\n",
      "Accuracy: 92/139\n",
      "\n",
      "Class: 50\n",
      "Accuracy: 18/79\n",
      "\n",
      "Class: 30\n",
      "Accuracy: 7/166\n",
      "\n",
      "Class: 23\n",
      "Accuracy: 1061/1884\n",
      "\n",
      "Class: 28\n",
      "Accuracy: 460/3159\n",
      "\n",
      "Class: 36\n",
      "Accuracy: 272/699\n",
      "\n",
      "Class: 15\n",
      "Accuracy: 347/514\n",
      "\n",
      "Class: 41\n",
      "Accuracy: 270/1240\n",
      "\n",
      "Class: 82\n",
      "Accuracy: 10/73\n",
      "\n",
      "Class: 2\n",
      "Accuracy: 464/1012\n",
      "\n",
      "Class: 64\n",
      "Accuracy: 0/324\n",
      "\n",
      "Class: 91\n",
      "Accuracy: 398/575\n",
      "\n",
      "Class: 56\n",
      "Accuracy: 10/86\n",
      "\n",
      "Class: 62\n",
      "Accuracy: 34/210\n",
      "\n",
      "Class: 59\n",
      "Accuracy: 1041/1456\n",
      "\n",
      "Class: 10\n",
      "Accuracy: 29/310\n",
      "\n",
      "Class: 58\n",
      "Accuracy: 0/497\n",
      "\n",
      "Class: 29\n",
      "Accuracy: 0/107\n",
      "\n",
      "Class: 31\n",
      "Accuracy: 199/752\n",
      "\n",
      "Class: 43\n",
      "Accuracy: 18/206\n",
      "\n",
      "Class: 3\n",
      "Accuracy: 9/347\n",
      "\n",
      "Class: 80\n",
      "Accuracy: 54/175\n",
      "\n",
      "Class: 57\n",
      "Accuracy: 28/63\n",
      "\n",
      "Class: 33\n",
      "Accuracy: 0/55\n",
      "\n",
      "Class: 4\n",
      "Accuracy: 15/88\n",
      "\n",
      "Class: 14\n",
      "Accuracy: 42/96\n",
      "\n",
      "Class: 38\n",
      "Accuracy: 0/91\n",
      "\n",
      "Class: 40\n",
      "Accuracy: 0/69\n",
      "\n",
      "None\n"
     ]
    }
   ],
   "source": [
    "print(accuracy_per_class(predictions, np.array(df[df.data_type == 'test'].label)))"
   ]
  },
  {
   "cell_type": "code",
   "execution_count": 0,
   "metadata": {
    "colab": {
     "base_uri": "https://localhost:8080/",
     "height": 34
    },
    "colab_type": "code",
    "id": "Xp4wHl8-af1v",
    "outputId": "35e01366-0437-4e47-9b36-0125e8caea6a"
   },
   "outputs": [
    {
     "name": "stdout",
     "output_type": "stream",
     "text": [
      "0.4220020965137315\n"
     ]
    }
   ],
   "source": [
    "print(f1_score_func(predictions, np.array(df[df.data_type == 'test'].label)))"
   ]
  },
  {
   "cell_type": "markdown",
   "metadata": {
    "colab_type": "text",
    "id": "g7vSgDrIjU0Q"
   },
   "source": [
    "## Let us try a simple model with glove embeddings and see how that performs"
   ]
  },
  {
   "cell_type": "markdown",
   "metadata": {
    "colab_type": "text",
    "id": "q71Go8liV2ft"
   },
   "source": [
    "# Model 5"
   ]
  },
  {
   "cell_type": "code",
   "execution_count": 0,
   "metadata": {
    "colab": {
     "base_uri": "https://localhost:8080/",
     "height": 289
    },
    "colab_type": "code",
    "id": "27X1AoiGjak8",
    "outputId": "2c660f55-81de-4c03-d735-d191047322c5"
   },
   "outputs": [
    {
     "name": "stdout",
     "output_type": "stream",
     "text": [
      "Model: \"sequential_4\"\n",
      "_________________________________________________________________\n",
      "Layer (type)                 Output Shape              Param #   \n",
      "=================================================================\n",
      "embedding_4 (Embedding)      (None, 200, 100)          9384600   \n",
      "_________________________________________________________________\n",
      "global_average_pooling1d (Gl (None, 100)               0         \n",
      "_________________________________________________________________\n",
      "dense_7 (Dense)              (None, 128)               12928     \n",
      "_________________________________________________________________\n",
      "dense_8 (Dense)              (None, 59)                7611      \n",
      "=================================================================\n",
      "Total params: 9,405,139\n",
      "Trainable params: 9,405,139\n",
      "Non-trainable params: 0\n",
      "_________________________________________________________________\n"
     ]
    }
   ],
   "source": [
    "model_5 = tf.keras.Sequential([\n",
    "    tf.keras.layers.Embedding(vocab_size+1, embedding_dim, input_length=max_length),\n",
    "    tf.keras.layers.GlobalAveragePooling1D(),\n",
    "    tf.keras.layers.Dense(128, activation='relu'),\n",
    "    tf.keras.layers.Dense(59, activation='softmax')\n",
    "])\n",
    "adam = tf.keras.optimizers.Adam(lr=0.02)\n",
    "model_5.compile(loss='categorical_crossentropy',optimizer=adam,metrics=['accuracy'])\n",
    "model_5.summary()"
   ]
  },
  {
   "cell_type": "code",
   "execution_count": 0,
   "metadata": {
    "colab": {
     "base_uri": "https://localhost:8080/",
     "height": 459
    },
    "colab_type": "code",
    "id": "5bRf3qXAjcmc",
    "outputId": "68169129-f7e0-4050-c858-9b7745ac96ca"
   },
   "outputs": [
    {
     "name": "stdout",
     "output_type": "stream",
     "text": [
      "Epoch 1/100\n",
      "149/149 [==============================] - 30s 202ms/step - loss: 2.0852 - accuracy: 0.3983 - val_loss: 1.5854 - val_accuracy: 0.4973\n",
      "Epoch 2/100\n",
      "149/149 [==============================] - 30s 199ms/step - loss: 1.4526 - accuracy: 0.5298 - val_loss: 1.5057 - val_accuracy: 0.5194\n",
      "Epoch 3/100\n",
      "149/149 [==============================] - 30s 199ms/step - loss: 1.2949 - accuracy: 0.5753 - val_loss: 1.4796 - val_accuracy: 0.5317\n",
      "Epoch 4/100\n",
      "149/149 [==============================] - 30s 200ms/step - loss: 1.1715 - accuracy: 0.6116 - val_loss: 1.5329 - val_accuracy: 0.5243\n",
      "Epoch 5/100\n",
      "149/149 [==============================] - 30s 199ms/step - loss: 1.0636 - accuracy: 0.6471 - val_loss: 1.5847 - val_accuracy: 0.5243\n",
      "Epoch 6/100\n",
      "149/149 [==============================] - 30s 199ms/step - loss: 0.9599 - accuracy: 0.6823 - val_loss: 1.6781 - val_accuracy: 0.5247\n",
      "Epoch 7/100\n",
      "149/149 [==============================] - 30s 200ms/step - loss: 0.8654 - accuracy: 0.7153 - val_loss: 1.7565 - val_accuracy: 0.5228\n",
      "Epoch 8/100\n",
      "149/149 [==============================] - 30s 200ms/step - loss: 0.7765 - accuracy: 0.7447 - val_loss: 1.9012 - val_accuracy: 0.5249\n",
      "Epoch 9/100\n",
      "149/149 [==============================] - 30s 200ms/step - loss: 0.7034 - accuracy: 0.7707 - val_loss: 2.0784 - val_accuracy: 0.5141\n",
      "Epoch 10/100\n",
      "149/149 [==============================] - 29s 196ms/step - loss: 0.6383 - accuracy: 0.7920 - val_loss: 2.1801 - val_accuracy: 0.5189\n",
      "Epoch 11/100\n",
      "149/149 [==============================] - 29s 197ms/step - loss: 0.5835 - accuracy: 0.8111 - val_loss: 2.3222 - val_accuracy: 0.5098\n",
      "Epoch 12/100\n",
      "149/149 [==============================] - 30s 204ms/step - loss: 0.5369 - accuracy: 0.8272 - val_loss: 2.4954 - val_accuracy: 0.5125\n",
      "Epoch 13/100\n",
      "149/149 [==============================] - 30s 201ms/step - loss: 0.4908 - accuracy: 0.8423 - val_loss: 2.6154 - val_accuracy: 0.5122\n"
     ]
    }
   ],
   "source": [
    "num_epochs = 100\n",
    "history_5 = model_5.fit(train_padded, \n",
    "                        train_labels, \n",
    "                        epochs=num_epochs,\n",
    "                        batch_size=2048,\n",
    "                        validation_data=(val_padded, validation_labels),\n",
    "                        callbacks = [early_stopping])"
   ]
  },
  {
   "cell_type": "code",
   "execution_count": 0,
   "metadata": {
    "colab": {
     "base_uri": "https://localhost:8080/",
     "height": 285
    },
    "colab_type": "code",
    "id": "Gq0lYRKpjxqA",
    "outputId": "38a4b6bf-b96a-40a7-8048-badeb6d9cb04"
   },
   "outputs": [
    {
     "data": {
      "image/png": "[encoded data removed]",
      "text/plain": [
       "<Figure size 432x288 with 1 Axes>"
      ]
     },
     "metadata": {
      "tags": []
     },
     "output_type": "display_data"
    }
   ],
   "source": [
    "plot_graphs(history_5, 'accuracy')"
   ]
  },
  {
   "cell_type": "code",
   "execution_count": 0,
   "metadata": {
    "colab": {
     "base_uri": "https://localhost:8080/",
     "height": 285
    },
    "colab_type": "code",
    "id": "l0CG0iRrley4",
    "outputId": "d55ac12c-47cf-4b14-a5ca-346aa2e6ed42"
   },
   "outputs": [
    {
     "data": {
      "image/png": "[encoded data removed]",
      "text/plain": [
       "<Figure size 432x288 with 1 Axes>"
      ]
     },
     "metadata": {
      "tags": []
     },
     "output_type": "display_data"
    }
   ],
   "source": [
    "plot_graphs(history_5, 'accuracy')"
   ]
  },
  {
   "cell_type": "code",
   "execution_count": 0,
   "metadata": {
    "colab": {
     "base_uri": "https://localhost:8080/",
     "height": 1000
    },
    "colab_type": "code",
    "id": "8uaZK0pZlfkf",
    "outputId": "ca44e3a5-da98-4648-b474-217d92b34865"
   },
   "outputs": [
    {
     "name": "stdout",
     "output_type": "stream",
     "text": [
      "Class: 26\n",
      "Accuracy: 7156/8999\n",
      "\n",
      "Class: 37\n",
      "Accuracy: 350/790\n",
      "\n",
      "Class: 39\n",
      "Accuracy: 28/111\n",
      "\n",
      "Class: 90\n",
      "Accuracy: 740/1214\n",
      "\n",
      "Class: 42\n",
      "Accuracy: 486/1338\n",
      "\n",
      "Class: 21\n",
      "Accuracy: 79/384\n",
      "\n",
      "Class: 60\n",
      "Accuracy: 449/1210\n",
      "\n",
      "Class: 35\n",
      "Accuracy: 915/1688\n",
      "\n",
      "Class: 32\n",
      "Accuracy: 339/1002\n",
      "\n",
      "Class: 45\n",
      "Accuracy: 11/80\n",
      "\n",
      "Class: 7\n",
      "Accuracy: 4/104\n",
      "\n",
      "Class: 6\n",
      "Accuracy: 531/1071\n",
      "\n",
      "Class: 44\n",
      "Accuracy: 53/183\n",
      "\n",
      "Class: 92\n",
      "Accuracy: 138/389\n",
      "\n",
      "Class: 48\n",
      "Accuracy: 60/163\n",
      "\n",
      "Class: 61\n",
      "Accuracy: 362/979\n",
      "\n",
      "Class: 34\n",
      "Accuracy: 13/80\n",
      "\n",
      "Class: 16\n",
      "Accuracy: 763/1625\n",
      "\n",
      "Class: 63\n",
      "Accuracy: 18/122\n",
      "\n",
      "Class: 27\n",
      "Accuracy: 29/176\n",
      "\n",
      "Class: 65\n",
      "Accuracy: 9/151\n",
      "\n",
      "Class: 9\n",
      "Accuracy: 15/86\n",
      "\n",
      "Class: 77\n",
      "Accuracy: 25/142\n",
      "\n",
      "Class: 94\n",
      "Accuracy: 162/472\n",
      "\n",
      "Class: 78\n",
      "Accuracy: 7/75\n",
      "\n",
      "Class: 17\n",
      "Accuracy: 32/88\n",
      "\n",
      "Class: 67\n",
      "Accuracy: 86/284\n",
      "\n",
      "Class: 93\n",
      "Accuracy: 43/101\n",
      "\n",
      "Class: 75\n",
      "Accuracy: 22/174\n",
      "\n",
      "Class: 66\n",
      "Accuracy: 35/60\n",
      "\n",
      "Class: 51\n",
      "Accuracy: 26/120\n",
      "\n",
      "Class: 55\n",
      "Accuracy: 69/139\n",
      "\n",
      "Class: 50\n",
      "Accuracy: 26/79\n",
      "\n",
      "Class: 30\n",
      "Accuracy: 24/166\n",
      "\n",
      "Class: 23\n",
      "Accuracy: 1098/1884\n",
      "\n",
      "Class: 28\n",
      "Accuracy: 1880/3159\n",
      "\n",
      "Class: 36\n",
      "Accuracy: 272/699\n",
      "\n",
      "Class: 15\n",
      "Accuracy: 238/514\n",
      "\n",
      "Class: 41\n",
      "Accuracy: 517/1240\n",
      "\n",
      "Class: 82\n",
      "Accuracy: 28/73\n",
      "\n",
      "Class: 2\n",
      "Accuracy: 558/1012\n",
      "\n",
      "Class: 64\n",
      "Accuracy: 31/324\n",
      "\n",
      "Class: 91\n",
      "Accuracy: 277/575\n",
      "\n",
      "Class: 56\n",
      "Accuracy: 15/86\n",
      "\n",
      "Class: 62\n",
      "Accuracy: 59/210\n",
      "\n",
      "Class: 59\n",
      "Accuracy: 699/1456\n",
      "\n",
      "Class: 10\n",
      "Accuracy: 43/310\n",
      "\n",
      "Class: 58\n",
      "Accuracy: 107/497\n",
      "\n",
      "Class: 29\n",
      "Accuracy: 11/107\n",
      "\n",
      "Class: 31\n",
      "Accuracy: 201/752\n",
      "\n",
      "Class: 43\n",
      "Accuracy: 70/206\n",
      "\n",
      "Class: 3\n",
      "Accuracy: 45/347\n",
      "\n",
      "Class: 80\n",
      "Accuracy: 76/175\n",
      "\n",
      "Class: 57\n",
      "Accuracy: 14/63\n",
      "\n",
      "Class: 33\n",
      "Accuracy: 9/55\n",
      "\n",
      "Class: 4\n",
      "Accuracy: 18/88\n",
      "\n",
      "Class: 14\n",
      "Accuracy: 33/96\n",
      "\n",
      "Class: 38\n",
      "Accuracy: 19/91\n",
      "\n",
      "Class: 40\n",
      "Accuracy: 9/69\n",
      "\n",
      "None\n"
     ]
    }
   ],
   "source": [
    "predictions = model_5.predict(test_padded)\n",
    "print(accuracy_per_class(predictions, np.array(df[df.data_type == 'test'].label)))"
   ]
  },
  {
   "cell_type": "code",
   "execution_count": 0,
   "metadata": {
    "colab": {
     "base_uri": "https://localhost:8080/",
     "height": 34
    },
    "colab_type": "code",
    "id": "CjBDFurclqEt",
    "outputId": "bf68d588-a55c-43c4-a59e-0dcbf506f4c6"
   },
   "outputs": [
    {
     "name": "stdout",
     "output_type": "stream",
     "text": [
      "0.5043200247223568\n"
     ]
    }
   ],
   "source": [
    "print(f1_score_func(predictions, np.array(df[df.data_type == 'test'].label)))"
   ]
  },
  {
   "cell_type": "markdown",
   "metadata": {
    "colab_type": "text",
    "id": "Ao6SqAZXWDgU"
   },
   "source": [
    "# Model 6"
   ]
  },
  {
   "cell_type": "code",
   "execution_count": 0,
   "metadata": {
    "colab": {
     "base_uri": "https://localhost:8080/",
     "height": 391
    },
    "colab_type": "code",
    "id": "jagMPJqFlt-q",
    "outputId": "bf427c0b-93ee-4b28-9f7f-073eafa656f2"
   },
   "outputs": [
    {
     "name": "stdout",
     "output_type": "stream",
     "text": [
      "Model: \"sequential_5\"\n",
      "_________________________________________________________________\n",
      "Layer (type)                 Output Shape              Param #   \n",
      "=================================================================\n",
      "embedding_5 (Embedding)      (None, 200, 100)          9384600   \n",
      "_________________________________________________________________\n",
      "dropout_7 (Dropout)          (None, 200, 100)          0         \n",
      "_________________________________________________________________\n",
      "global_average_pooling1d_1 ( (None, 100)               0         \n",
      "_________________________________________________________________\n",
      "dropout_8 (Dropout)          (None, 100)               0         \n",
      "_________________________________________________________________\n",
      "dense_9 (Dense)              (None, 128)               12928     \n",
      "_________________________________________________________________\n",
      "dropout_9 (Dropout)          (None, 128)               0         \n",
      "_________________________________________________________________\n",
      "dense_10 (Dense)             (None, 59)                7611      \n",
      "=================================================================\n",
      "Total params: 9,405,139\n",
      "Trainable params: 9,405,139\n",
      "Non-trainable params: 0\n",
      "_________________________________________________________________\n"
     ]
    }
   ],
   "source": [
    "model_6 = tf.keras.Sequential([\n",
    "    tf.keras.layers.Embedding(vocab_size+1, embedding_dim, input_length=max_length),\n",
    "    tf.keras.layers.Dropout(0.1),\n",
    "    tf.keras.layers.GlobalAveragePooling1D(),\n",
    "    tf.keras.layers.Dropout(0.1),\n",
    "    tf.keras.layers.Dense(128, activation='relu'),\n",
    "    tf.keras.layers.Dropout(0.1),\n",
    "    tf.keras.layers.Dense(59, activation='softmax')\n",
    "])\n",
    "adam = tf.keras.optimizers.Adam(lr=0.02)\n",
    "model_6.compile(loss='categorical_crossentropy',optimizer=adam,metrics=['accuracy'])\n",
    "model_6.summary()"
   ]
  },
  {
   "cell_type": "code",
   "execution_count": 0,
   "metadata": {
    "colab": {
     "base_uri": "https://localhost:8080/",
     "height": 459
    },
    "colab_type": "code",
    "id": "U6nTaddNl0Hu",
    "outputId": "477f3605-7b17-4cfb-ffb1-a48bc230e6d2"
   },
   "outputs": [
    {
     "name": "stdout",
     "output_type": "stream",
     "text": [
      "Epoch 1/100\n",
      "149/149 [==============================] - 30s 203ms/step - loss: 2.1228 - accuracy: 0.3885 - val_loss: 1.6183 - val_accuracy: 0.4894\n",
      "Epoch 2/100\n",
      "149/149 [==============================] - 30s 202ms/step - loss: 1.5203 - accuracy: 0.5089 - val_loss: 1.5217 - val_accuracy: 0.5138\n",
      "Epoch 3/100\n",
      "149/149 [==============================] - 30s 200ms/step - loss: 1.3799 - accuracy: 0.5477 - val_loss: 1.4863 - val_accuracy: 0.5261\n",
      "Epoch 4/100\n",
      "149/149 [==============================] - 30s 202ms/step - loss: 1.2845 - accuracy: 0.5752 - val_loss: 1.4911 - val_accuracy: 0.5302\n",
      "Epoch 5/100\n",
      "149/149 [==============================] - 30s 201ms/step - loss: 1.2075 - accuracy: 0.5988 - val_loss: 1.5134 - val_accuracy: 0.5293\n",
      "Epoch 6/100\n",
      "149/149 [==============================] - 30s 202ms/step - loss: 1.1336 - accuracy: 0.6210 - val_loss: 1.5605 - val_accuracy: 0.5256\n",
      "Epoch 7/100\n",
      "149/149 [==============================] - 30s 202ms/step - loss: 1.0760 - accuracy: 0.6399 - val_loss: 1.6023 - val_accuracy: 0.5256\n",
      "Epoch 8/100\n",
      "149/149 [==============================] - 30s 202ms/step - loss: 1.0199 - accuracy: 0.6593 - val_loss: 1.7008 - val_accuracy: 0.5284\n",
      "Epoch 9/100\n",
      "149/149 [==============================] - 30s 202ms/step - loss: 0.9768 - accuracy: 0.6724 - val_loss: 1.7204 - val_accuracy: 0.5291\n",
      "Epoch 10/100\n",
      "149/149 [==============================] - 30s 201ms/step - loss: 0.9300 - accuracy: 0.6890 - val_loss: 1.7468 - val_accuracy: 0.5231\n",
      "Epoch 11/100\n",
      "149/149 [==============================] - 30s 202ms/step - loss: 0.8916 - accuracy: 0.7018 - val_loss: 1.8041 - val_accuracy: 0.5242\n",
      "Epoch 12/100\n",
      "149/149 [==============================] - 30s 203ms/step - loss: 0.8568 - accuracy: 0.7130 - val_loss: 1.9235 - val_accuracy: 0.5304\n",
      "Epoch 13/100\n",
      "149/149 [==============================] - 30s 203ms/step - loss: 0.8293 - accuracy: 0.7222 - val_loss: 1.9429 - val_accuracy: 0.5264\n"
     ]
    }
   ],
   "source": [
    "num_epochs = 100\n",
    "history_6 = model_6.fit(train_padded, \n",
    "                        train_labels, \n",
    "                        epochs=num_epochs,\n",
    "                        batch_size=2048,\n",
    "                        validation_data=(val_padded, validation_labels),\n",
    "                        callbacks = [early_stopping])"
   ]
  },
  {
   "cell_type": "code",
   "execution_count": 0,
   "metadata": {
    "colab": {
     "base_uri": "https://localhost:8080/",
     "height": 285
    },
    "colab_type": "code",
    "id": "BDdYCF81mAY_",
    "outputId": "0b47dca8-699d-45d5-a1a3-a74acfcedfd8"
   },
   "outputs": [
    {
     "data": {
      "image/png": "[encoded data removed]",
      "text/plain": [
       "<Figure size 432x288 with 1 Axes>"
      ]
     },
     "metadata": {
      "tags": []
     },
     "output_type": "display_data"
    }
   ],
   "source": [
    "plot_graphs(history_6, 'accuracy')"
   ]
  },
  {
   "cell_type": "code",
   "execution_count": 0,
   "metadata": {
    "colab": {
     "base_uri": "https://localhost:8080/",
     "height": 285
    },
    "colab_type": "code",
    "id": "XUyqU6RFmEkh",
    "outputId": "23a32b4a-0272-46df-9c87-61eb6a774781"
   },
   "outputs": [
    {
     "data": {
      "image/png": "[encoded data removed]",
      "text/plain": [
       "<Figure size 432x288 with 1 Axes>"
      ]
     },
     "metadata": {
      "tags": []
     },
     "output_type": "display_data"
    }
   ],
   "source": [
    "plot_graphs(history_6, 'loss')"
   ]
  },
  {
   "cell_type": "code",
   "execution_count": 0,
   "metadata": {
    "colab": {
     "base_uri": "https://localhost:8080/",
     "height": 1000
    },
    "colab_type": "code",
    "id": "eozTv6RjmFxZ",
    "outputId": "68eb33c7-5498-48f6-aa40-a1792a113f68"
   },
   "outputs": [
    {
     "name": "stdout",
     "output_type": "stream",
     "text": [
      "Class: 26\n",
      "Accuracy: 7261/8999\n",
      "\n",
      "Class: 37\n",
      "Accuracy: 353/790\n",
      "\n",
      "Class: 39\n",
      "Accuracy: 22/111\n",
      "\n",
      "Class: 90\n",
      "Accuracy: 877/1214\n",
      "\n",
      "Class: 42\n",
      "Accuracy: 552/1338\n",
      "\n",
      "Class: 21\n",
      "Accuracy: 102/384\n",
      "\n",
      "Class: 60\n",
      "Accuracy: 559/1210\n",
      "\n",
      "Class: 35\n",
      "Accuracy: 860/1688\n",
      "\n",
      "Class: 32\n",
      "Accuracy: 406/1002\n",
      "\n",
      "Class: 45\n",
      "Accuracy: 12/80\n",
      "\n",
      "Class: 7\n",
      "Accuracy: 6/104\n",
      "\n",
      "Class: 6\n",
      "Accuracy: 569/1071\n",
      "\n",
      "Class: 44\n",
      "Accuracy: 34/183\n",
      "\n",
      "Class: 92\n",
      "Accuracy: 128/389\n",
      "\n",
      "Class: 48\n",
      "Accuracy: 52/163\n",
      "\n",
      "Class: 61\n",
      "Accuracy: 313/979\n",
      "\n",
      "Class: 34\n",
      "Accuracy: 15/80\n",
      "\n",
      "Class: 16\n",
      "Accuracy: 712/1625\n",
      "\n",
      "Class: 63\n",
      "Accuracy: 29/122\n",
      "\n",
      "Class: 27\n",
      "Accuracy: 26/176\n",
      "\n",
      "Class: 65\n",
      "Accuracy: 6/151\n",
      "\n",
      "Class: 9\n",
      "Accuracy: 12/86\n",
      "\n",
      "Class: 77\n",
      "Accuracy: 27/142\n",
      "\n",
      "Class: 94\n",
      "Accuracy: 172/472\n",
      "\n",
      "Class: 78\n",
      "Accuracy: 5/75\n",
      "\n",
      "Class: 17\n",
      "Accuracy: 33/88\n",
      "\n",
      "Class: 67\n",
      "Accuracy: 106/284\n",
      "\n",
      "Class: 93\n",
      "Accuracy: 45/101\n",
      "\n",
      "Class: 75\n",
      "Accuracy: 32/174\n",
      "\n",
      "Class: 66\n",
      "Accuracy: 34/60\n",
      "\n",
      "Class: 51\n",
      "Accuracy: 22/120\n",
      "\n",
      "Class: 55\n",
      "Accuracy: 78/139\n",
      "\n",
      "Class: 50\n",
      "Accuracy: 21/79\n",
      "\n",
      "Class: 30\n",
      "Accuracy: 38/166\n",
      "\n",
      "Class: 23\n",
      "Accuracy: 1186/1884\n",
      "\n",
      "Class: 28\n",
      "Accuracy: 1769/3159\n",
      "\n",
      "Class: 36\n",
      "Accuracy: 206/699\n",
      "\n",
      "Class: 15\n",
      "Accuracy: 259/514\n",
      "\n",
      "Class: 41\n",
      "Accuracy: 499/1240\n",
      "\n",
      "Class: 82\n",
      "Accuracy: 29/73\n",
      "\n",
      "Class: 2\n",
      "Accuracy: 587/1012\n",
      "\n",
      "Class: 64\n",
      "Accuracy: 37/324\n",
      "\n",
      "Class: 91\n",
      "Accuracy: 282/575\n",
      "\n",
      "Class: 56\n",
      "Accuracy: 23/86\n",
      "\n",
      "Class: 62\n",
      "Accuracy: 61/210\n",
      "\n",
      "Class: 59\n",
      "Accuracy: 786/1456\n",
      "\n",
      "Class: 10\n",
      "Accuracy: 62/310\n",
      "\n",
      "Class: 58\n",
      "Accuracy: 88/497\n",
      "\n",
      "Class: 29\n",
      "Accuracy: 14/107\n",
      "\n",
      "Class: 31\n",
      "Accuracy: 239/752\n",
      "\n",
      "Class: 43\n",
      "Accuracy: 74/206\n",
      "\n",
      "Class: 3\n",
      "Accuracy: 56/347\n",
      "\n",
      "Class: 80\n",
      "Accuracy: 68/175\n",
      "\n",
      "Class: 57\n",
      "Accuracy: 29/63\n",
      "\n",
      "Class: 33\n",
      "Accuracy: 6/55\n",
      "\n",
      "Class: 4\n",
      "Accuracy: 33/88\n",
      "\n",
      "Class: 14\n",
      "Accuracy: 28/96\n",
      "\n",
      "Class: 38\n",
      "Accuracy: 22/91\n",
      "\n",
      "Class: 40\n",
      "Accuracy: 10/69\n",
      "\n",
      "None\n"
     ]
    }
   ],
   "source": [
    "predictions = model_6.predict(test_padded)\n",
    "print(accuracy_per_class(predictions, np.array(df[df.data_type == 'test'].label)))"
   ]
  },
  {
   "cell_type": "code",
   "execution_count": 0,
   "metadata": {
    "colab": {
     "base_uri": "https://localhost:8080/",
     "height": 34
    },
    "colab_type": "code",
    "id": "y6TGXpTbmI0X",
    "outputId": "3eb3ca9a-fc68-4152-e96a-e52ddd1cdeeb"
   },
   "outputs": [
    {
     "name": "stdout",
     "output_type": "stream",
     "text": [
      "0.5159504747589624\n"
     ]
    }
   ],
   "source": [
    "print(f1_score_func(predictions, np.array(df[df.data_type == 'test'].label)))"
   ]
  },
  {
   "cell_type": "markdown",
   "metadata": {
    "colab_type": "text",
    "id": "9ff1TEoZ2nsH"
   },
   "source": [
    "# Overfitting\n",
    "The last two models are evidently overfitting on training data but not able to generalise well on validation data. We do not have sufficient data points for other classes for the model to generalise well.\n",
    "\n",
    "# Alternate approach:\n",
    "Let's try a different approach where we can first build a model to predict the Main Product and see how the model performs:"
   ]
  },
  {
   "cell_type": "code",
   "execution_count": 0,
   "metadata": {
    "colab": {},
    "colab_type": "code",
    "id": "UnlMQe2nmLGs"
   },
   "outputs": [],
   "source": [
    "# df.head()"
   ]
  },
  {
   "cell_type": "code",
   "execution_count": 0,
   "metadata": {
    "colab": {
     "base_uri": "https://localhost:8080/",
     "height": 71
    },
    "colab_type": "code",
    "id": "okaUyxAC4DM7",
    "outputId": "8c5a44cf-f59a-4213-c988-6355fdcbaa72"
   },
   "outputs": [
    {
     "name": "stderr",
     "output_type": "stream",
     "text": [
      "/usr/local/lib/python3.6/dist-packages/statsmodels/tools/_testing.py:19: FutureWarning: pandas.util.testing is deprecated. Use the functions in the public API at pandas.testing instead.\n",
      "  import pandas.util.testing as tm\n"
     ]
    }
   ],
   "source": [
    "import string\n",
    "import json\n",
    "import re\n",
    "from tqdm import tqdm\n",
    "from nltk.corpus import stopwords\n",
    "\n",
    "import pandas as pd\n",
    "import numpy as np\n",
    "import seaborn as sns\n",
    "import matplotlib.pyplot as plt\n",
    "%matplotlib inline"
   ]
  },
  {
   "cell_type": "code",
   "execution_count": 0,
   "metadata": {
    "colab": {
     "base_uri": "https://localhost:8080/",
     "height": 68
    },
    "colab_type": "code",
    "id": "YpVANwA5QgKj",
    "outputId": "c7537557-d88e-453c-b93d-ec2226503196"
   },
   "outputs": [
    {
     "name": "stdout",
     "output_type": "stream",
     "text": [
      "[nltk_data] Downloading package stopwords to /root/nltk_data...\n",
      "[nltk_data]   Package stopwords is already up-to-date!\n"
     ]
    },
    {
     "data": {
      "text/plain": [
       "True"
      ]
     },
     "execution_count": 2,
     "metadata": {
      "tags": []
     },
     "output_type": "execute_result"
    }
   ],
   "source": [
    "import nltk\n",
    "nltk.download(\"stopwords\")"
   ]
  },
  {
   "cell_type": "code",
   "execution_count": 0,
   "metadata": {
    "colab": {},
    "colab_type": "code",
    "id": "_abMDp8tQgi3"
   },
   "outputs": [],
   "source": [
    "from nltk.corpus import stopwords\n",
    "tqdm.pandas()"
   ]
  },
  {
   "cell_type": "code",
   "execution_count": 0,
   "metadata": {
    "colab": {
     "base_uri": "https://localhost:8080/",
     "height": 34
    },
    "colab_type": "code",
    "id": "IIXy7yoiQiA5",
    "outputId": "98e4fb0c-2c59-4626-9961-5f8c4bffc8c6"
   },
   "outputs": [
    {
     "name": "stdout",
     "output_type": "stream",
     "text": [
      "Drive already mounted at /content/gdrive; to attempt to forcibly remount, call drive.mount(\"/content/gdrive\", force_remount=True).\n"
     ]
    }
   ],
   "source": [
    "from google.colab import drive\n",
    "drive.mount('/content/gdrive')"
   ]
  },
  {
   "cell_type": "code",
   "execution_count": 0,
   "metadata": {
    "colab": {
     "base_uri": "https://localhost:8080/",
     "height": 71
    },
    "colab_type": "code",
    "id": "l0s-WFd5QjZg",
    "outputId": "21412075-db90-42eb-e30e-604e725f636d"
   },
   "outputs": [
    {
     "name": "stderr",
     "output_type": "stream",
     "text": [
      "/usr/local/lib/python3.6/dist-packages/IPython/core/interactiveshell.py:2718: DtypeWarning: Columns (2) have mixed types.Specify dtype option on import or set low_memory=False.\n",
      "  interactivity=interactivity, compiler=compiler, result=result)\n"
     ]
    }
   ],
   "source": [
    "users_df = pd.read_csv(\"/content/gdrive/My Drive/Revolut-challenge/data/complaints_users.csv\")\n",
    "products_df = pd.read_csv(\"/content/gdrive/My Drive/Revolut-challenge/data/products.csv\")"
   ]
  },
  {
   "cell_type": "code",
   "execution_count": 0,
   "metadata": {
    "colab": {},
    "colab_type": "code",
    "id": "xAsuJGfiQqI0"
   },
   "outputs": [],
   "source": [
    "products_df.loc[products_df.MAIN_PRODUCT == 'Payday loan', \"SUB_PRODUCT\"] = \"Payday loan NaN\"\n",
    "products_df.loc[products_df.MAIN_PRODUCT == 'Credit reporting', \"SUB_PRODUCT\"] = \"Credit reporting NaN\"\n",
    "products_df.loc[products_df.MAIN_PRODUCT == 'Credit card', \"SUB_PRODUCT\"] = \"Credit card NaN\""
   ]
  },
  {
   "cell_type": "code",
   "execution_count": 0,
   "metadata": {
    "colab": {},
    "colab_type": "code",
    "id": "4YjK02ANQu47"
   },
   "outputs": [],
   "source": [
    "df = users_df.join(products_df.set_index('PRODUCT_ID'), on='PRODUCT_ID')"
   ]
  },
  {
   "cell_type": "code",
   "execution_count": 0,
   "metadata": {
    "colab": {},
    "colab_type": "code",
    "id": "J-a9SzIeQ12A"
   },
   "outputs": [],
   "source": [
    "# Select required columns only\n",
    "cols = ['COMPLAINT_ID', 'COMPLAINT_TEXT', 'PRODUCT_ID', 'MAIN_PRODUCT', 'SUB_PRODUCT']\n",
    "df = df[cols]"
   ]
  },
  {
   "cell_type": "code",
   "execution_count": 0,
   "metadata": {
    "colab": {
     "base_uri": "https://localhost:8080/",
     "height": 1000
    },
    "colab_type": "code",
    "id": "jBpk7WmSQ6sA",
    "outputId": "ffe90b6e-17e5-4ed1-d0d7-4e07ee7955eb"
   },
   "outputs": [
    {
     "name": "stdout",
     "output_type": "stream",
     "text": [
      "No. of Product Ids with less than 500 records: 39\n"
     ]
    },
    {
     "data": {
      "text/html": [
       "<div>\n",
       "<style scoped>\n",
       "    .dataframe tbody tr th:only-of-type {\n",
       "        vertical-align: middle;\n",
       "    }\n",
       "\n",
       "    .dataframe tbody tr th {\n",
       "        vertical-align: top;\n",
       "    }\n",
       "\n",
       "    .dataframe thead th {\n",
       "        text-align: right;\n",
       "    }\n",
       "</style>\n",
       "<table border=\"1\" class=\"dataframe\">\n",
       "  <thead>\n",
       "    <tr style=\"text-align: right;\">\n",
       "      <th></th>\n",
       "      <th>PRODUCT_ID</th>\n",
       "      <th>MAIN_PRODUCT</th>\n",
       "      <th>SUB_PRODUCT</th>\n",
       "      <th>COUNT</th>\n",
       "    </tr>\n",
       "  </thead>\n",
       "  <tbody>\n",
       "    <tr>\n",
       "      <th>0</th>\n",
       "      <td>0</td>\n",
       "      <td>Bank account or service</td>\n",
       "      <td>(CD) Certificate of deposit</td>\n",
       "      <td>274</td>\n",
       "    </tr>\n",
       "    <tr>\n",
       "      <th>1</th>\n",
       "      <td>1</td>\n",
       "      <td>Bank account or service</td>\n",
       "      <td>Cashing a check without an account</td>\n",
       "      <td>134</td>\n",
       "    </tr>\n",
       "    <tr>\n",
       "      <th>5</th>\n",
       "      <td>5</td>\n",
       "      <td>Checking or savings account</td>\n",
       "      <td>CD (Certificate of Deposit)</td>\n",
       "      <td>229</td>\n",
       "    </tr>\n",
       "    <tr>\n",
       "      <th>8</th>\n",
       "      <td>8</td>\n",
       "      <td>Checking or savings account</td>\n",
       "      <td>Personal line of credit</td>\n",
       "      <td>12</td>\n",
       "    </tr>\n",
       "    <tr>\n",
       "      <th>11</th>\n",
       "      <td>11</td>\n",
       "      <td>Consumer Loan</td>\n",
       "      <td>Pawn loan</td>\n",
       "      <td>34</td>\n",
       "    </tr>\n",
       "    <tr>\n",
       "      <th>12</th>\n",
       "      <td>12</td>\n",
       "      <td>Consumer Loan</td>\n",
       "      <td>Personal line of credit</td>\n",
       "      <td>44</td>\n",
       "    </tr>\n",
       "    <tr>\n",
       "      <th>13</th>\n",
       "      <td>13</td>\n",
       "      <td>Consumer Loan</td>\n",
       "      <td>Title loan</td>\n",
       "      <td>199</td>\n",
       "    </tr>\n",
       "    <tr>\n",
       "      <th>18</th>\n",
       "      <td>18</td>\n",
       "      <td>Credit card or prepaid card</td>\n",
       "      <td>Gift card</td>\n",
       "      <td>103</td>\n",
       "    </tr>\n",
       "    <tr>\n",
       "      <th>19</th>\n",
       "      <td>19</td>\n",
       "      <td>Credit card or prepaid card</td>\n",
       "      <td>Government benefit card</td>\n",
       "      <td>189</td>\n",
       "    </tr>\n",
       "    <tr>\n",
       "      <th>20</th>\n",
       "      <td>20</td>\n",
       "      <td>Credit card or prepaid card</td>\n",
       "      <td>Payroll card</td>\n",
       "      <td>91</td>\n",
       "    </tr>\n",
       "    <tr>\n",
       "      <th>22</th>\n",
       "      <td>22</td>\n",
       "      <td>Credit card or prepaid card</td>\n",
       "      <td>Student prepaid card</td>\n",
       "      <td>2</td>\n",
       "    </tr>\n",
       "    <tr>\n",
       "      <th>24</th>\n",
       "      <td>24</td>\n",
       "      <td>Credit reporting, credit repair services, or o...</td>\n",
       "      <td>Conventional home mortgage</td>\n",
       "      <td>1</td>\n",
       "    </tr>\n",
       "    <tr>\n",
       "      <th>25</th>\n",
       "      <td>25</td>\n",
       "      <td>Credit reporting, credit repair services, or o...</td>\n",
       "      <td>Credit repair services</td>\n",
       "      <td>457</td>\n",
       "    </tr>\n",
       "    <tr>\n",
       "      <th>46</th>\n",
       "      <td>46</td>\n",
       "      <td>Money transfer, virtual currency, or money ser...</td>\n",
       "      <td>Check cashing service</td>\n",
       "      <td>89</td>\n",
       "    </tr>\n",
       "    <tr>\n",
       "      <th>47</th>\n",
       "      <td>47</td>\n",
       "      <td>Money transfer, virtual currency, or money ser...</td>\n",
       "      <td>Debt settlement</td>\n",
       "      <td>56</td>\n",
       "    </tr>\n",
       "    <tr>\n",
       "      <th>49</th>\n",
       "      <td>49</td>\n",
       "      <td>Money transfer, virtual currency, or money ser...</td>\n",
       "      <td>Foreign currency exchange</td>\n",
       "      <td>67</td>\n",
       "    </tr>\n",
       "    <tr>\n",
       "      <th>52</th>\n",
       "      <td>52</td>\n",
       "      <td>Money transfer, virtual currency, or money ser...</td>\n",
       "      <td>Money order</td>\n",
       "      <td>92</td>\n",
       "    </tr>\n",
       "    <tr>\n",
       "      <th>53</th>\n",
       "      <td>53</td>\n",
       "      <td>Money transfer, virtual currency, or money ser...</td>\n",
       "      <td>Refund anticipation check</td>\n",
       "      <td>49</td>\n",
       "    </tr>\n",
       "    <tr>\n",
       "      <th>54</th>\n",
       "      <td>54</td>\n",
       "      <td>Money transfer, virtual currency, or money ser...</td>\n",
       "      <td>Traveler's check or cashier's check</td>\n",
       "      <td>96</td>\n",
       "    </tr>\n",
       "    <tr>\n",
       "      <th>68</th>\n",
       "      <td>68</td>\n",
       "      <td>Other financial service</td>\n",
       "      <td>Check cashing</td>\n",
       "      <td>54</td>\n",
       "    </tr>\n",
       "    <tr>\n",
       "      <th>69</th>\n",
       "      <td>69</td>\n",
       "      <td>Other financial service</td>\n",
       "      <td>Credit repair</td>\n",
       "      <td>39</td>\n",
       "    </tr>\n",
       "    <tr>\n",
       "      <th>70</th>\n",
       "      <td>70</td>\n",
       "      <td>Other financial service</td>\n",
       "      <td>Debt settlement</td>\n",
       "      <td>109</td>\n",
       "    </tr>\n",
       "    <tr>\n",
       "      <th>71</th>\n",
       "      <td>71</td>\n",
       "      <td>Other financial service</td>\n",
       "      <td>Foreign currency exchange</td>\n",
       "      <td>16</td>\n",
       "    </tr>\n",
       "    <tr>\n",
       "      <th>72</th>\n",
       "      <td>72</td>\n",
       "      <td>Other financial service</td>\n",
       "      <td>Money order</td>\n",
       "      <td>35</td>\n",
       "    </tr>\n",
       "    <tr>\n",
       "      <th>73</th>\n",
       "      <td>73</td>\n",
       "      <td>Other financial service</td>\n",
       "      <td>Refund anticipation check</td>\n",
       "      <td>17</td>\n",
       "    </tr>\n",
       "    <tr>\n",
       "      <th>74</th>\n",
       "      <td>74</td>\n",
       "      <td>Other financial service</td>\n",
       "      <td>Traveler’s/Cashier’s checks</td>\n",
       "      <td>22</td>\n",
       "    </tr>\n",
       "    <tr>\n",
       "      <th>76</th>\n",
       "      <td>76</td>\n",
       "      <td>Payday loan, title loan, or personal loan</td>\n",
       "      <td>Pawn loan</td>\n",
       "      <td>13</td>\n",
       "    </tr>\n",
       "    <tr>\n",
       "      <th>79</th>\n",
       "      <td>79</td>\n",
       "      <td>Payday loan, title loan, or personal loan</td>\n",
       "      <td>Title loan</td>\n",
       "      <td>475</td>\n",
       "    </tr>\n",
       "    <tr>\n",
       "      <th>81</th>\n",
       "      <td>81</td>\n",
       "      <td>Prepaid card</td>\n",
       "      <td>Electronic Benefit Transfer / EBT card</td>\n",
       "      <td>3</td>\n",
       "    </tr>\n",
       "    <tr>\n",
       "      <th>83</th>\n",
       "      <td>83</td>\n",
       "      <td>Prepaid card</td>\n",
       "      <td>Gift or merchant card</td>\n",
       "      <td>154</td>\n",
       "    </tr>\n",
       "    <tr>\n",
       "      <th>84</th>\n",
       "      <td>84</td>\n",
       "      <td>Prepaid card</td>\n",
       "      <td>Government benefit payment card</td>\n",
       "      <td>80</td>\n",
       "    </tr>\n",
       "    <tr>\n",
       "      <th>85</th>\n",
       "      <td>85</td>\n",
       "      <td>Prepaid card</td>\n",
       "      <td>ID prepaid card</td>\n",
       "      <td>101</td>\n",
       "    </tr>\n",
       "    <tr>\n",
       "      <th>86</th>\n",
       "      <td>86</td>\n",
       "      <td>Prepaid card</td>\n",
       "      <td>Mobile wallet</td>\n",
       "      <td>85</td>\n",
       "    </tr>\n",
       "    <tr>\n",
       "      <th>87</th>\n",
       "      <td>87</td>\n",
       "      <td>Prepaid card</td>\n",
       "      <td>Other special purpose card</td>\n",
       "      <td>58</td>\n",
       "    </tr>\n",
       "    <tr>\n",
       "      <th>88</th>\n",
       "      <td>88</td>\n",
       "      <td>Prepaid card</td>\n",
       "      <td>Payroll card</td>\n",
       "      <td>220</td>\n",
       "    </tr>\n",
       "    <tr>\n",
       "      <th>89</th>\n",
       "      <td>89</td>\n",
       "      <td>Prepaid card</td>\n",
       "      <td>Transit card</td>\n",
       "      <td>19</td>\n",
       "    </tr>\n",
       "    <tr>\n",
       "      <th>95</th>\n",
       "      <td>95</td>\n",
       "      <td>Vehicle loan or lease</td>\n",
       "      <td>Title loan</td>\n",
       "      <td>4</td>\n",
       "    </tr>\n",
       "    <tr>\n",
       "      <th>96</th>\n",
       "      <td>96</td>\n",
       "      <td>Virtual currency</td>\n",
       "      <td>Domestic (US) money transfer</td>\n",
       "      <td>15</td>\n",
       "    </tr>\n",
       "    <tr>\n",
       "      <th>97</th>\n",
       "      <td>97</td>\n",
       "      <td>Virtual currency</td>\n",
       "      <td>International money transfer</td>\n",
       "      <td>1</td>\n",
       "    </tr>\n",
       "  </tbody>\n",
       "</table>\n",
       "</div>"
      ],
      "text/plain": [
       "    PRODUCT_ID                                       MAIN_PRODUCT  \\\n",
       "0            0                            Bank account or service   \n",
       "1            1                            Bank account or service   \n",
       "5            5                        Checking or savings account   \n",
       "8            8                        Checking or savings account   \n",
       "11          11                                      Consumer Loan   \n",
       "12          12                                      Consumer Loan   \n",
       "13          13                                      Consumer Loan   \n",
       "18          18                        Credit card or prepaid card   \n",
       "19          19                        Credit card or prepaid card   \n",
       "20          20                        Credit card or prepaid card   \n",
       "22          22                        Credit card or prepaid card   \n",
       "24          24  Credit reporting, credit repair services, or o...   \n",
       "25          25  Credit reporting, credit repair services, or o...   \n",
       "46          46  Money transfer, virtual currency, or money ser...   \n",
       "47          47  Money transfer, virtual currency, or money ser...   \n",
       "49          49  Money transfer, virtual currency, or money ser...   \n",
       "52          52  Money transfer, virtual currency, or money ser...   \n",
       "53          53  Money transfer, virtual currency, or money ser...   \n",
       "54          54  Money transfer, virtual currency, or money ser...   \n",
       "68          68                            Other financial service   \n",
       "69          69                            Other financial service   \n",
       "70          70                            Other financial service   \n",
       "71          71                            Other financial service   \n",
       "72          72                            Other financial service   \n",
       "73          73                            Other financial service   \n",
       "74          74                            Other financial service   \n",
       "76          76          Payday loan, title loan, or personal loan   \n",
       "79          79          Payday loan, title loan, or personal loan   \n",
       "81          81                                       Prepaid card   \n",
       "83          83                                       Prepaid card   \n",
       "84          84                                       Prepaid card   \n",
       "85          85                                       Prepaid card   \n",
       "86          86                                       Prepaid card   \n",
       "87          87                                       Prepaid card   \n",
       "88          88                                       Prepaid card   \n",
       "89          89                                       Prepaid card   \n",
       "95          95                              Vehicle loan or lease   \n",
       "96          96                                   Virtual currency   \n",
       "97          97                                   Virtual currency   \n",
       "\n",
       "                               SUB_PRODUCT  COUNT  \n",
       "0              (CD) Certificate of deposit    274  \n",
       "1       Cashing a check without an account    134  \n",
       "5              CD (Certificate of Deposit)    229  \n",
       "8                  Personal line of credit     12  \n",
       "11                               Pawn loan     34  \n",
       "12                 Personal line of credit     44  \n",
       "13                              Title loan    199  \n",
       "18                               Gift card    103  \n",
       "19                 Government benefit card    189  \n",
       "20                            Payroll card     91  \n",
       "22                    Student prepaid card      2  \n",
       "24              Conventional home mortgage      1  \n",
       "25                  Credit repair services    457  \n",
       "46                   Check cashing service     89  \n",
       "47                         Debt settlement     56  \n",
       "49               Foreign currency exchange     67  \n",
       "52                             Money order     92  \n",
       "53               Refund anticipation check     49  \n",
       "54     Traveler's check or cashier's check     96  \n",
       "68                           Check cashing     54  \n",
       "69                           Credit repair     39  \n",
       "70                         Debt settlement    109  \n",
       "71               Foreign currency exchange     16  \n",
       "72                             Money order     35  \n",
       "73               Refund anticipation check     17  \n",
       "74             Traveler’s/Cashier’s checks     22  \n",
       "76                               Pawn loan     13  \n",
       "79                              Title loan    475  \n",
       "81  Electronic Benefit Transfer / EBT card      3  \n",
       "83                   Gift or merchant card    154  \n",
       "84         Government benefit payment card     80  \n",
       "85                         ID prepaid card    101  \n",
       "86                           Mobile wallet     85  \n",
       "87              Other special purpose card     58  \n",
       "88                            Payroll card    220  \n",
       "89                            Transit card     19  \n",
       "95                              Title loan      4  \n",
       "96            Domestic (US) money transfer     15  \n",
       "97            International money transfer      1  "
      ]
     },
     "execution_count": 9,
     "metadata": {
      "tags": []
     },
     "output_type": "execute_result"
    }
   ],
   "source": [
    "# Creating a dataframe with record counts for each product-id\n",
    "count_df = pd.DataFrame({'COUNT': df.groupby(['PRODUCT_ID', 'MAIN_PRODUCT', 'SUB_PRODUCT']).size()}).reset_index()\n",
    "\n",
    "pd.set_option('display.max_rows', 500)\n",
    "pd.set_option('display.max_columns', 500)\n",
    "\n",
    "print(f'No. of Product Ids with less than 500 records: {count_df[count_df.COUNT < 500].shape[0]}')\n",
    "count_df[count_df.COUNT < 500].head(100)"
   ]
  },
  {
   "cell_type": "code",
   "execution_count": 0,
   "metadata": {
    "colab": {},
    "colab_type": "code",
    "id": "fMt8CmipRCnO"
   },
   "outputs": [],
   "source": [
    "prd_ids = list(count_df[count_df.COUNT < 500].PRODUCT_ID.values)\n",
    "df = df[~df.PRODUCT_ID.isin(prd_ids)]"
   ]
  },
  {
   "cell_type": "code",
   "execution_count": 0,
   "metadata": {
    "colab": {
     "base_uri": "https://localhost:8080/",
     "height": 204
    },
    "colab_type": "code",
    "id": "Ig-IaqL0RVLV",
    "outputId": "c6f7ef1c-e5c5-4ea2-a665-aec0fc38f528"
   },
   "outputs": [
    {
     "data": {
      "text/html": [
       "<div>\n",
       "<style scoped>\n",
       "    .dataframe tbody tr th:only-of-type {\n",
       "        vertical-align: middle;\n",
       "    }\n",
       "\n",
       "    .dataframe tbody tr th {\n",
       "        vertical-align: top;\n",
       "    }\n",
       "\n",
       "    .dataframe thead th {\n",
       "        text-align: right;\n",
       "    }\n",
       "</style>\n",
       "<table border=\"1\" class=\"dataframe\">\n",
       "  <thead>\n",
       "    <tr style=\"text-align: right;\">\n",
       "      <th></th>\n",
       "      <th>COMPLAINT_ID</th>\n",
       "      <th>COMPLAINT_TEXT</th>\n",
       "      <th>PRODUCT_ID</th>\n",
       "      <th>MAIN_PRODUCT</th>\n",
       "      <th>SUB_PRODUCT</th>\n",
       "    </tr>\n",
       "  </thead>\n",
       "  <tbody>\n",
       "    <tr>\n",
       "      <th>0</th>\n",
       "      <td>3184195</td>\n",
       "      <td>XXXX  and Transunion are reporting incorrectly...</td>\n",
       "      <td>26</td>\n",
       "      <td>Credit reporting, credit repair services, or o...</td>\n",
       "      <td>Credit reporting</td>\n",
       "    </tr>\n",
       "    <tr>\n",
       "      <th>1</th>\n",
       "      <td>3184692</td>\n",
       "      <td>XXXX and Transunion are reporting incorrectly ...</td>\n",
       "      <td>26</td>\n",
       "      <td>Credit reporting, credit repair services, or o...</td>\n",
       "      <td>Credit reporting</td>\n",
       "    </tr>\n",
       "    <tr>\n",
       "      <th>2</th>\n",
       "      <td>3183613</td>\n",
       "      <td>XXXX, XXXX, and Experian need to remove the co...</td>\n",
       "      <td>26</td>\n",
       "      <td>Credit reporting, credit repair services, or o...</td>\n",
       "      <td>Credit reporting</td>\n",
       "    </tr>\n",
       "    <tr>\n",
       "      <th>3</th>\n",
       "      <td>3182430</td>\n",
       "      <td>3 company with inconsistencies, violations and...</td>\n",
       "      <td>26</td>\n",
       "      <td>Credit reporting, credit repair services, or o...</td>\n",
       "      <td>Credit reporting</td>\n",
       "    </tr>\n",
       "    <tr>\n",
       "      <th>4</th>\n",
       "      <td>3182218</td>\n",
       "      <td>I have a personal loan from Patriot finance. T...</td>\n",
       "      <td>26</td>\n",
       "      <td>Credit reporting, credit repair services, or o...</td>\n",
       "      <td>Credit reporting</td>\n",
       "    </tr>\n",
       "  </tbody>\n",
       "</table>\n",
       "</div>"
      ],
      "text/plain": [
       "   COMPLAINT_ID                                     COMPLAINT_TEXT  \\\n",
       "0       3184195  XXXX  and Transunion are reporting incorrectly...   \n",
       "1       3184692  XXXX and Transunion are reporting incorrectly ...   \n",
       "2       3183613  XXXX, XXXX, and Experian need to remove the co...   \n",
       "3       3182430  3 company with inconsistencies, violations and...   \n",
       "4       3182218  I have a personal loan from Patriot finance. T...   \n",
       "\n",
       "   PRODUCT_ID                                       MAIN_PRODUCT  \\\n",
       "0          26  Credit reporting, credit repair services, or o...   \n",
       "1          26  Credit reporting, credit repair services, or o...   \n",
       "2          26  Credit reporting, credit repair services, or o...   \n",
       "3          26  Credit reporting, credit repair services, or o...   \n",
       "4          26  Credit reporting, credit repair services, or o...   \n",
       "\n",
       "        SUB_PRODUCT  \n",
       "0  Credit reporting  \n",
       "1  Credit reporting  \n",
       "2  Credit reporting  \n",
       "3  Credit reporting  \n",
       "4  Credit reporting  "
      ]
     },
     "execution_count": 11,
     "metadata": {
      "tags": []
     },
     "output_type": "execute_result"
    }
   ],
   "source": [
    "df.head()"
   ]
  },
  {
   "cell_type": "code",
   "execution_count": 0,
   "metadata": {
    "colab": {
     "base_uri": "https://localhost:8080/",
     "height": 1000
    },
    "colab_type": "code",
    "id": "eqEg8fz1RKZM",
    "outputId": "8af65b49-e3e3-4c41-f2b0-c4e09dfeba50"
   },
   "outputs": [
    {
     "data": {
      "image/png": "[encoded data removed]",
      "text/plain": [
       "<Figure size 1440x1440 with 1 Axes>"
      ]
     },
     "metadata": {
      "needs_background": "light",
      "tags": []
     },
     "output_type": "display_data"
    }
   ],
   "source": [
    "plt.figure(figsize=(20,20))\n",
    "sns.set(style=\"darkgrid\")\n",
    "ax = sns.countplot(x=\"MAIN_PRODUCT\", data=df)"
   ]
  },
  {
   "cell_type": "code",
   "execution_count": 0,
   "metadata": {
    "colab": {},
    "colab_type": "code",
    "id": "xAPyVJqNRX7o"
   },
   "outputs": [],
   "source": [
    "main_prd_dict = {}\n",
    "for idx, label in enumerate(df.MAIN_PRODUCT.unique()):\n",
    "    main_prd_dict[label] = idx"
   ]
  },
  {
   "cell_type": "code",
   "execution_count": 0,
   "metadata": {
    "colab": {},
    "colab_type": "code",
    "id": "2IJlgQf8Remt"
   },
   "outputs": [],
   "source": [
    "df['label'] = df.MAIN_PRODUCT.replace(main_prd_dict)"
   ]
  },
  {
   "cell_type": "code",
   "execution_count": 0,
   "metadata": {
    "colab": {
     "base_uri": "https://localhost:8080/",
     "height": 204
    },
    "colab_type": "code",
    "id": "4mBLQxlVRgu3",
    "outputId": "e28eb902-408c-4b29-8fa7-698af39bf6d4"
   },
   "outputs": [
    {
     "data": {
      "text/html": [
       "<div>\n",
       "<style scoped>\n",
       "    .dataframe tbody tr th:only-of-type {\n",
       "        vertical-align: middle;\n",
       "    }\n",
       "\n",
       "    .dataframe tbody tr th {\n",
       "        vertical-align: top;\n",
       "    }\n",
       "\n",
       "    .dataframe thead th {\n",
       "        text-align: right;\n",
       "    }\n",
       "</style>\n",
       "<table border=\"1\" class=\"dataframe\">\n",
       "  <thead>\n",
       "    <tr style=\"text-align: right;\">\n",
       "      <th></th>\n",
       "      <th>COMPLAINT_ID</th>\n",
       "      <th>COMPLAINT_TEXT</th>\n",
       "      <th>PRODUCT_ID</th>\n",
       "      <th>MAIN_PRODUCT</th>\n",
       "      <th>SUB_PRODUCT</th>\n",
       "      <th>label</th>\n",
       "    </tr>\n",
       "  </thead>\n",
       "  <tbody>\n",
       "    <tr>\n",
       "      <th>0</th>\n",
       "      <td>3184195</td>\n",
       "      <td>XXXX  and Transunion are reporting incorrectly...</td>\n",
       "      <td>26</td>\n",
       "      <td>Credit reporting, credit repair services, or o...</td>\n",
       "      <td>Credit reporting</td>\n",
       "      <td>0</td>\n",
       "    </tr>\n",
       "    <tr>\n",
       "      <th>1</th>\n",
       "      <td>3184692</td>\n",
       "      <td>XXXX and Transunion are reporting incorrectly ...</td>\n",
       "      <td>26</td>\n",
       "      <td>Credit reporting, credit repair services, or o...</td>\n",
       "      <td>Credit reporting</td>\n",
       "      <td>0</td>\n",
       "    </tr>\n",
       "    <tr>\n",
       "      <th>2</th>\n",
       "      <td>3183613</td>\n",
       "      <td>XXXX, XXXX, and Experian need to remove the co...</td>\n",
       "      <td>26</td>\n",
       "      <td>Credit reporting, credit repair services, or o...</td>\n",
       "      <td>Credit reporting</td>\n",
       "      <td>0</td>\n",
       "    </tr>\n",
       "    <tr>\n",
       "      <th>3</th>\n",
       "      <td>3182430</td>\n",
       "      <td>3 company with inconsistencies, violations and...</td>\n",
       "      <td>26</td>\n",
       "      <td>Credit reporting, credit repair services, or o...</td>\n",
       "      <td>Credit reporting</td>\n",
       "      <td>0</td>\n",
       "    </tr>\n",
       "    <tr>\n",
       "      <th>4</th>\n",
       "      <td>3182218</td>\n",
       "      <td>I have a personal loan from Patriot finance. T...</td>\n",
       "      <td>26</td>\n",
       "      <td>Credit reporting, credit repair services, or o...</td>\n",
       "      <td>Credit reporting</td>\n",
       "      <td>0</td>\n",
       "    </tr>\n",
       "  </tbody>\n",
       "</table>\n",
       "</div>"
      ],
      "text/plain": [
       "   COMPLAINT_ID                                     COMPLAINT_TEXT  \\\n",
       "0       3184195  XXXX  and Transunion are reporting incorrectly...   \n",
       "1       3184692  XXXX and Transunion are reporting incorrectly ...   \n",
       "2       3183613  XXXX, XXXX, and Experian need to remove the co...   \n",
       "3       3182430  3 company with inconsistencies, violations and...   \n",
       "4       3182218  I have a personal loan from Patriot finance. T...   \n",
       "\n",
       "   PRODUCT_ID                                       MAIN_PRODUCT  \\\n",
       "0          26  Credit reporting, credit repair services, or o...   \n",
       "1          26  Credit reporting, credit repair services, or o...   \n",
       "2          26  Credit reporting, credit repair services, or o...   \n",
       "3          26  Credit reporting, credit repair services, or o...   \n",
       "4          26  Credit reporting, credit repair services, or o...   \n",
       "\n",
       "        SUB_PRODUCT  label  \n",
       "0  Credit reporting      0  \n",
       "1  Credit reporting      0  \n",
       "2  Credit reporting      0  \n",
       "3  Credit reporting      0  \n",
       "4  Credit reporting      0  "
      ]
     },
     "execution_count": 15,
     "metadata": {
      "tags": []
     },
     "output_type": "execute_result"
    }
   ],
   "source": [
    "df.head()"
   ]
  },
  {
   "cell_type": "code",
   "execution_count": 0,
   "metadata": {
    "colab": {},
    "colab_type": "code",
    "id": "jstGHwItRhYy"
   },
   "outputs": [],
   "source": [
    "labels = df.label.values"
   ]
  },
  {
   "cell_type": "code",
   "execution_count": 0,
   "metadata": {
    "colab": {},
    "colab_type": "code",
    "id": "JMhP159GRkDh"
   },
   "outputs": [],
   "source": [
    "df.set_index('COMPLAINT_ID', inplace=True)"
   ]
  },
  {
   "cell_type": "code",
   "execution_count": 0,
   "metadata": {
    "colab": {},
    "colab_type": "code",
    "id": "mEBo1gaqRpig"
   },
   "outputs": [],
   "source": [
    "from sklearn.model_selection import train_test_split\n",
    "X_train, X_val_test, y_train, y_val_test = train_test_split(\n",
    "    df.index.values,\n",
    "    df.label.values,\n",
    "    test_size=0.2,\n",
    "    random_state=17,\n",
    "    stratify=df.label.values\n",
    ")"
   ]
  },
  {
   "cell_type": "code",
   "execution_count": 0,
   "metadata": {
    "colab": {},
    "colab_type": "code",
    "id": "kehNV9p0Rufm"
   },
   "outputs": [],
   "source": [
    "df_val_test = df.loc[X_val_test]"
   ]
  },
  {
   "cell_type": "code",
   "execution_count": 0,
   "metadata": {
    "colab": {},
    "colab_type": "code",
    "id": "L776emhWR9hB"
   },
   "outputs": [],
   "source": [
    "from sklearn.model_selection import train_test_split\n",
    "X_val, X_test, y_val, y_test = train_test_split(\n",
    "    df_val_test.index.values,\n",
    "    df_val_test.label.values,\n",
    "    test_size=0.5,\n",
    "    random_state=17,\n",
    "    stratify=df_val_test.label.values\n",
    ")"
   ]
  },
  {
   "cell_type": "code",
   "execution_count": 0,
   "metadata": {
    "colab": {},
    "colab_type": "code",
    "id": "_4I1badiSOqj"
   },
   "outputs": [],
   "source": [
    "df['data_type'] = ['not_set'] * df.shape[0]\n",
    "df.loc[X_train, 'data_type'] = 'train'\n",
    "df.loc[X_val, 'data_type'] = 'val'\n",
    "df.loc[X_test, 'data_type'] = 'test'"
   ]
  },
  {
   "cell_type": "code",
   "execution_count": 0,
   "metadata": {
    "colab": {
     "base_uri": "https://localhost:8080/",
     "height": 1000
    },
    "colab_type": "code",
    "id": "czuymY_9SPpK",
    "outputId": "762fdaa3-737f-45fd-cbea-2bdbae15a90e"
   },
   "outputs": [
    {
     "data": {
      "text/html": [
       "<div>\n",
       "<style scoped>\n",
       "    .dataframe tbody tr th:only-of-type {\n",
       "        vertical-align: middle;\n",
       "    }\n",
       "\n",
       "    .dataframe tbody tr th {\n",
       "        vertical-align: top;\n",
       "    }\n",
       "\n",
       "    .dataframe thead th {\n",
       "        text-align: right;\n",
       "    }\n",
       "</style>\n",
       "<table border=\"1\" class=\"dataframe\">\n",
       "  <thead>\n",
       "    <tr style=\"text-align: right;\">\n",
       "      <th></th>\n",
       "      <th></th>\n",
       "      <th>COMPLAINT_TEXT</th>\n",
       "      <th>label</th>\n",
       "    </tr>\n",
       "    <tr>\n",
       "      <th>MAIN_PRODUCT</th>\n",
       "      <th>data_type</th>\n",
       "      <th></th>\n",
       "      <th></th>\n",
       "    </tr>\n",
       "  </thead>\n",
       "  <tbody>\n",
       "    <tr>\n",
       "      <th rowspan=\"3\" valign=\"top\">Bank account or service</th>\n",
       "      <th>test</th>\n",
       "      <td>1447</td>\n",
       "      <td>1447</td>\n",
       "    </tr>\n",
       "    <tr>\n",
       "      <th>train</th>\n",
       "      <td>11582</td>\n",
       "      <td>11582</td>\n",
       "    </tr>\n",
       "    <tr>\n",
       "      <th>val</th>\n",
       "      <td>1448</td>\n",
       "      <td>1448</td>\n",
       "    </tr>\n",
       "    <tr>\n",
       "      <th rowspan=\"3\" valign=\"top\">Checking or savings account</th>\n",
       "      <th>test</th>\n",
       "      <td>1262</td>\n",
       "      <td>1262</td>\n",
       "    </tr>\n",
       "    <tr>\n",
       "      <th>train</th>\n",
       "      <td>10094</td>\n",
       "      <td>10094</td>\n",
       "    </tr>\n",
       "    <tr>\n",
       "      <th>val</th>\n",
       "      <td>1261</td>\n",
       "      <td>1261</td>\n",
       "    </tr>\n",
       "    <tr>\n",
       "      <th rowspan=\"3\" valign=\"top\">Consumer Loan</th>\n",
       "      <th>test</th>\n",
       "      <td>919</td>\n",
       "      <td>919</td>\n",
       "    </tr>\n",
       "    <tr>\n",
       "      <th>train</th>\n",
       "      <td>7358</td>\n",
       "      <td>7358</td>\n",
       "    </tr>\n",
       "    <tr>\n",
       "      <th>val</th>\n",
       "      <td>920</td>\n",
       "      <td>920</td>\n",
       "    </tr>\n",
       "    <tr>\n",
       "      <th rowspan=\"3\" valign=\"top\">Credit card</th>\n",
       "      <th>test</th>\n",
       "      <td>1884</td>\n",
       "      <td>1884</td>\n",
       "    </tr>\n",
       "    <tr>\n",
       "      <th>train</th>\n",
       "      <td>15070</td>\n",
       "      <td>15070</td>\n",
       "    </tr>\n",
       "    <tr>\n",
       "      <th>val</th>\n",
       "      <td>1884</td>\n",
       "      <td>1884</td>\n",
       "    </tr>\n",
       "    <tr>\n",
       "      <th rowspan=\"3\" valign=\"top\">Credit card or prepaid card</th>\n",
       "      <th>test</th>\n",
       "      <td>2096</td>\n",
       "      <td>2096</td>\n",
       "    </tr>\n",
       "    <tr>\n",
       "      <th>train</th>\n",
       "      <td>16766</td>\n",
       "      <td>16766</td>\n",
       "    </tr>\n",
       "    <tr>\n",
       "      <th>val</th>\n",
       "      <td>2096</td>\n",
       "      <td>2096</td>\n",
       "    </tr>\n",
       "    <tr>\n",
       "      <th rowspan=\"3\" valign=\"top\">Credit reporting</th>\n",
       "      <th>test</th>\n",
       "      <td>3159</td>\n",
       "      <td>3159</td>\n",
       "    </tr>\n",
       "    <tr>\n",
       "      <th>train</th>\n",
       "      <td>25270</td>\n",
       "      <td>25270</td>\n",
       "    </tr>\n",
       "    <tr>\n",
       "      <th>val</th>\n",
       "      <td>3159</td>\n",
       "      <td>3159</td>\n",
       "    </tr>\n",
       "    <tr>\n",
       "      <th rowspan=\"3\" valign=\"top\">Credit reporting, credit repair services, or other personal consumer reports</th>\n",
       "      <th>test</th>\n",
       "      <td>9176</td>\n",
       "      <td>9176</td>\n",
       "    </tr>\n",
       "    <tr>\n",
       "      <th>train</th>\n",
       "      <td>73405</td>\n",
       "      <td>73405</td>\n",
       "    </tr>\n",
       "    <tr>\n",
       "      <th>val</th>\n",
       "      <td>9176</td>\n",
       "      <td>9176</td>\n",
       "    </tr>\n",
       "    <tr>\n",
       "      <th rowspan=\"3\" valign=\"top\">Debt collection</th>\n",
       "      <th>test</th>\n",
       "      <td>8655</td>\n",
       "      <td>8655</td>\n",
       "    </tr>\n",
       "    <tr>\n",
       "      <th>train</th>\n",
       "      <td>69240</td>\n",
       "      <td>69240</td>\n",
       "    </tr>\n",
       "    <tr>\n",
       "      <th>val</th>\n",
       "      <td>8655</td>\n",
       "      <td>8655</td>\n",
       "    </tr>\n",
       "    <tr>\n",
       "      <th rowspan=\"3\" valign=\"top\">Money transfer, virtual currency, or money service</th>\n",
       "      <th>test</th>\n",
       "      <td>501</td>\n",
       "      <td>501</td>\n",
       "    </tr>\n",
       "    <tr>\n",
       "      <th>train</th>\n",
       "      <td>4011</td>\n",
       "      <td>4011</td>\n",
       "    </tr>\n",
       "    <tr>\n",
       "      <th>val</th>\n",
       "      <td>502</td>\n",
       "      <td>502</td>\n",
       "    </tr>\n",
       "    <tr>\n",
       "      <th rowspan=\"3\" valign=\"top\">Money transfers</th>\n",
       "      <th>test</th>\n",
       "      <td>150</td>\n",
       "      <td>150</td>\n",
       "    </tr>\n",
       "    <tr>\n",
       "      <th>train</th>\n",
       "      <td>1198</td>\n",
       "      <td>1198</td>\n",
       "    </tr>\n",
       "    <tr>\n",
       "      <th>val</th>\n",
       "      <td>149</td>\n",
       "      <td>149</td>\n",
       "    </tr>\n",
       "    <tr>\n",
       "      <th rowspan=\"3\" valign=\"top\">Mortgage</th>\n",
       "      <th>test</th>\n",
       "      <td>5294</td>\n",
       "      <td>5294</td>\n",
       "    </tr>\n",
       "    <tr>\n",
       "      <th>train</th>\n",
       "      <td>42348</td>\n",
       "      <td>42348</td>\n",
       "    </tr>\n",
       "    <tr>\n",
       "      <th>val</th>\n",
       "      <td>5293</td>\n",
       "      <td>5293</td>\n",
       "    </tr>\n",
       "    <tr>\n",
       "      <th rowspan=\"3\" valign=\"top\">Payday loan</th>\n",
       "      <th>test</th>\n",
       "      <td>175</td>\n",
       "      <td>175</td>\n",
       "    </tr>\n",
       "    <tr>\n",
       "      <th>train</th>\n",
       "      <td>1398</td>\n",
       "      <td>1398</td>\n",
       "    </tr>\n",
       "    <tr>\n",
       "      <th>val</th>\n",
       "      <td>174</td>\n",
       "      <td>174</td>\n",
       "    </tr>\n",
       "    <tr>\n",
       "      <th rowspan=\"3\" valign=\"top\">Payday loan, title loan, or personal loan</th>\n",
       "      <th>test</th>\n",
       "      <td>392</td>\n",
       "      <td>392</td>\n",
       "    </tr>\n",
       "    <tr>\n",
       "      <th>train</th>\n",
       "      <td>3134</td>\n",
       "      <td>3134</td>\n",
       "    </tr>\n",
       "    <tr>\n",
       "      <th>val</th>\n",
       "      <td>392</td>\n",
       "      <td>392</td>\n",
       "    </tr>\n",
       "    <tr>\n",
       "      <th rowspan=\"3\" valign=\"top\">Prepaid card</th>\n",
       "      <th>test</th>\n",
       "      <td>73</td>\n",
       "      <td>73</td>\n",
       "    </tr>\n",
       "    <tr>\n",
       "      <th>train</th>\n",
       "      <td>584</td>\n",
       "      <td>584</td>\n",
       "    </tr>\n",
       "    <tr>\n",
       "      <th>val</th>\n",
       "      <td>73</td>\n",
       "      <td>73</td>\n",
       "    </tr>\n",
       "    <tr>\n",
       "      <th rowspan=\"3\" valign=\"top\">Student loan</th>\n",
       "      <th>test</th>\n",
       "      <td>2178</td>\n",
       "      <td>2178</td>\n",
       "    </tr>\n",
       "    <tr>\n",
       "      <th>train</th>\n",
       "      <td>17423</td>\n",
       "      <td>17423</td>\n",
       "    </tr>\n",
       "    <tr>\n",
       "      <th>val</th>\n",
       "      <td>2178</td>\n",
       "      <td>2178</td>\n",
       "    </tr>\n",
       "    <tr>\n",
       "      <th rowspan=\"3\" valign=\"top\">Vehicle loan or lease</th>\n",
       "      <th>test</th>\n",
       "      <td>572</td>\n",
       "      <td>572</td>\n",
       "    </tr>\n",
       "    <tr>\n",
       "      <th>train</th>\n",
       "      <td>4581</td>\n",
       "      <td>4581</td>\n",
       "    </tr>\n",
       "    <tr>\n",
       "      <th>val</th>\n",
       "      <td>573</td>\n",
       "      <td>573</td>\n",
       "    </tr>\n",
       "  </tbody>\n",
       "</table>\n",
       "</div>"
      ],
      "text/plain": [
       "                                                              COMPLAINT_TEXT  \\\n",
       "MAIN_PRODUCT                                       data_type                   \n",
       "Bank account or service                            test                 1447   \n",
       "                                                   train               11582   \n",
       "                                                   val                  1448   \n",
       "Checking or savings account                        test                 1262   \n",
       "                                                   train               10094   \n",
       "                                                   val                  1261   \n",
       "Consumer Loan                                      test                  919   \n",
       "                                                   train                7358   \n",
       "                                                   val                   920   \n",
       "Credit card                                        test                 1884   \n",
       "                                                   train               15070   \n",
       "                                                   val                  1884   \n",
       "Credit card or prepaid card                        test                 2096   \n",
       "                                                   train               16766   \n",
       "                                                   val                  2096   \n",
       "Credit reporting                                   test                 3159   \n",
       "                                                   train               25270   \n",
       "                                                   val                  3159   \n",
       "Credit reporting, credit repair services, or ot... test                 9176   \n",
       "                                                   train               73405   \n",
       "                                                   val                  9176   \n",
       "Debt collection                                    test                 8655   \n",
       "                                                   train               69240   \n",
       "                                                   val                  8655   \n",
       "Money transfer, virtual currency, or money service test                  501   \n",
       "                                                   train                4011   \n",
       "                                                   val                   502   \n",
       "Money transfers                                    test                  150   \n",
       "                                                   train                1198   \n",
       "                                                   val                   149   \n",
       "Mortgage                                           test                 5294   \n",
       "                                                   train               42348   \n",
       "                                                   val                  5293   \n",
       "Payday loan                                        test                  175   \n",
       "                                                   train                1398   \n",
       "                                                   val                   174   \n",
       "Payday loan, title loan, or personal loan          test                  392   \n",
       "                                                   train                3134   \n",
       "                                                   val                   392   \n",
       "Prepaid card                                       test                   73   \n",
       "                                                   train                 584   \n",
       "                                                   val                    73   \n",
       "Student loan                                       test                 2178   \n",
       "                                                   train               17423   \n",
       "                                                   val                  2178   \n",
       "Vehicle loan or lease                              test                  572   \n",
       "                                                   train                4581   \n",
       "                                                   val                   573   \n",
       "\n",
       "                                                              label  \n",
       "MAIN_PRODUCT                                       data_type         \n",
       "Bank account or service                            test        1447  \n",
       "                                                   train      11582  \n",
       "                                                   val         1448  \n",
       "Checking or savings account                        test        1262  \n",
       "                                                   train      10094  \n",
       "                                                   val         1261  \n",
       "Consumer Loan                                      test         919  \n",
       "                                                   train       7358  \n",
       "                                                   val          920  \n",
       "Credit card                                        test        1884  \n",
       "                                                   train      15070  \n",
       "                                                   val         1884  \n",
       "Credit card or prepaid card                        test        2096  \n",
       "                                                   train      16766  \n",
       "                                                   val         2096  \n",
       "Credit reporting                                   test        3159  \n",
       "                                                   train      25270  \n",
       "                                                   val         3159  \n",
       "Credit reporting, credit repair services, or ot... test        9176  \n",
       "                                                   train      73405  \n",
       "                                                   val         9176  \n",
       "Debt collection                                    test        8655  \n",
       "                                                   train      69240  \n",
       "                                                   val         8655  \n",
       "Money transfer, virtual currency, or money service test         501  \n",
       "                                                   train       4011  \n",
       "                                                   val          502  \n",
       "Money transfers                                    test         150  \n",
       "                                                   train       1198  \n",
       "                                                   val          149  \n",
       "Mortgage                                           test        5294  \n",
       "                                                   train      42348  \n",
       "                                                   val         5293  \n",
       "Payday loan                                        test         175  \n",
       "                                                   train       1398  \n",
       "                                                   val          174  \n",
       "Payday loan, title loan, or personal loan          test         392  \n",
       "                                                   train       3134  \n",
       "                                                   val          392  \n",
       "Prepaid card                                       test          73  \n",
       "                                                   train        584  \n",
       "                                                   val           73  \n",
       "Student loan                                       test        2178  \n",
       "                                                   train      17423  \n",
       "                                                   val         2178  \n",
       "Vehicle loan or lease                              test         572  \n",
       "                                                   train       4581  \n",
       "                                                   val          573  "
      ]
     },
     "execution_count": 22,
     "metadata": {
      "tags": []
     },
     "output_type": "execute_result"
    }
   ],
   "source": [
    "df[['MAIN_PRODUCT', 'COMPLAINT_TEXT', 'label', 'data_type']].groupby(['MAIN_PRODUCT', 'data_type']).count()"
   ]
  },
  {
   "cell_type": "code",
   "execution_count": 0,
   "metadata": {
    "colab": {
     "base_uri": "https://localhost:8080/",
     "height": 235
    },
    "colab_type": "code",
    "id": "JuznP3OwSX9p",
    "outputId": "dd569686-b94f-4612-bcbd-1fc3893ae2ee"
   },
   "outputs": [
    {
     "data": {
      "text/html": [
       "<div>\n",
       "<style scoped>\n",
       "    .dataframe tbody tr th:only-of-type {\n",
       "        vertical-align: middle;\n",
       "    }\n",
       "\n",
       "    .dataframe tbody tr th {\n",
       "        vertical-align: top;\n",
       "    }\n",
       "\n",
       "    .dataframe thead th {\n",
       "        text-align: right;\n",
       "    }\n",
       "</style>\n",
       "<table border=\"1\" class=\"dataframe\">\n",
       "  <thead>\n",
       "    <tr style=\"text-align: right;\">\n",
       "      <th></th>\n",
       "      <th>COMPLAINT_TEXT</th>\n",
       "      <th>PRODUCT_ID</th>\n",
       "      <th>MAIN_PRODUCT</th>\n",
       "      <th>SUB_PRODUCT</th>\n",
       "      <th>label</th>\n",
       "      <th>data_type</th>\n",
       "    </tr>\n",
       "    <tr>\n",
       "      <th>COMPLAINT_ID</th>\n",
       "      <th></th>\n",
       "      <th></th>\n",
       "      <th></th>\n",
       "      <th></th>\n",
       "      <th></th>\n",
       "      <th></th>\n",
       "    </tr>\n",
       "  </thead>\n",
       "  <tbody>\n",
       "    <tr>\n",
       "      <th>3184195</th>\n",
       "      <td>XXXX  and Transunion are reporting incorrectly...</td>\n",
       "      <td>26</td>\n",
       "      <td>Credit reporting, credit repair services, or o...</td>\n",
       "      <td>Credit reporting</td>\n",
       "      <td>0</td>\n",
       "      <td>train</td>\n",
       "    </tr>\n",
       "    <tr>\n",
       "      <th>3184692</th>\n",
       "      <td>XXXX and Transunion are reporting incorrectly ...</td>\n",
       "      <td>26</td>\n",
       "      <td>Credit reporting, credit repair services, or o...</td>\n",
       "      <td>Credit reporting</td>\n",
       "      <td>0</td>\n",
       "      <td>train</td>\n",
       "    </tr>\n",
       "    <tr>\n",
       "      <th>3183613</th>\n",
       "      <td>XXXX, XXXX, and Experian need to remove the co...</td>\n",
       "      <td>26</td>\n",
       "      <td>Credit reporting, credit repair services, or o...</td>\n",
       "      <td>Credit reporting</td>\n",
       "      <td>0</td>\n",
       "      <td>train</td>\n",
       "    </tr>\n",
       "    <tr>\n",
       "      <th>3182430</th>\n",
       "      <td>3 company with inconsistencies, violations and...</td>\n",
       "      <td>26</td>\n",
       "      <td>Credit reporting, credit repair services, or o...</td>\n",
       "      <td>Credit reporting</td>\n",
       "      <td>0</td>\n",
       "      <td>train</td>\n",
       "    </tr>\n",
       "    <tr>\n",
       "      <th>3182218</th>\n",
       "      <td>I have a personal loan from Patriot finance. T...</td>\n",
       "      <td>26</td>\n",
       "      <td>Credit reporting, credit repair services, or o...</td>\n",
       "      <td>Credit reporting</td>\n",
       "      <td>0</td>\n",
       "      <td>val</td>\n",
       "    </tr>\n",
       "  </tbody>\n",
       "</table>\n",
       "</div>"
      ],
      "text/plain": [
       "                                                 COMPLAINT_TEXT  PRODUCT_ID  \\\n",
       "COMPLAINT_ID                                                                  \n",
       "3184195       XXXX  and Transunion are reporting incorrectly...          26   \n",
       "3184692       XXXX and Transunion are reporting incorrectly ...          26   \n",
       "3183613       XXXX, XXXX, and Experian need to remove the co...          26   \n",
       "3182430       3 company with inconsistencies, violations and...          26   \n",
       "3182218       I have a personal loan from Patriot finance. T...          26   \n",
       "\n",
       "                                                   MAIN_PRODUCT  \\\n",
       "COMPLAINT_ID                                                      \n",
       "3184195       Credit reporting, credit repair services, or o...   \n",
       "3184692       Credit reporting, credit repair services, or o...   \n",
       "3183613       Credit reporting, credit repair services, or o...   \n",
       "3182430       Credit reporting, credit repair services, or o...   \n",
       "3182218       Credit reporting, credit repair services, or o...   \n",
       "\n",
       "                   SUB_PRODUCT  label data_type  \n",
       "COMPLAINT_ID                                     \n",
       "3184195       Credit reporting      0     train  \n",
       "3184692       Credit reporting      0     train  \n",
       "3183613       Credit reporting      0     train  \n",
       "3182430       Credit reporting      0     train  \n",
       "3182218       Credit reporting      0       val  "
      ]
     },
     "execution_count": 23,
     "metadata": {
      "tags": []
     },
     "output_type": "execute_result"
    }
   ],
   "source": [
    "df.head()"
   ]
  },
  {
   "cell_type": "code",
   "execution_count": 0,
   "metadata": {
    "colab": {},
    "colab_type": "code",
    "id": "08iB12ppToQI"
   },
   "outputs": [],
   "source": [
    "max_nb_words = 100000\n",
    "embedding_dim = 100\n",
    "max_length = 200\n",
    "trunc_type = 'post'\n",
    "padding_type = 'post'\n",
    "oov_tok = '<OOV>'\n",
    "training_portion = .8\n",
    "glove_dir = \"/content/gdrive/My Drive//glove/glove.6B.\"+str(embedding_dim)+\"d.txt\"\n",
    "\n",
    "stop_words = set(stopwords.words(\"english\"))"
   ]
  },
  {
   "cell_type": "code",
   "execution_count": 0,
   "metadata": {
    "colab": {
     "base_uri": "https://localhost:8080/",
     "height": 34
    },
    "colab_type": "code",
    "id": "fzkNjNnuSjet",
    "outputId": "8bf5b2ae-49e1-4b1e-cb78-1d0caa7eff58"
   },
   "outputs": [
    {
     "name": "stderr",
     "output_type": "stream",
     "text": [
      "100%|██████████| 379328/379328 [03:30<00:00, 1805.80it/s]\n"
     ]
    }
   ],
   "source": [
    "# Converting the text into lower case\n",
    "def clean_text(text):\n",
    "    text = text.lower()\n",
    "    text = re.sub(\"(@[A-Za-z0-9]+)|([^0-9A-Za-z \\t])|(\\w+:\\/\\/\\S+)|(\\d+)\",\" \",text)\n",
    "    text = re.sub(\"xxxx+\", \"\", text)\n",
    "    for word in stop_words:\n",
    "        token = \" \" + word + \" \"\n",
    "        text = text.replace(token, \" \")\n",
    "    text = re.compile(\" +\").sub(\" \", text)\n",
    "    return text\n",
    "    \n",
    "df.COMPLAINT_TEXT = df.COMPLAINT_TEXT.progress_map(clean_text)"
   ]
  },
  {
   "cell_type": "code",
   "execution_count": 0,
   "metadata": {
    "colab": {
     "base_uri": "https://localhost:8080/",
     "height": 235
    },
    "colab_type": "code",
    "id": "YdHm9zP4TWTj",
    "outputId": "1d92e9e1-5f37-49c8-c52b-4fbc2690a209"
   },
   "outputs": [
    {
     "data": {
      "text/html": [
       "<div>\n",
       "<style scoped>\n",
       "    .dataframe tbody tr th:only-of-type {\n",
       "        vertical-align: middle;\n",
       "    }\n",
       "\n",
       "    .dataframe tbody tr th {\n",
       "        vertical-align: top;\n",
       "    }\n",
       "\n",
       "    .dataframe thead th {\n",
       "        text-align: right;\n",
       "    }\n",
       "</style>\n",
       "<table border=\"1\" class=\"dataframe\">\n",
       "  <thead>\n",
       "    <tr style=\"text-align: right;\">\n",
       "      <th></th>\n",
       "      <th>COMPLAINT_TEXT</th>\n",
       "      <th>PRODUCT_ID</th>\n",
       "      <th>MAIN_PRODUCT</th>\n",
       "      <th>SUB_PRODUCT</th>\n",
       "      <th>label</th>\n",
       "      <th>data_type</th>\n",
       "    </tr>\n",
       "    <tr>\n",
       "      <th>COMPLAINT_ID</th>\n",
       "      <th></th>\n",
       "      <th></th>\n",
       "      <th></th>\n",
       "      <th></th>\n",
       "      <th></th>\n",
       "      <th></th>\n",
       "    </tr>\n",
       "  </thead>\n",
       "  <tbody>\n",
       "    <tr>\n",
       "      <th>3184195</th>\n",
       "      <td>transunion reporting incorrectly days past du...</td>\n",
       "      <td>26</td>\n",
       "      <td>Credit reporting, credit repair services, or o...</td>\n",
       "      <td>Credit reporting</td>\n",
       "      <td>0</td>\n",
       "      <td>train</td>\n",
       "    </tr>\n",
       "    <tr>\n",
       "      <th>3184692</th>\n",
       "      <td>transunion reporting incorrectly days past du...</td>\n",
       "      <td>26</td>\n",
       "      <td>Credit reporting, credit repair services, or o...</td>\n",
       "      <td>Credit reporting</td>\n",
       "      <td>0</td>\n",
       "      <td>train</td>\n",
       "    </tr>\n",
       "    <tr>\n",
       "      <th>3183613</th>\n",
       "      <td>experian need remove collection account submi...</td>\n",
       "      <td>26</td>\n",
       "      <td>Credit reporting, credit repair services, or o...</td>\n",
       "      <td>Credit reporting</td>\n",
       "      <td>0</td>\n",
       "      <td>train</td>\n",
       "    </tr>\n",
       "    <tr>\n",
       "      <th>3182430</th>\n",
       "      <td>company inconsistencies violations double jeo...</td>\n",
       "      <td>26</td>\n",
       "      <td>Credit reporting, credit repair services, or o...</td>\n",
       "      <td>Credit reporting</td>\n",
       "      <td>0</td>\n",
       "      <td>train</td>\n",
       "    </tr>\n",
       "    <tr>\n",
       "      <th>3182218</th>\n",
       "      <td>i personal loan patriot finance incorrectly re...</td>\n",
       "      <td>26</td>\n",
       "      <td>Credit reporting, credit repair services, or o...</td>\n",
       "      <td>Credit reporting</td>\n",
       "      <td>0</td>\n",
       "      <td>val</td>\n",
       "    </tr>\n",
       "  </tbody>\n",
       "</table>\n",
       "</div>"
      ],
      "text/plain": [
       "                                                 COMPLAINT_TEXT  PRODUCT_ID  \\\n",
       "COMPLAINT_ID                                                                  \n",
       "3184195        transunion reporting incorrectly days past du...          26   \n",
       "3184692        transunion reporting incorrectly days past du...          26   \n",
       "3183613        experian need remove collection account submi...          26   \n",
       "3182430        company inconsistencies violations double jeo...          26   \n",
       "3182218       i personal loan patriot finance incorrectly re...          26   \n",
       "\n",
       "                                                   MAIN_PRODUCT  \\\n",
       "COMPLAINT_ID                                                      \n",
       "3184195       Credit reporting, credit repair services, or o...   \n",
       "3184692       Credit reporting, credit repair services, or o...   \n",
       "3183613       Credit reporting, credit repair services, or o...   \n",
       "3182430       Credit reporting, credit repair services, or o...   \n",
       "3182218       Credit reporting, credit repair services, or o...   \n",
       "\n",
       "                   SUB_PRODUCT  label data_type  \n",
       "COMPLAINT_ID                                     \n",
       "3184195       Credit reporting      0     train  \n",
       "3184692       Credit reporting      0     train  \n",
       "3183613       Credit reporting      0     train  \n",
       "3182430       Credit reporting      0     train  \n",
       "3182218       Credit reporting      0       val  "
      ]
     },
     "execution_count": 26,
     "metadata": {
      "tags": []
     },
     "output_type": "execute_result"
    }
   ],
   "source": [
    "df.head()"
   ]
  },
  {
   "cell_type": "code",
   "execution_count": 0,
   "metadata": {
    "colab": {
     "base_uri": "https://localhost:8080/",
     "height": 71
    },
    "colab_type": "code",
    "id": "cP09ZZffTaJf",
    "outputId": "103f47f7-860a-41f9-ccea-859e985c1902"
   },
   "outputs": [
    {
     "name": "stdout",
     "output_type": "stream",
     "text": [
      "303462\n",
      " transunion reporting incorrectly days past due loans partial account numbers accounts reflect balance past due contacted two bureaus requested coding errors corrected incorrect reporting harming credit score impossible past due accounts balance past due \n"
     ]
    }
   ],
   "source": [
    "train_sentences = df[df.data_type == 'train'].COMPLAINT_TEXT.values\n",
    "print(len(train_sentences))\n",
    "print(train_sentences[0])"
   ]
  },
  {
   "cell_type": "code",
   "execution_count": 0,
   "metadata": {
    "colab": {
     "base_uri": "https://localhost:8080/",
     "height": 105
    },
    "colab_type": "code",
    "id": "VaQzAANhUZbr",
    "outputId": "3a0e85ee-9fee-45bf-da42-89ee78662a1a"
   },
   "outputs": [
    {
     "name": "stdout",
     "output_type": "stream",
     "text": [
      "37933\n",
      "i personal loan patriot finance incorrectly reporting loan derogatory status showing many days late payment agreement paying agreed account reflect \n",
      "37933\n",
      "i met requirements ability benefit exact letter law knowingly falsified findings continue garnish wages exactly person law designed simply ignored law continue ruin financially someone needs investigate continue let politicians get away type behavior please investigate department education collection agency use ruin peoples lives promise investigate case see met requirement ask look claim people committed fraud deny claim \n"
     ]
    }
   ],
   "source": [
    "validation_sentences = list(df[df.data_type == 'val'].COMPLAINT_TEXT.values)\n",
    "print(len(validation_sentences))\n",
    "print(validation_sentences[0])\n",
    "\n",
    "test_sentences = list(df[df.data_type == 'test'].COMPLAINT_TEXT.values)\n",
    "print(len(test_sentences))\n",
    "print(test_sentences[0])"
   ]
  },
  {
   "cell_type": "code",
   "execution_count": 0,
   "metadata": {
    "colab": {},
    "colab_type": "code",
    "id": "KPx9_SZpUub6"
   },
   "outputs": [],
   "source": [
    "from tensorflow.keras.utils import to_categorical\n",
    "\n",
    "def encode(data):\n",
    "    print('Shape of data (BEFORE encode): %s' % str(data.shape))\n",
    "    encoded = to_categorical(data)\n",
    "    print('Shape of data (AFTER  encode): %s\\n' % str(encoded.shape))\n",
    "    return encoded"
   ]
  },
  {
   "cell_type": "code",
   "execution_count": 0,
   "metadata": {
    "colab": {
     "base_uri": "https://localhost:8080/",
     "height": 170
    },
    "colab_type": "code",
    "id": "7s0BVsDgUesQ",
    "outputId": "eca7ac80-2748-40bf-ef72-fae0e0b6eca7"
   },
   "outputs": [
    {
     "name": "stdout",
     "output_type": "stream",
     "text": [
      "Shape of data (BEFORE encode): (303462,)\n",
      "Shape of data (AFTER  encode): (303462, 16)\n",
      "\n",
      "Shape of data (BEFORE encode): (37933,)\n",
      "Shape of data (AFTER  encode): (37933, 16)\n",
      "\n",
      "Shape of data (BEFORE encode): (37933,)\n",
      "Shape of data (AFTER  encode): (37933, 16)\n",
      "\n"
     ]
    }
   ],
   "source": [
    "train_labels = df[df.data_type == 'train'].label.values\n",
    "validation_labels = df[df.data_type == 'val'].label.values\n",
    "test_labels = df[df.data_type == 'test'].label.values\n",
    "train_labels = encode(train_labels)\n",
    "validation_labels = encode(validation_labels)\n",
    "test_labels = encode(test_labels)"
   ]
  },
  {
   "cell_type": "code",
   "execution_count": 0,
   "metadata": {
    "colab": {},
    "colab_type": "code",
    "id": "cXgCiG8DUwbZ"
   },
   "outputs": [],
   "source": [
    "import tensorflow as tf\n",
    "\n",
    "from tensorflow.keras.preprocessing.text import Tokenizer\n",
    "from tensorflow.keras.preprocessing.sequence import pad_sequences"
   ]
  },
  {
   "cell_type": "code",
   "execution_count": 0,
   "metadata": {
    "colab": {
     "base_uri": "https://localhost:8080/",
     "height": 119
    },
    "colab_type": "code",
    "id": "BjC0QMkcUzEO",
    "outputId": "b404c3f7-49e1-4ff8-9e9b-8d5c3a02d24a"
   },
   "outputs": [
    {
     "name": "stdout",
     "output_type": "stream",
     "text": [
      "34\n",
      "200\n",
      "34\n",
      "200\n",
      "7\n",
      "200\n"
     ]
    }
   ],
   "source": [
    "tokenizer = Tokenizer(num_words = max_nb_words, oov_token=oov_tok)\n",
    "tokenizer.fit_on_texts(train_sentences)\n",
    "word_index = tokenizer.word_index\n",
    "vocab_size = len(word_index)\n",
    "\n",
    "train_sequences = tokenizer.texts_to_sequences(train_sentences)\n",
    "train_padded = pad_sequences(train_sequences, padding=padding_type, truncating=trunc_type,maxlen=max_length)\n",
    "\n",
    "print(len(train_sequences[0]))\n",
    "print(len(train_padded[0]))\n",
    "\n",
    "print(len(train_sequences[1]))\n",
    "print(len(train_padded[1]))\n",
    "\n",
    "print(len(train_sequences[10]))\n",
    "print(len(train_padded[10]))"
   ]
  },
  {
   "cell_type": "code",
   "execution_count": 0,
   "metadata": {
    "colab": {},
    "colab_type": "code",
    "id": "s1QtjDNJU0o4"
   },
   "outputs": [],
   "source": [
    "val_sequences = tokenizer.texts_to_sequences(validation_sentences)\n",
    "val_padded = pad_sequences(val_sequences,padding=padding_type, truncating=trunc_type,maxlen=max_length)\n",
    "\n",
    "test_sequences = tokenizer.texts_to_sequences(test_sentences)\n",
    "test_padded = pad_sequences(test_sequences,padding=padding_type, truncating=trunc_type,maxlen=max_length)"
   ]
  },
  {
   "cell_type": "code",
   "execution_count": 0,
   "metadata": {
    "colab": {
     "base_uri": "https://localhost:8080/",
     "height": 51
    },
    "colab_type": "code",
    "id": "lqujAVj0VFgR",
    "outputId": "7d33a4ef-ab58-47df-a04e-17f222c47902"
   },
   "outputs": [
    {
     "name": "stdout",
     "output_type": "stream",
     "text": [
      "Loading GloVe from: /content/gdrive/My Drive//glove/glove.6B.100d.txt ...Done.\n",
      " Proceeding with Embedding Matrix... Completed!\n"
     ]
    }
   ],
   "source": [
    "embeddings_index = {}\n",
    "f = open(glove_dir)\n",
    "print('Loading GloVe from:', glove_dir,'...', end='')\n",
    "for line in f:\n",
    "    values = line.split()\n",
    "    word = values[0]\n",
    "    embeddings_index[word] = np.asarray(values[1:], dtype='float32')\n",
    "f.close()\n",
    "print(\"Done.\\n Proceeding with Embedding Matrix...\", end=\"\")\n",
    "\n",
    "embedding_matrix = np.random.random((len(word_index) + 1, embedding_dim))\n",
    "for word, i in word_index.items():\n",
    "    embedding_vector = embeddings_index.get(word)\n",
    "    if embedding_vector is not None:\n",
    "        embedding_matrix[i] = embedding_vector\n",
    "print(\" Completed!\")"
   ]
  },
  {
   "cell_type": "code",
   "execution_count": 0,
   "metadata": {
    "colab": {},
    "colab_type": "code",
    "id": "dMY4q0WkVICb"
   },
   "outputs": [],
   "source": [
    "def plot_graphs(history, string):\n",
    "  plt.plot(history.history[string])\n",
    "  plt.plot(history.history['val_'+string])\n",
    "  plt.xlabel(\"Epochs\")\n",
    "  plt.ylabel(string)\n",
    "  plt.legend([string, 'val_'+string])\n",
    "  plt.show()"
   ]
  },
  {
   "cell_type": "code",
   "execution_count": 0,
   "metadata": {
    "colab": {},
    "colab_type": "code",
    "id": "G4Tk71TvVKWc"
   },
   "outputs": [],
   "source": [
    "early_stopping = tf.keras.callbacks.EarlyStopping(monitor='val_loss', mode='min', patience=10)"
   ]
  },
  {
   "cell_type": "code",
   "execution_count": 0,
   "metadata": {
    "colab": {},
    "colab_type": "code",
    "id": "ANfmFMNpVVlb"
   },
   "outputs": [],
   "source": [
    "from sklearn.metrics import f1_score\n",
    "\n",
    "def f1_score_func(preds, labels):\n",
    "    preds_flat = np.argmax(preds, axis=1).flatten()\n",
    "    labels_flat = labels.flatten()\n",
    "    # return f1_score(labels_flat, preds_flat, average=None)\n",
    "    return f1_score(labels_flat, preds_flat, average='weighted')\n",
    "\n",
    "def accuracy_per_class(preds, labels):\n",
    "    label_dict_inverse = {v: k for k, v in main_prd_dict.items()}\n",
    "    preds_flat = np.argmax(preds, axis=1).flatten()\n",
    "    labels_flat = labels.flatten()\n",
    "    \n",
    "    for label in np.unique(labels_flat):\n",
    "        y_preds = preds_flat[labels_flat == label]\n",
    "        y_true = labels_flat[labels_flat == label]\n",
    "        print(f'Class: {label_dict_inverse[label]}')\n",
    "        print(f'Accuracy: {len(y_preds[y_preds==label])}/{len(y_true)}\\n')"
   ]
  },
  {
   "cell_type": "markdown",
   "metadata": {
    "colab_type": "text",
    "id": "doigb_24WQzL"
   },
   "source": [
    "# Model 7"
   ]
  },
  {
   "cell_type": "code",
   "execution_count": 0,
   "metadata": {
    "colab": {
     "base_uri": "https://localhost:8080/",
     "height": 391
    },
    "colab_type": "code",
    "id": "RsNVWMjvVb6m",
    "outputId": "d5cd1cb2-b688-4d85-e72b-78f8791807ac"
   },
   "outputs": [
    {
     "name": "stdout",
     "output_type": "stream",
     "text": [
      "Model: \"sequential\"\n",
      "_________________________________________________________________\n",
      "Layer (type)                 Output Shape              Param #   \n",
      "=================================================================\n",
      "embedding (Embedding)        (None, 200, 100)          9401100   \n",
      "_________________________________________________________________\n",
      "dropout (Dropout)            (None, 200, 100)          0         \n",
      "_________________________________________________________________\n",
      "global_average_pooling1d (Gl (None, 100)               0         \n",
      "_________________________________________________________________\n",
      "dropout_1 (Dropout)          (None, 100)               0         \n",
      "_________________________________________________________________\n",
      "dense (Dense)                (None, 128)               12928     \n",
      "_________________________________________________________________\n",
      "dropout_2 (Dropout)          (None, 128)               0         \n",
      "_________________________________________________________________\n",
      "dense_1 (Dense)              (None, 16)                2064      \n",
      "=================================================================\n",
      "Total params: 9,416,092\n",
      "Trainable params: 14,992\n",
      "Non-trainable params: 9,401,100\n",
      "_________________________________________________________________\n"
     ]
    }
   ],
   "source": [
    "model_7 = tf.keras.Sequential([\n",
    "    tf.keras.layers.Embedding(vocab_size+1, embedding_dim, input_length=max_length, weights=[embedding_matrix], trainable=False),\n",
    "    tf.keras.layers.Dropout(0.1),\n",
    "    tf.keras.layers.GlobalAveragePooling1D(),\n",
    "    tf.keras.layers.Dropout(0.1),\n",
    "    tf.keras.layers.Dense(128, activation='relu'),\n",
    "    tf.keras.layers.Dropout(0.1),\n",
    "    tf.keras.layers.Dense(16, activation='softmax')\n",
    "])\n",
    "adam = tf.keras.optimizers.Adam(lr=0.02)\n",
    "model_7.compile(loss='categorical_crossentropy',optimizer=adam,metrics=['accuracy'])\n",
    "model_7.summary()"
   ]
  },
  {
   "cell_type": "code",
   "execution_count": 0,
   "metadata": {
    "colab": {
     "base_uri": "https://localhost:8080/",
     "height": 663
    },
    "colab_type": "code",
    "id": "JfVcmtPcVxAK",
    "outputId": "048cb32a-f0fe-4748-ecfd-3bbcf97de264"
   },
   "outputs": [
    {
     "name": "stdout",
     "output_type": "stream",
     "text": [
      "Epoch 1/100\n",
      "149/149 [==============================] - 9s 59ms/step - loss: 1.9765 - accuracy: 0.3473 - val_loss: 1.7149 - val_accuracy: 0.4691\n",
      "Epoch 2/100\n",
      "149/149 [==============================] - 9s 58ms/step - loss: 1.7987 - accuracy: 0.4095 - val_loss: 1.6790 - val_accuracy: 0.4329\n",
      "Epoch 3/100\n",
      "149/149 [==============================] - 8s 57ms/step - loss: 1.7710 - accuracy: 0.4177 - val_loss: 1.6533 - val_accuracy: 0.4789\n",
      "Epoch 4/100\n",
      "149/149 [==============================] - 9s 58ms/step - loss: 1.7570 - accuracy: 0.4211 - val_loss: 1.6311 - val_accuracy: 0.4824\n",
      "Epoch 5/100\n",
      "149/149 [==============================] - 9s 58ms/step - loss: 1.7406 - accuracy: 0.4271 - val_loss: 1.6273 - val_accuracy: 0.4653\n",
      "Epoch 6/100\n",
      "149/149 [==============================] - 9s 57ms/step - loss: 1.7283 - accuracy: 0.4321 - val_loss: 1.6147 - val_accuracy: 0.4839\n",
      "Epoch 7/100\n",
      "149/149 [==============================] - 9s 57ms/step - loss: 1.7201 - accuracy: 0.4335 - val_loss: 1.6052 - val_accuracy: 0.4804\n",
      "Epoch 8/100\n",
      "149/149 [==============================] - 9s 58ms/step - loss: 1.7175 - accuracy: 0.4334 - val_loss: 1.6340 - val_accuracy: 0.4567\n",
      "Epoch 9/100\n",
      "149/149 [==============================] - 9s 58ms/step - loss: 1.7065 - accuracy: 0.4371 - val_loss: 1.5901 - val_accuracy: 0.4792\n",
      "Epoch 10/100\n",
      "149/149 [==============================] - 9s 58ms/step - loss: 1.7047 - accuracy: 0.4386 - val_loss: 1.6345 - val_accuracy: 0.4831\n",
      "Epoch 11/100\n",
      "149/149 [==============================] - 9s 57ms/step - loss: 1.6977 - accuracy: 0.4426 - val_loss: 1.6126 - val_accuracy: 0.4898\n",
      "Epoch 12/100\n",
      "149/149 [==============================] - 9s 58ms/step - loss: 1.6887 - accuracy: 0.4442 - val_loss: 1.6234 - val_accuracy: 0.4616\n",
      "Epoch 13/100\n",
      "149/149 [==============================] - 9s 57ms/step - loss: 1.6877 - accuracy: 0.4444 - val_loss: 1.5968 - val_accuracy: 0.4719\n",
      "Epoch 14/100\n",
      "149/149 [==============================] - 9s 58ms/step - loss: 1.6819 - accuracy: 0.4465 - val_loss: 1.6344 - val_accuracy: 0.4682\n",
      "Epoch 15/100\n",
      "149/149 [==============================] - 9s 58ms/step - loss: 1.6759 - accuracy: 0.4489 - val_loss: 1.6244 - val_accuracy: 0.4787\n",
      "Epoch 16/100\n",
      "149/149 [==============================] - 9s 58ms/step - loss: 1.6717 - accuracy: 0.4505 - val_loss: 1.6104 - val_accuracy: 0.4713\n",
      "Epoch 17/100\n",
      "149/149 [==============================] - 9s 57ms/step - loss: 1.6689 - accuracy: 0.4526 - val_loss: 1.5975 - val_accuracy: 0.4949\n",
      "Epoch 18/100\n",
      "149/149 [==============================] - 9s 58ms/step - loss: 1.6641 - accuracy: 0.4534 - val_loss: 1.5909 - val_accuracy: 0.4884\n",
      "Epoch 19/100\n",
      "149/149 [==============================] - 9s 58ms/step - loss: 1.6574 - accuracy: 0.4545 - val_loss: 1.6119 - val_accuracy: 0.4776\n"
     ]
    }
   ],
   "source": [
    "num_epochs = 100\n",
    "history_7 = model_7.fit(train_padded, \n",
    "                        train_labels, \n",
    "                        epochs=num_epochs,\n",
    "                        batch_size=2048,\n",
    "                        validation_data=(val_padded, validation_labels),\n",
    "                        callbacks = [early_stopping])"
   ]
  },
  {
   "cell_type": "code",
   "execution_count": 0,
   "metadata": {
    "colab": {
     "base_uri": "https://localhost:8080/",
     "height": 286
    },
    "colab_type": "code",
    "id": "lJRr3jUsWK7B",
    "outputId": "81dd6222-f6e8-4813-b476-4fa5439def42"
   },
   "outputs": [
    {
     "data": {
      "image/png": "[encoded data removed]",
      "text/plain": [
       "<Figure size 432x288 with 1 Axes>"
      ]
     },
     "metadata": {
      "tags": []
     },
     "output_type": "display_data"
    }
   ],
   "source": [
    "plot_graphs(history_7, 'accuracy')"
   ]
  },
  {
   "cell_type": "code",
   "execution_count": 0,
   "metadata": {
    "colab": {
     "base_uri": "https://localhost:8080/",
     "height": 285
    },
    "colab_type": "code",
    "id": "JTVL3pztWl1L",
    "outputId": "0e052869-5ff3-4912-d902-faaf533a8c5f"
   },
   "outputs": [
    {
     "data": {
      "image/png": "[encoded data removed]",
      "text/plain": [
       "<Figure size 432x288 with 1 Axes>"
      ]
     },
     "metadata": {
      "tags": []
     },
     "output_type": "display_data"
    }
   ],
   "source": [
    "plot_graphs(history_7, 'loss')"
   ]
  },
  {
   "cell_type": "code",
   "execution_count": 0,
   "metadata": {
    "colab": {
     "base_uri": "https://localhost:8080/",
     "height": 850
    },
    "colab_type": "code",
    "id": "duiyjgsnWnK2",
    "outputId": "b74d5fe1-e167-4a2a-88aa-08c3ebf43c3f"
   },
   "outputs": [
    {
     "name": "stdout",
     "output_type": "stream",
     "text": [
      "Class: Credit reporting, credit repair services, or other personal consumer reports\n",
      "Accuracy: 7858/9176\n",
      "\n",
      "Class: Debt collection\n",
      "Accuracy: 3964/8655\n",
      "\n",
      "Class: Student loan\n",
      "Accuracy: 876/2178\n",
      "\n",
      "Class: Credit card or prepaid card\n",
      "Accuracy: 507/2096\n",
      "\n",
      "Class: Mortgage\n",
      "Accuracy: 3889/5294\n",
      "\n",
      "Class: Checking or savings account\n",
      "Accuracy: 225/1262\n",
      "\n",
      "Class: Money transfer, virtual currency, or money service\n",
      "Accuracy: 37/501\n",
      "\n",
      "Class: Payday loan, title loan, or personal loan\n",
      "Accuracy: 1/392\n",
      "\n",
      "Class: Vehicle loan or lease\n",
      "Accuracy: 33/572\n",
      "\n",
      "Class: Credit card\n",
      "Accuracy: 169/1884\n",
      "\n",
      "Class: Credit reporting\n",
      "Accuracy: 10/3159\n",
      "\n",
      "Class: Consumer Loan\n",
      "Accuracy: 49/919\n",
      "\n",
      "Class: Prepaid card\n",
      "Accuracy: 0/73\n",
      "\n",
      "Class: Bank account or service\n",
      "Accuracy: 365/1447\n",
      "\n",
      "Class: Money transfers\n",
      "Accuracy: 3/150\n",
      "\n",
      "Class: Payday loan\n",
      "Accuracy: 0/175\n",
      "\n",
      "None\n"
     ]
    }
   ],
   "source": [
    "predictions = model_7.predict(test_padded)\n",
    "print(accuracy_per_class(predictions, np.array(df[df.data_type == 'test'].label)))"
   ]
  },
  {
   "cell_type": "code",
   "execution_count": 0,
   "metadata": {
    "colab": {
     "base_uri": "https://localhost:8080/",
     "height": 34
    },
    "colab_type": "code",
    "id": "xTE3uiacWvKZ",
    "outputId": "0eba7298-f7fc-4c36-ad46-d24f57c76774"
   },
   "outputs": [
    {
     "name": "stdout",
     "output_type": "stream",
     "text": [
      "0.415081897830139\n"
     ]
    }
   ],
   "source": [
    "print(f1_score_func(predictions, np.array(df[df.data_type == 'test'].label)))"
   ]
  },
  {
   "cell_type": "markdown",
   "metadata": {
    "colab_type": "text",
    "id": "IK4h7yN_XCO1"
   },
   "source": [
    "# Model 8\n",
    "\n",
    "Let us try fine tuning the glove embedding"
   ]
  },
  {
   "cell_type": "code",
   "execution_count": 0,
   "metadata": {
    "colab": {
     "base_uri": "https://localhost:8080/",
     "height": 391
    },
    "colab_type": "code",
    "id": "Lp1DMil3XBYW",
    "outputId": "2648906f-cab8-4ef3-dee1-21ca5fe70c7c"
   },
   "outputs": [
    {
     "name": "stdout",
     "output_type": "stream",
     "text": [
      "Model: \"sequential_1\"\n",
      "_________________________________________________________________\n",
      "Layer (type)                 Output Shape              Param #   \n",
      "=================================================================\n",
      "embedding_1 (Embedding)      (None, 200, 100)          9401100   \n",
      "_________________________________________________________________\n",
      "dropout_3 (Dropout)          (None, 200, 100)          0         \n",
      "_________________________________________________________________\n",
      "global_average_pooling1d_1 ( (None, 100)               0         \n",
      "_________________________________________________________________\n",
      "dropout_4 (Dropout)          (None, 100)               0         \n",
      "_________________________________________________________________\n",
      "dense_2 (Dense)              (None, 128)               12928     \n",
      "_________________________________________________________________\n",
      "dropout_5 (Dropout)          (None, 128)               0         \n",
      "_________________________________________________________________\n",
      "dense_3 (Dense)              (None, 16)                2064      \n",
      "=================================================================\n",
      "Total params: 9,416,092\n",
      "Trainable params: 9,416,092\n",
      "Non-trainable params: 0\n",
      "_________________________________________________________________\n"
     ]
    }
   ],
   "source": [
    "model_8 = tf.keras.Sequential([\n",
    "    tf.keras.layers.Embedding(vocab_size+1, embedding_dim, input_length=max_length, weights=[embedding_matrix], trainable=True),\n",
    "    tf.keras.layers.Dropout(0.1),\n",
    "    tf.keras.layers.GlobalAveragePooling1D(),\n",
    "    tf.keras.layers.Dropout(0.1),\n",
    "    tf.keras.layers.Dense(128, activation='relu'),\n",
    "    tf.keras.layers.Dropout(0.1),\n",
    "    tf.keras.layers.Dense(16, activation='softmax')\n",
    "])\n",
    "adam = tf.keras.optimizers.Adam(lr=0.02)\n",
    "model_8.compile(loss='categorical_crossentropy',optimizer=adam,metrics=['accuracy'])\n",
    "model_8.summary()"
   ]
  },
  {
   "cell_type": "code",
   "execution_count": 0,
   "metadata": {
    "colab": {
     "base_uri": "https://localhost:8080/",
     "height": 527
    },
    "colab_type": "code",
    "id": "vUlwkFldXMKq",
    "outputId": "6a8f68d7-1ac1-4857-abf7-bb265d2bf107"
   },
   "outputs": [
    {
     "name": "stdout",
     "output_type": "stream",
     "text": [
      "Epoch 1/100\n",
      "149/149 [==============================] - 29s 197ms/step - loss: 1.3474 - accuracy: 0.5597 - val_loss: 0.8715 - val_accuracy: 0.6987\n",
      "Epoch 2/100\n",
      "149/149 [==============================] - 29s 195ms/step - loss: 0.8359 - accuracy: 0.7081 - val_loss: 0.7798 - val_accuracy: 0.7237\n",
      "Epoch 3/100\n",
      "149/149 [==============================] - 29s 196ms/step - loss: 0.7437 - accuracy: 0.7344 - val_loss: 0.7532 - val_accuracy: 0.7313\n",
      "Epoch 4/100\n",
      "149/149 [==============================] - 29s 194ms/step - loss: 0.6862 - accuracy: 0.7528 - val_loss: 0.7505 - val_accuracy: 0.7326\n",
      "Epoch 5/100\n",
      "149/149 [==============================] - 29s 194ms/step - loss: 0.6387 - accuracy: 0.7685 - val_loss: 0.7429 - val_accuracy: 0.7419\n",
      "Epoch 6/100\n",
      "149/149 [==============================] - 29s 196ms/step - loss: 0.5986 - accuracy: 0.7816 - val_loss: 0.7645 - val_accuracy: 0.7390\n",
      "Epoch 7/100\n",
      "149/149 [==============================] - 29s 195ms/step - loss: 0.5635 - accuracy: 0.7938 - val_loss: 0.7719 - val_accuracy: 0.7454\n",
      "Epoch 8/100\n",
      "149/149 [==============================] - 29s 196ms/step - loss: 0.5299 - accuracy: 0.8053 - val_loss: 0.8037 - val_accuracy: 0.7410\n",
      "Epoch 9/100\n",
      "149/149 [==============================] - 30s 199ms/step - loss: 0.4991 - accuracy: 0.8173 - val_loss: 0.8116 - val_accuracy: 0.7442\n",
      "Epoch 10/100\n",
      "149/149 [==============================] - 30s 199ms/step - loss: 0.4720 - accuracy: 0.8273 - val_loss: 0.8571 - val_accuracy: 0.7452\n",
      "Epoch 11/100\n",
      "149/149 [==============================] - 30s 198ms/step - loss: 0.4492 - accuracy: 0.8360 - val_loss: 0.8811 - val_accuracy: 0.7387\n",
      "Epoch 12/100\n",
      "149/149 [==============================] - 30s 198ms/step - loss: 0.4286 - accuracy: 0.8432 - val_loss: 0.9192 - val_accuracy: 0.7405\n",
      "Epoch 13/100\n",
      "149/149 [==============================] - 29s 197ms/step - loss: 0.4093 - accuracy: 0.8510 - val_loss: 0.9628 - val_accuracy: 0.7422\n",
      "Epoch 14/100\n",
      "149/149 [==============================] - 29s 197ms/step - loss: 0.3913 - accuracy: 0.8576 - val_loss: 0.9792 - val_accuracy: 0.7433\n",
      "Epoch 15/100\n",
      "149/149 [==============================] - 29s 197ms/step - loss: 0.3764 - accuracy: 0.8630 - val_loss: 1.0420 - val_accuracy: 0.7393\n"
     ]
    }
   ],
   "source": [
    "num_epochs = 100\n",
    "history_8 = model_8.fit(train_padded, \n",
    "                        train_labels, \n",
    "                        epochs=num_epochs,\n",
    "                        batch_size=2048,\n",
    "                        validation_data=(val_padded, validation_labels),\n",
    "                        callbacks = [early_stopping])"
   ]
  },
  {
   "cell_type": "code",
   "execution_count": 0,
   "metadata": {
    "colab": {
     "base_uri": "https://localhost:8080/",
     "height": 285
    },
    "colab_type": "code",
    "id": "vUUptpOAXOU9",
    "outputId": "b18e9e3c-70f5-4c1a-a6a7-111fea0fa169"
   },
   "outputs": [
    {
     "data": {
      "image/png": "[encoded data removed]",
      "text/plain": [
       "<Figure size 432x288 with 1 Axes>"
      ]
     },
     "metadata": {
      "tags": []
     },
     "output_type": "display_data"
    }
   ],
   "source": [
    "plot_graphs(history_8, 'accuracy')"
   ]
  },
  {
   "cell_type": "code",
   "execution_count": 0,
   "metadata": {
    "colab": {
     "base_uri": "https://localhost:8080/",
     "height": 285
    },
    "colab_type": "code",
    "id": "Zz52gfO5XUkY",
    "outputId": "685449c6-30a4-4363-a1ce-281c781debe9"
   },
   "outputs": [
    {
     "data": {
      "image/png": "[encoded data removed]",
      "text/plain": [
       "<Figure size 432x288 with 1 Axes>"
      ]
     },
     "metadata": {
      "tags": []
     },
     "output_type": "display_data"
    }
   ],
   "source": [
    "plot_graphs(history_8, 'loss')"
   ]
  },
  {
   "cell_type": "code",
   "execution_count": 0,
   "metadata": {
    "colab": {
     "base_uri": "https://localhost:8080/",
     "height": 850
    },
    "colab_type": "code",
    "id": "iNM5BEOkXVxz",
    "outputId": "9784d9b6-455b-49a7-a605-33c4b16a57f4"
   },
   "outputs": [
    {
     "name": "stdout",
     "output_type": "stream",
     "text": [
      "Class: Credit reporting, credit repair services, or other personal consumer reports\n",
      "Accuracy: 7344/9176\n",
      "\n",
      "Class: Debt collection\n",
      "Accuracy: 7675/8655\n",
      "\n",
      "Class: Student loan\n",
      "Accuracy: 1921/2178\n",
      "\n",
      "Class: Credit card or prepaid card\n",
      "Accuracy: 1125/2096\n",
      "\n",
      "Class: Mortgage\n",
      "Accuracy: 4929/5294\n",
      "\n",
      "Class: Checking or savings account\n",
      "Accuracy: 669/1262\n",
      "\n",
      "Class: Money transfer, virtual currency, or money service\n",
      "Accuracy: 353/501\n",
      "\n",
      "Class: Payday loan, title loan, or personal loan\n",
      "Accuracy: 131/392\n",
      "\n",
      "Class: Vehicle loan or lease\n",
      "Accuracy: 243/572\n",
      "\n",
      "Class: Credit card\n",
      "Accuracy: 950/1884\n",
      "\n",
      "Class: Credit reporting\n",
      "Accuracy: 1238/3159\n",
      "\n",
      "Class: Consumer Loan\n",
      "Accuracy: 360/919\n",
      "\n",
      "Class: Prepaid card\n",
      "Accuracy: 30/73\n",
      "\n",
      "Class: Bank account or service\n",
      "Accuracy: 805/1447\n",
      "\n",
      "Class: Money transfers\n",
      "Accuracy: 64/150\n",
      "\n",
      "Class: Payday loan\n",
      "Accuracy: 59/175\n",
      "\n",
      "None\n"
     ]
    }
   ],
   "source": [
    "predictions = model_8.predict(test_padded)\n",
    "print(accuracy_per_class(predictions, np.array(df[df.data_type == 'test'].label)))"
   ]
  },
  {
   "cell_type": "code",
   "execution_count": 0,
   "metadata": {
    "colab": {
     "base_uri": "https://localhost:8080/",
     "height": 34
    },
    "colab_type": "code",
    "id": "w3RVMVTMXcKd",
    "outputId": "e12c8a39-055d-4343-f890-e50f064d7693"
   },
   "outputs": [
    {
     "name": "stdout",
     "output_type": "stream",
     "text": [
      "0.7265221942153044\n"
     ]
    }
   ],
   "source": [
    "print(f1_score_func(predictions, np.array(df[df.data_type == 'test'].label)))"
   ]
  },
  {
   "cell_type": "markdown",
   "metadata": {
    "colab_type": "text",
    "id": "LDJw86SzGwb_"
   },
   "source": [
    "## The above plot shows that model 8 is overfitting though the f1 score is better than other models"
   ]
  },
  {
   "cell_type": "markdown",
   "metadata": {
    "colab_type": "text",
    "id": "og6bbHgqYwB1"
   },
   "source": [
    "# Model 9\n",
    "Let's try a bit more complicated model and see how it performs"
   ]
  },
  {
   "cell_type": "code",
   "execution_count": 0,
   "metadata": {
    "colab": {
     "base_uri": "https://localhost:8080/",
     "height": 527
    },
    "colab_type": "code",
    "id": "NzJ3kmlnXeOf",
    "outputId": "64a15615-728f-470e-e725-56d91d4389f6"
   },
   "outputs": [
    {
     "name": "stdout",
     "output_type": "stream",
     "text": [
      "Model: \"sequential\"\n",
      "_________________________________________________________________\n",
      "Layer (type)                 Output Shape              Param #   \n",
      "=================================================================\n",
      "embedding (Embedding)        (None, 200, 100)          9401200   \n",
      "_________________________________________________________________\n",
      "dropout (Dropout)            (None, 200, 100)          0         \n",
      "_________________________________________________________________\n",
      "conv1d (Conv1D)              (None, 196, 64)           32064     \n",
      "_________________________________________________________________\n",
      "max_pooling1d (MaxPooling1D) (None, 49, 64)            0         \n",
      "_________________________________________________________________\n",
      "dropout_1 (Dropout)          (None, 49, 64)            0         \n",
      "_________________________________________________________________\n",
      "bidirectional (Bidirectional (None, 49, 128)           66048     \n",
      "_________________________________________________________________\n",
      "dropout_2 (Dropout)          (None, 49, 128)           0         \n",
      "_________________________________________________________________\n",
      "lstm_1 (LSTM)                (None, 64)                49408     \n",
      "_________________________________________________________________\n",
      "dense (Dense)                (None, 64)                4160      \n",
      "_________________________________________________________________\n",
      "dropout_3 (Dropout)          (None, 64)                0         \n",
      "_________________________________________________________________\n",
      "dense_1 (Dense)              (None, 16)                1040      \n",
      "=================================================================\n",
      "Total params: 9,553,920\n",
      "Trainable params: 9,553,920\n",
      "Non-trainable params: 0\n",
      "_________________________________________________________________\n"
     ]
    }
   ],
   "source": [
    "model_9 = tf.keras.Sequential([\n",
    "        tf.keras.layers.Embedding(vocab_size+1, embedding_dim, input_length=max_length, weights=[embedding_matrix], trainable=True),\n",
    "        tf.keras.layers.Dropout(0.2),\n",
    "        tf.keras.layers.Conv1D(64, 5, activation='relu'),\n",
    "        tf.keras.layers.MaxPooling1D(pool_size=4),\n",
    "        tf.keras.layers.Dropout(0.2),\n",
    "        tf.keras.layers.Bidirectional(tf.keras.layers.LSTM(64, return_sequences=True)),\n",
    "        tf.keras.layers.Dropout(0.2),\n",
    "        tf.keras.layers.LSTM(64),\n",
    "        tf.keras.layers.Dense(64, activation='relu'),\n",
    "        tf.keras.layers.Dropout(0.2),\n",
    "        tf.keras.layers.Dense(16, activation='softmax')\n",
    "])\n",
    "\n",
    "adam = tf.keras.optimizers.Adam(lr=0.02)\n",
    "model_9.compile(loss='categorical_crossentropy',optimizer=adam,metrics=['accuracy'])\n",
    "model_9.summary()"
   ]
  },
  {
   "cell_type": "code",
   "execution_count": 0,
   "metadata": {
    "colab": {
     "base_uri": "https://localhost:8080/",
     "height": 1000
    },
    "colab_type": "code",
    "id": "lgc5OeSkY91W",
    "outputId": "c47ad636-dd4a-4075-eec3-85a962667195"
   },
   "outputs": [
    {
     "name": "stdout",
     "output_type": "stream",
     "text": [
      "Epoch 1/100\n",
      "149/149 [==============================] - 61s 407ms/step - loss: 1.7261 - accuracy: 0.4162 - val_loss: 1.2639 - val_accuracy: 0.5713\n",
      "Epoch 2/100\n",
      "149/149 [==============================] - 59s 394ms/step - loss: 1.1862 - accuracy: 0.6108 - val_loss: 1.0128 - val_accuracy: 0.6463\n",
      "Epoch 3/100\n",
      "149/149 [==============================] - 59s 397ms/step - loss: 1.0207 - accuracy: 0.6477 - val_loss: 0.9549 - val_accuracy: 0.6583\n",
      "Epoch 4/100\n",
      "149/149 [==============================] - 58s 392ms/step - loss: 0.9600 - accuracy: 0.6595 - val_loss: 0.9008 - val_accuracy: 0.6679\n",
      "Epoch 5/100\n",
      "149/149 [==============================] - 59s 397ms/step - loss: 0.9251 - accuracy: 0.6673 - val_loss: 0.9035 - val_accuracy: 0.6661\n",
      "Epoch 6/100\n",
      "149/149 [==============================] - 59s 395ms/step - loss: 0.9049 - accuracy: 0.6703 - val_loss: 0.8898 - val_accuracy: 0.6696\n",
      "Epoch 7/100\n",
      "149/149 [==============================] - 59s 398ms/step - loss: 0.8881 - accuracy: 0.6755 - val_loss: 0.8675 - val_accuracy: 0.6810\n",
      "Epoch 8/100\n",
      "149/149 [==============================] - 59s 396ms/step - loss: 0.8697 - accuracy: 0.6822 - val_loss: 0.8432 - val_accuracy: 0.6896\n",
      "Epoch 9/100\n",
      "149/149 [==============================] - 59s 397ms/step - loss: 0.8596 - accuracy: 0.6823 - val_loss: 0.8578 - val_accuracy: 0.6813\n",
      "Epoch 10/100\n",
      "149/149 [==============================] - 59s 394ms/step - loss: 0.8541 - accuracy: 0.6854 - val_loss: 0.8384 - val_accuracy: 0.6875\n",
      "Epoch 11/100\n",
      "149/149 [==============================] - 59s 398ms/step - loss: 0.8444 - accuracy: 0.6878 - val_loss: 0.8507 - val_accuracy: 0.6826\n",
      "Epoch 12/100\n",
      "149/149 [==============================] - 59s 394ms/step - loss: 0.8400 - accuracy: 0.6896 - val_loss: 0.8467 - val_accuracy: 0.6842\n",
      "Epoch 13/100\n",
      "149/149 [==============================] - 59s 399ms/step - loss: 0.8363 - accuracy: 0.6904 - val_loss: 0.8335 - val_accuracy: 0.6892\n",
      "Epoch 14/100\n",
      "149/149 [==============================] - 59s 393ms/step - loss: 0.8330 - accuracy: 0.6911 - val_loss: 0.8346 - val_accuracy: 0.6891\n",
      "Epoch 15/100\n",
      "149/149 [==============================] - 60s 402ms/step - loss: 0.8328 - accuracy: 0.6919 - val_loss: 0.8390 - val_accuracy: 0.6878\n",
      "Epoch 16/100\n",
      "149/149 [==============================] - 59s 399ms/step - loss: 0.8260 - accuracy: 0.6943 - val_loss: 0.8264 - val_accuracy: 0.6937\n",
      "Epoch 17/100\n",
      "149/149 [==============================] - 60s 405ms/step - loss: 0.8238 - accuracy: 0.6952 - val_loss: 0.8323 - val_accuracy: 0.6931\n",
      "Epoch 18/100\n",
      "149/149 [==============================] - 59s 399ms/step - loss: 0.8231 - accuracy: 0.6959 - val_loss: 0.8339 - val_accuracy: 0.6903\n",
      "Epoch 19/100\n",
      "149/149 [==============================] - 60s 403ms/step - loss: 0.8238 - accuracy: 0.6950 - val_loss: 0.8384 - val_accuracy: 0.6857\n",
      "Epoch 20/100\n",
      "149/149 [==============================] - 60s 401ms/step - loss: 0.8197 - accuracy: 0.6992 - val_loss: 0.8197 - val_accuracy: 0.6985\n",
      "Epoch 21/100\n",
      "149/149 [==============================] - 60s 404ms/step - loss: 0.8219 - accuracy: 0.6982 - val_loss: 0.8151 - val_accuracy: 0.6986\n",
      "Epoch 22/100\n",
      "149/149 [==============================] - 59s 399ms/step - loss: 0.8136 - accuracy: 0.7028 - val_loss: 0.8108 - val_accuracy: 0.7062\n",
      "Epoch 23/100\n",
      "149/149 [==============================] - 60s 403ms/step - loss: 0.8110 - accuracy: 0.7050 - val_loss: 0.8216 - val_accuracy: 0.7058\n",
      "Epoch 24/100\n",
      "149/149 [==============================] - 60s 400ms/step - loss: 0.8107 - accuracy: 0.7070 - val_loss: 0.8169 - val_accuracy: 0.7049\n",
      "Epoch 25/100\n",
      "149/149 [==============================] - 60s 402ms/step - loss: 0.8097 - accuracy: 0.7080 - val_loss: 0.8150 - val_accuracy: 0.7066\n",
      "Epoch 26/100\n",
      "149/149 [==============================] - 59s 398ms/step - loss: 0.8048 - accuracy: 0.7102 - val_loss: 0.8143 - val_accuracy: 0.7084\n",
      "Epoch 27/100\n",
      "149/149 [==============================] - 59s 399ms/step - loss: 0.8056 - accuracy: 0.7114 - val_loss: 0.8133 - val_accuracy: 0.7104\n",
      "Epoch 28/100\n",
      "149/149 [==============================] - 59s 394ms/step - loss: 0.8065 - accuracy: 0.7112 - val_loss: 0.8100 - val_accuracy: 0.7135\n",
      "Epoch 29/100\n",
      "149/149 [==============================] - 59s 396ms/step - loss: 0.8038 - accuracy: 0.7132 - val_loss: 0.8191 - val_accuracy: 0.7097\n",
      "Epoch 30/100\n",
      "149/149 [==============================] - 59s 398ms/step - loss: 0.8022 - accuracy: 0.7143 - val_loss: 0.8043 - val_accuracy: 0.7124\n",
      "Epoch 31/100\n",
      "149/149 [==============================] - 60s 400ms/step - loss: 0.8007 - accuracy: 0.7153 - val_loss: 0.8095 - val_accuracy: 0.7139\n",
      "Epoch 32/100\n",
      "149/149 [==============================] - 59s 399ms/step - loss: 0.7985 - accuracy: 0.7154 - val_loss: 0.8133 - val_accuracy: 0.7134\n",
      "Epoch 33/100\n",
      "149/149 [==============================] - 60s 400ms/step - loss: 0.7994 - accuracy: 0.7156 - val_loss: 0.8054 - val_accuracy: 0.7138\n",
      "Epoch 34/100\n",
      "149/149 [==============================] - 59s 397ms/step - loss: 0.7990 - accuracy: 0.7157 - val_loss: 0.8056 - val_accuracy: 0.7175\n",
      "Epoch 35/100\n",
      "149/149 [==============================] - 59s 399ms/step - loss: 0.7977 - accuracy: 0.7150 - val_loss: 0.7971 - val_accuracy: 0.7198\n",
      "Epoch 36/100\n",
      "149/149 [==============================] - 59s 397ms/step - loss: 0.8024 - accuracy: 0.7148 - val_loss: 0.8022 - val_accuracy: 0.7186\n",
      "Epoch 37/100\n",
      "149/149 [==============================] - 60s 401ms/step - loss: 0.8016 - accuracy: 0.7146 - val_loss: 0.8090 - val_accuracy: 0.7125\n",
      "Epoch 38/100\n",
      "149/149 [==============================] - 59s 397ms/step - loss: 0.8036 - accuracy: 0.7138 - val_loss: 0.8076 - val_accuracy: 0.7174\n",
      "Epoch 39/100\n",
      "149/149 [==============================] - 59s 399ms/step - loss: 0.8044 - accuracy: 0.7142 - val_loss: 0.8052 - val_accuracy: 0.7173\n",
      "Epoch 40/100\n",
      "149/149 [==============================] - 59s 394ms/step - loss: 0.8014 - accuracy: 0.7145 - val_loss: 0.8035 - val_accuracy: 0.7172\n",
      "Epoch 41/100\n",
      "149/149 [==============================] - 59s 399ms/step - loss: 0.8009 - accuracy: 0.7155 - val_loss: 0.8089 - val_accuracy: 0.7148\n",
      "Epoch 42/100\n",
      "149/149 [==============================] - 59s 395ms/step - loss: 0.7986 - accuracy: 0.7167 - val_loss: 0.8112 - val_accuracy: 0.7157\n",
      "Epoch 43/100\n",
      "149/149 [==============================] - 59s 396ms/step - loss: 0.7943 - accuracy: 0.7175 - val_loss: 0.7997 - val_accuracy: 0.7162\n",
      "Epoch 44/100\n",
      "149/149 [==============================] - 59s 393ms/step - loss: 0.7910 - accuracy: 0.7189 - val_loss: 0.8076 - val_accuracy: 0.7127\n",
      "Epoch 45/100\n",
      "149/149 [==============================] - 59s 395ms/step - loss: 0.7904 - accuracy: 0.7189 - val_loss: 0.8021 - val_accuracy: 0.7176\n"
     ]
    }
   ],
   "source": [
    "num_epochs = 100\n",
    "history_9 = model_9.fit(train_padded, \n",
    "                        train_labels, \n",
    "                        epochs=num_epochs,\n",
    "                        batch_size=2048,\n",
    "                        validation_data=(val_padded, validation_labels),\n",
    "                        callbacks = [early_stopping])"
   ]
  },
  {
   "cell_type": "code",
   "execution_count": 0,
   "metadata": {
    "colab": {
     "base_uri": "https://localhost:8080/",
     "height": 285
    },
    "colab_type": "code",
    "id": "cqN5JEmpaby_",
    "outputId": "248ff6e7-a2c4-4106-c6b0-e08f5205e23a"
   },
   "outputs": [
    {
     "data": {
      "image/png": "[encoded data removed]",
      "text/plain": [
       "<Figure size 432x288 with 1 Axes>"
      ]
     },
     "metadata": {
      "tags": []
     },
     "output_type": "display_data"
    }
   ],
   "source": [
    "plot_graphs(history_9, 'accuracy')"
   ]
  },
  {
   "cell_type": "code",
   "execution_count": 0,
   "metadata": {
    "colab": {
     "base_uri": "https://localhost:8080/",
     "height": 285
    },
    "colab_type": "code",
    "id": "XYHwdvp_eqd8",
    "outputId": "a7703841-a74f-407f-803c-4deb5844738b"
   },
   "outputs": [
    {
     "data": {
      "image/png": "[encoded data removed]",
      "text/plain": [
       "<Figure size 432x288 with 1 Axes>"
      ]
     },
     "metadata": {
      "tags": []
     },
     "output_type": "display_data"
    }
   ],
   "source": [
    "plot_graphs(history_9, 'loss')"
   ]
  },
  {
   "cell_type": "code",
   "execution_count": 0,
   "metadata": {
    "colab": {
     "base_uri": "https://localhost:8080/",
     "height": 850
    },
    "colab_type": "code",
    "id": "ADx5zFxPerqy",
    "outputId": "4524c6ec-4c45-4b3c-fcde-c2bb97ee8e42"
   },
   "outputs": [
    {
     "name": "stdout",
     "output_type": "stream",
     "text": [
      "Class: Credit reporting, credit repair services, or other personal consumer reports\n",
      "Accuracy: 7361/9176\n",
      "\n",
      "Class: Debt collection\n",
      "Accuracy: 7401/8655\n",
      "\n",
      "Class: Student loan\n",
      "Accuracy: 1948/2178\n",
      "\n",
      "Class: Credit card or prepaid card\n",
      "Accuracy: 1127/2096\n",
      "\n",
      "Class: Mortgage\n",
      "Accuracy: 5018/5294\n",
      "\n",
      "Class: Checking or savings account\n",
      "Accuracy: 593/1262\n",
      "\n",
      "Class: Money transfer, virtual currency, or money service\n",
      "Accuracy: 361/501\n",
      "\n",
      "Class: Payday loan, title loan, or personal loan\n",
      "Accuracy: 162/392\n",
      "\n",
      "Class: Vehicle loan or lease\n",
      "Accuracy: 223/572\n",
      "\n",
      "Class: Credit card\n",
      "Accuracy: 987/1884\n",
      "\n",
      "Class: Credit reporting\n",
      "Accuracy: 555/3159\n",
      "\n",
      "Class: Consumer Loan\n",
      "Accuracy: 365/919\n",
      "\n",
      "Class: Prepaid card\n",
      "Accuracy: 1/73\n",
      "\n",
      "Class: Bank account or service\n",
      "Accuracy: 918/1447\n",
      "\n",
      "Class: Money transfers\n",
      "Accuracy: 16/150\n",
      "\n",
      "Class: Payday loan\n",
      "Accuracy: 20/175\n",
      "\n",
      "None\n"
     ]
    }
   ],
   "source": [
    "predictions = model_9.predict(test_padded)\n",
    "print(accuracy_per_class(predictions, np.array(df[df.data_type == 'test'].label)))"
   ]
  },
  {
   "cell_type": "code",
   "execution_count": 0,
   "metadata": {
    "colab": {
     "base_uri": "https://localhost:8080/",
     "height": 34
    },
    "colab_type": "code",
    "id": "Z3fDyWhcewwL",
    "outputId": "6ff8afc0-5458-4248-b4a0-afafcba7efa6"
   },
   "outputs": [
    {
     "name": "stdout",
     "output_type": "stream",
     "text": [
      "0.6938246960064487\n"
     ]
    }
   ],
   "source": [
    "print(f1_score_func(predictions, np.array(df[df.data_type == 'test'].label)))"
   ]
  },
  {
   "cell_type": "code",
   "execution_count": 0,
   "metadata": {
    "colab": {},
    "colab_type": "code",
    "id": "04TieLUTiwkr"
   },
   "outputs": [],
   "source": [
    "# Save weights for model 9\n",
    "checkpoint_path = '/content/gdrive/My Drive/Revolut-challenge/model/model_9.h5'"
   ]
  },
  {
   "cell_type": "code",
   "execution_count": 0,
   "metadata": {
    "colab": {},
    "colab_type": "code",
    "id": "V9Vp-OcXiwhw"
   },
   "outputs": [],
   "source": [
    "model_9.save_weights(checkpoint_path)"
   ]
  },
  {
   "cell_type": "code",
   "execution_count": 0,
   "metadata": {
    "colab": {},
    "colab_type": "code",
    "id": "fEAq-X9zvknw"
   },
   "outputs": [],
   "source": [
    "loaded_model = tf.keras.Sequential([\n",
    "        tf.keras.layers.Embedding(vocab_size+1, embedding_dim, input_length=max_length, weights=[embedding_matrix], trainable=True),\n",
    "        tf.keras.layers.Dropout(0.2),\n",
    "        tf.keras.layers.Conv1D(64, 5, activation='relu'),\n",
    "        tf.keras.layers.MaxPooling1D(pool_size=4),\n",
    "        tf.keras.layers.Dropout(0.2),\n",
    "        tf.keras.layers.Bidirectional(tf.keras.layers.LSTM(64, return_sequences=True)),\n",
    "        tf.keras.layers.Dropout(0.2),\n",
    "        tf.keras.layers.LSTM(64),\n",
    "        tf.keras.layers.Dense(64, activation='relu'),\n",
    "        tf.keras.layers.Dropout(0.2),\n",
    "        tf.keras.layers.Dense(16, activation='softmax')\n",
    "])"
   ]
  },
  {
   "cell_type": "code",
   "execution_count": 0,
   "metadata": {
    "colab": {},
    "colab_type": "code",
    "id": "mCdMf0DivkkG"
   },
   "outputs": [],
   "source": [
    "loaded_model.load_weights(checkpoint_path)"
   ]
  },
  {
   "cell_type": "markdown",
   "metadata": {
    "colab_type": "text",
    "id": "6LxDyQ-Vk4vL"
   },
   "source": [
    "# Model 10"
   ]
  },
  {
   "cell_type": "code",
   "execution_count": 0,
   "metadata": {
    "colab": {
     "base_uri": "https://localhost:8080/",
     "height": 357
    },
    "colab_type": "code",
    "id": "rcElbxGAe1Vm",
    "outputId": "3ef73e1f-501d-4ade-858f-0622feacc119"
   },
   "outputs": [
    {
     "name": "stdout",
     "output_type": "stream",
     "text": [
      "Model: \"sequential_3\"\n",
      "_________________________________________________________________\n",
      "Layer (type)                 Output Shape              Param #   \n",
      "=================================================================\n",
      "embedding_3 (Embedding)      (None, 200, 100)          9401100   \n",
      "_________________________________________________________________\n",
      "dropout_10 (Dropout)         (None, 200, 100)          0         \n",
      "_________________________________________________________________\n",
      "conv1d_1 (Conv1D)            (None, 196, 64)           32064     \n",
      "_________________________________________________________________\n",
      "max_pooling1d_1 (MaxPooling1 (None, 49, 64)            0         \n",
      "_________________________________________________________________\n",
      "bidirectional_1 (Bidirection (None, 128)               66048     \n",
      "_________________________________________________________________\n",
      "dense_6 (Dense)              (None, 16)                2064      \n",
      "=================================================================\n",
      "Total params: 9,501,276\n",
      "Trainable params: 9,501,276\n",
      "Non-trainable params: 0\n",
      "_________________________________________________________________\n"
     ]
    }
   ],
   "source": [
    "model_10 = tf.keras.Sequential([\n",
    "    tf.keras.layers.Embedding(vocab_size+1, embedding_dim, input_length=max_length, weights=[embedding_matrix], trainable=True),\n",
    "    tf.keras.layers.Dropout(0.2),\n",
    "    tf.keras.layers.Conv1D(64, 5, activation='relu'),\n",
    "    tf.keras.layers.MaxPooling1D(pool_size=4),\n",
    "    tf.keras.layers.Bidirectional(tf.keras.layers.LSTM(64)),\n",
    "    tf.keras.layers.Dense(16, activation='softmax')\n",
    "])\n",
    "model_10.compile(loss='categorical_crossentropy',optimizer='adam',metrics=['accuracy'])\n",
    "model_10.summary()"
   ]
  },
  {
   "cell_type": "code",
   "execution_count": 0,
   "metadata": {
    "colab": {
     "base_uri": "https://localhost:8080/",
     "height": 765
    },
    "colab_type": "code",
    "id": "7MkFSjFnlA0e",
    "outputId": "465e246b-f041-4099-dda8-6aed1c3f6d7b"
   },
   "outputs": [
    {
     "name": "stdout",
     "output_type": "stream",
     "text": [
      "Epoch 1/100\n",
      "149/149 [==============================] - 36s 243ms/step - loss: 1.5088 - accuracy: 0.5195 - val_loss: 1.0352 - val_accuracy: 0.6569\n",
      "Epoch 2/100\n",
      "149/149 [==============================] - 35s 237ms/step - loss: 0.9649 - accuracy: 0.6713 - val_loss: 0.9018 - val_accuracy: 0.6883\n",
      "Epoch 3/100\n",
      "149/149 [==============================] - 36s 239ms/step - loss: 0.8564 - accuracy: 0.6986 - val_loss: 0.8297 - val_accuracy: 0.7075\n",
      "Epoch 4/100\n",
      "149/149 [==============================] - 36s 238ms/step - loss: 0.7997 - accuracy: 0.7155 - val_loss: 0.7954 - val_accuracy: 0.7181\n",
      "Epoch 5/100\n",
      "149/149 [==============================] - 35s 236ms/step - loss: 0.7602 - accuracy: 0.7279 - val_loss: 0.7555 - val_accuracy: 0.7271\n",
      "Epoch 6/100\n",
      "149/149 [==============================] - 35s 237ms/step - loss: 0.7301 - accuracy: 0.7376 - val_loss: 0.7554 - val_accuracy: 0.7303\n",
      "Epoch 7/100\n",
      "149/149 [==============================] - 35s 237ms/step - loss: 0.7045 - accuracy: 0.7473 - val_loss: 0.7303 - val_accuracy: 0.7394\n",
      "Epoch 8/100\n",
      "149/149 [==============================] - 36s 238ms/step - loss: 0.6810 - accuracy: 0.7556 - val_loss: 0.7275 - val_accuracy: 0.7411\n",
      "Epoch 9/100\n",
      "149/149 [==============================] - 35s 238ms/step - loss: 0.6592 - accuracy: 0.7631 - val_loss: 0.7063 - val_accuracy: 0.7449\n",
      "Epoch 10/100\n",
      "149/149 [==============================] - 35s 236ms/step - loss: 0.6378 - accuracy: 0.7708 - val_loss: 0.7074 - val_accuracy: 0.7442\n",
      "Epoch 11/100\n",
      "149/149 [==============================] - 35s 238ms/step - loss: 0.6160 - accuracy: 0.7788 - val_loss: 0.7006 - val_accuracy: 0.7506\n",
      "Epoch 12/100\n",
      "149/149 [==============================] - 36s 239ms/step - loss: 0.5982 - accuracy: 0.7856 - val_loss: 0.6944 - val_accuracy: 0.7535\n",
      "Epoch 13/100\n",
      "149/149 [==============================] - 35s 237ms/step - loss: 0.5807 - accuracy: 0.7924 - val_loss: 0.7012 - val_accuracy: 0.7535\n",
      "Epoch 14/100\n",
      "149/149 [==============================] - 35s 238ms/step - loss: 0.5640 - accuracy: 0.7985 - val_loss: 0.6983 - val_accuracy: 0.7514\n",
      "Epoch 15/100\n",
      "149/149 [==============================] - 36s 239ms/step - loss: 0.5466 - accuracy: 0.8050 - val_loss: 0.7059 - val_accuracy: 0.7525\n",
      "Epoch 16/100\n",
      "149/149 [==============================] - 35s 237ms/step - loss: 0.5320 - accuracy: 0.8107 - val_loss: 0.7188 - val_accuracy: 0.7488\n",
      "Epoch 17/100\n",
      "149/149 [==============================] - 36s 238ms/step - loss: 0.5183 - accuracy: 0.8157 - val_loss: 0.7069 - val_accuracy: 0.7549\n",
      "Epoch 18/100\n",
      "149/149 [==============================] - 35s 238ms/step - loss: 0.5049 - accuracy: 0.8202 - val_loss: 0.7160 - val_accuracy: 0.7529\n",
      "Epoch 19/100\n",
      "149/149 [==============================] - 36s 240ms/step - loss: 0.4901 - accuracy: 0.8257 - val_loss: 0.7299 - val_accuracy: 0.7507\n",
      "Epoch 20/100\n",
      "149/149 [==============================] - 36s 240ms/step - loss: 0.4790 - accuracy: 0.8298 - val_loss: 0.7292 - val_accuracy: 0.7521\n",
      "Epoch 21/100\n",
      "149/149 [==============================] - 36s 239ms/step - loss: 0.4667 - accuracy: 0.8340 - val_loss: 0.7302 - val_accuracy: 0.7548\n",
      "Epoch 22/100\n",
      "149/149 [==============================] - 36s 239ms/step - loss: 0.4553 - accuracy: 0.8381 - val_loss: 0.7370 - val_accuracy: 0.7542\n"
     ]
    }
   ],
   "source": [
    "num_epochs = 100\n",
    "history_10 = model_10.fit(train_padded, \n",
    "                        train_labels, \n",
    "                        epochs=num_epochs,\n",
    "                        batch_size=2048,\n",
    "                        validation_data=(val_padded, validation_labels),\n",
    "                        callbacks = [early_stopping])"
   ]
  },
  {
   "cell_type": "code",
   "execution_count": 0,
   "metadata": {
    "colab": {
     "base_uri": "https://localhost:8080/",
     "height": 286
    },
    "colab_type": "code",
    "id": "ZbLnWZBUlINg",
    "outputId": "d3544b7d-4e30-4d1d-a856-78dacf1187f0"
   },
   "outputs": [
    {
     "data": {
      "image/png": "[encoded data removed]",
      "text/plain": [
       "<Figure size 432x288 with 1 Axes>"
      ]
     },
     "metadata": {
      "tags": []
     },
     "output_type": "display_data"
    }
   ],
   "source": [
    "plot_graphs(history_10, 'accuracy')"
   ]
  },
  {
   "cell_type": "code",
   "execution_count": 0,
   "metadata": {
    "colab": {
     "base_uri": "https://localhost:8080/",
     "height": 285
    },
    "colab_type": "code",
    "id": "sryCFeh9lLrj",
    "outputId": "eef28925-a1e0-4142-b904-267e5d12faad"
   },
   "outputs": [
    {
     "data": {
      "image/png": "[encoded data removed]",
      "text/plain": [
       "<Figure size 432x288 with 1 Axes>"
      ]
     },
     "metadata": {
      "tags": []
     },
     "output_type": "display_data"
    }
   ],
   "source": [
    "plot_graphs(history_10, 'loss')"
   ]
  },
  {
   "cell_type": "code",
   "execution_count": 0,
   "metadata": {
    "colab": {
     "base_uri": "https://localhost:8080/",
     "height": 850
    },
    "colab_type": "code",
    "id": "gwwC5iuQlNLc",
    "outputId": "bf088e08-c2b2-48a6-c763-d2115add2452"
   },
   "outputs": [
    {
     "name": "stdout",
     "output_type": "stream",
     "text": [
      "Class: Credit reporting, credit repair services, or other personal consumer reports\n",
      "Accuracy: 7559/9176\n",
      "\n",
      "Class: Debt collection\n",
      "Accuracy: 7323/8655\n",
      "\n",
      "Class: Student loan\n",
      "Accuracy: 1953/2178\n",
      "\n",
      "Class: Credit card or prepaid card\n",
      "Accuracy: 1000/2096\n",
      "\n",
      "Class: Mortgage\n",
      "Accuracy: 4969/5294\n",
      "\n",
      "Class: Checking or savings account\n",
      "Accuracy: 655/1262\n",
      "\n",
      "Class: Money transfer, virtual currency, or money service\n",
      "Accuracy: 345/501\n",
      "\n",
      "Class: Payday loan, title loan, or personal loan\n",
      "Accuracy: 169/392\n",
      "\n",
      "Class: Vehicle loan or lease\n",
      "Accuracy: 161/572\n",
      "\n",
      "Class: Credit card\n",
      "Accuracy: 1106/1884\n",
      "\n",
      "Class: Credit reporting\n",
      "Accuracy: 755/3159\n",
      "\n",
      "Class: Consumer Loan\n",
      "Accuracy: 405/919\n",
      "\n",
      "Class: Prepaid card\n",
      "Accuracy: 1/73\n",
      "\n",
      "Class: Bank account or service\n",
      "Accuracy: 836/1447\n",
      "\n",
      "Class: Money transfers\n",
      "Accuracy: 43/150\n",
      "\n",
      "Class: Payday loan\n",
      "Accuracy: 0/175\n",
      "\n",
      "None\n"
     ]
    }
   ],
   "source": [
    "predictions = model_10.predict(test_padded)\n",
    "print(accuracy_per_class(predictions, np.array(df[df.data_type == 'test'].label)))"
   ]
  },
  {
   "cell_type": "code",
   "execution_count": 0,
   "metadata": {
    "colab": {
     "base_uri": "https://localhost:8080/",
     "height": 34
    },
    "colab_type": "code",
    "id": "PR1KhCeDlTog",
    "outputId": "b7860de9-1813-42a5-c419-79934a3e12bc"
   },
   "outputs": [
    {
     "name": "stdout",
     "output_type": "stream",
     "text": [
      "0.702706862283058\n"
     ]
    }
   ],
   "source": [
    "print(f1_score_func(predictions, np.array(df[df.data_type == 'test'].label)))"
   ]
  },
  {
   "cell_type": "markdown",
   "metadata": {
    "colab_type": "text",
    "id": "bXmXV-25GHJF"
   },
   "source": [
    "# Summary:\n",
    "Model 9 seems to be the best model that generalises well on validation data and with no over-fitting. The overall accuracy on validation data is close to 75% which is not that bad. We can expect this model to perform reasonably well on unseen textual data."
   ]
  },
  {
   "cell_type": "markdown",
   "metadata": {
    "colab_type": "text",
    "id": "yFcUAhlzHN0m"
   },
   "source": [
    "# If More time and better infrastructure:\n",
    "* The data is highly imbalance and the actual task is to predict at Product Id level. Would have used upsampling techniques or some generative models to generate examples for minor classes. Or could have explored options to downsample major classes. Even at the Main Product level the data is highly imbalance.\n",
    "\n",
    "* Would have tried ElMo embeddings on both traditional algorithms like Random Forest, Naive Bayes, SVM models or Neural Network models to check the performance compare to Glove Embeddings that I used currently.\n",
    "\n",
    "* Would have also tried BERT Sentence Classification model and checked it's performance.\n",
    "\n",
    "* I have also tried two step process to predict at the Sub Product level i.e. at the Product Id level by first developing model at Main Product level and then adding layers to predict sub products in order to generate product id by combining both the predictions. But the sub product id model is performing very poor. Would have explored more on this perspective and would have tried different models to comapre results\n",
    "\n",
    "* Would have spent more time exploring the users complaint texts data to identify some patterns using unsupervised methods like topic modeling or clustering\n",
    "\n",
    "* Currently used only Users Complaints and Products data but would have explored issues data as well to understand main issue and sub issue to identify features."
   ]
  },
  {
   "cell_type": "code",
   "execution_count": 0,
   "metadata": {
    "colab": {},
    "colab_type": "code",
    "id": "sFS0eMwFSQto"
   },
   "outputs": [],
   "source": []
  }
 ],
 "metadata": {
  "accelerator": "GPU",
  "colab": {
   "collapsed_sections": [],
   "name": "Classification_Model.ipynb",
   "provenance": [],
   "toc_visible": true
  },
  "kernelspec": {
   "display_name": "Python 3",
   "language": "python",
   "name": "python3"
  },
  "language_info": {
   "codemirror_mode": {
    "name": "ipython",
    "version": 3
   },
   "file_extension": ".py",
   "mimetype": "text/x-python",
   "name": "python",
   "nbconvert_exporter": "python",
   "pygments_lexer": "ipython3",
   "version": "3.7.6"
  }
 },
 "nbformat": 4,
 "nbformat_minor": 1
}
